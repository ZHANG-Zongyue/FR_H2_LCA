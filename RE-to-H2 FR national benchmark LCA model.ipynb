{
 "cells": [
  {
   "cell_type": "markdown",
   "metadata": {
    "heading_collapsed": true
   },
   "source": [
    "### This note book is mainly build by Zongyue ZHANG for EREGCE proceeding 2022 submission ‘Identify Parameters Hindering Renewable Hydrogen Production in France: Life Cycle Sensitivity and Uncertainty Analysis’"
   ]
  },
  {
   "cell_type": "markdown",
   "metadata": {},
   "source": [
    "# Environment perparing"
   ]
  },
  {
   "cell_type": "code",
   "execution_count": 1,
   "metadata": {
    "scrolled": false
   },
   "outputs": [
    {
     "data": {
      "text/html": [
       "<style>.container { width:70% !important; }</style>"
      ],
      "text/plain": [
       "<IPython.core.display.HTML object>"
      ]
     },
     "metadata": {},
     "output_type": "display_data"
    },
    {
     "name": "stderr",
     "output_type": "stream",
     "text": [
      "Deprecated : use initProject\n"
     ]
    },
    {
     "name": "stdout",
     "output_type": "stream",
     "text": [
      "Creating default biosphere\n",
      "\n"
     ]
    },
    {
     "name": "stderr",
     "output_type": "stream",
     "text": [
      "Writing activities to SQLite3 database:\n"
     ]
    },
    {
     "name": "stdout",
     "output_type": "stream",
     "text": [
      "Applying strategy: normalize_units\n",
      "Applying strategy: drop_unspecified_subcategories\n",
      "Applying strategy: ensure_categories_are_tuples\n",
      "Applied 3 strategies in 0.01 seconds\n"
     ]
    },
    {
     "name": "stderr",
     "output_type": "stream",
     "text": [
      "0% [##############################] 100% | ETA: 00:00:00\n",
      "Total time elapsed: 00:00:00\n"
     ]
    },
    {
     "name": "stdout",
     "output_type": "stream",
     "text": [
      "Title: Writing activities to SQLite3 database:\n",
      "  Started: 01/27/2022 15:43:19\n",
      "  Finished: 01/27/2022 15:43:20\n",
      "  Total time elapsed: 00:00:00\n",
      "  CPU %: 67.30\n",
      "  Memory %: 1.24\n",
      "Created database: biosphere3\n",
      "Creating default LCIA methods\n",
      "\n",
      "Applying strategy: normalize_units\n",
      "Applying strategy: set_biosphere_type\n",
      "Applying strategy: fix_ecoinvent_38_lcia_implementation\n",
      "Applying strategy: drop_unspecified_subcategories\n",
      "Applying strategy: link_iterable_by_fields\n",
      "Applied 5 strategies in 1.96 seconds\n",
      "Wrote 975 LCIA methods with 254388 characterization factors\n",
      "Creating core data migrations\n",
      "\n",
      "Extracting XML data from 18121 datasets\n",
      "Extracted 18121 datasets in 193.21 seconds\n",
      "Applying strategy: normalize_units\n",
      "Applying strategy: update_ecoinvent_locations\n",
      "Applying strategy: remove_zero_amount_coproducts\n",
      "Applying strategy: remove_zero_amount_inputs_with_no_activity\n",
      "Applying strategy: remove_unnamed_parameters\n",
      "Applying strategy: es2_assign_only_product_with_amount_as_reference_product\n",
      "Applying strategy: assign_single_product_as_activity\n",
      "Applying strategy: create_composite_code\n",
      "Applying strategy: drop_unspecified_subcategories\n",
      "Applying strategy: fix_ecoinvent_flows_pre35\n",
      "Applying strategy: drop_temporary_outdated_biosphere_flows\n",
      "Applying strategy: link_biosphere_by_flow_uuid\n",
      "Applying strategy: link_internal_technosphere_by_composite_code\n",
      "Applying strategy: delete_exchanges_missing_activity\n",
      "Applying strategy: delete_ghost_exchanges\n",
      "Applying strategy: remove_uncertainty_from_negative_loss_exchanges\n",
      "Applying strategy: fix_unreasonably_high_lognormal_uncertainties\n",
      "Applying strategy: set_lognormal_loc_value\n",
      "Applying strategy: convert_activity_parameters_to_list\n",
      "Applying strategy: add_cpc_classification_from_single_reference_product\n",
      "Applying strategy: delete_none_synonyms\n",
      "Applied 21 strategies in 10.96 seconds\n"
     ]
    },
    {
     "name": "stderr",
     "output_type": "stream",
     "text": [
      "Writing activities to SQLite3 database:\n"
     ]
    },
    {
     "name": "stdout",
     "output_type": "stream",
     "text": [
      "18121 datasets\n",
      "615644 exchanges\n",
      "0 unlinked exchanges\n",
      "  \n"
     ]
    },
    {
     "name": "stderr",
     "output_type": "stream",
     "text": [
      "0% [##############################] 100% | ETA: 00:00:00\n",
      "Total time elapsed: 00:02:13\n"
     ]
    },
    {
     "name": "stdout",
     "output_type": "stream",
     "text": [
      "Title: Writing activities to SQLite3 database:\n",
      "  Started: 01/27/2022 15:49:01\n",
      "  Finished: 01/27/2022 15:51:15\n",
      "  Total time elapsed: 00:02:13\n",
      "  CPU %: 63.40\n",
      "  Memory %: 19.95\n",
      "Created database: ecoinvent 3.6\n"
     ]
    }
   ],
   "source": [
    "# %matplotlib inline Notice: the import may take a longtime.\n",
    "from init_pv import *"
   ]
  },
  {
   "cell_type": "code",
   "execution_count": 2,
   "metadata": {},
   "outputs": [],
   "source": [
    "from brightway2 import *\n",
    "import pandas as pd\n",
    "import numpy as np\n",
    "import matplotlib.pyplot as plt\n",
    "%matplotlib inline"
   ]
  },
  {
   "cell_type": "code",
   "execution_count": 3,
   "metadata": {},
   "outputs": [],
   "source": [
    "import brightway2 as bw"
   ]
  },
  {
   "cell_type": "code",
   "execution_count": 4,
   "metadata": {},
   "outputs": [],
   "source": [
    "import pyprind"
   ]
  },
  {
   "cell_type": "code",
   "execution_count": 5,
   "metadata": {},
   "outputs": [],
   "source": [
    "def list_add(a,b):\n",
    "    c = []\n",
    "    for i in range(len(a)):\n",
    "        c.append(a[i]+b[i])\n",
    "    return c"
   ]
  },
  {
   "cell_type": "code",
   "execution_count": 7,
   "metadata": {},
   "outputs": [
    {
     "name": "stderr",
     "output_type": "stream",
     "text": [
      "Deprecated, use #setForeground() / setBackground() instead\n"
     ]
    }
   ],
   "source": [
    "SET_USER_DB('FR_H2_LCA')"
   ]
  },
  {
   "cell_type": "code",
   "execution_count": 8,
   "metadata": {},
   "outputs": [
    {
     "data": {
      "text/plain": [
       "'FR_H2_LCA'"
      ]
     },
     "execution_count": 8,
     "metadata": {},
     "output_type": "execute_result"
    }
   ],
   "source": [
    "USER_DB"
   ]
  },
  {
   "cell_type": "code",
   "execution_count": 9,
   "metadata": {
    "scrolled": true
   },
   "outputs": [
    {
     "data": {
      "text/plain": [
       "Databases dictionary with 3 object(s):\n",
       "\tFR_H2_LCA\n",
       "\tbiosphere3\n",
       "\tecoinvent 3.6"
      ]
     },
     "execution_count": 9,
     "metadata": {},
     "output_type": "execute_result"
    }
   ],
   "source": [
    "databases"
   ]
  },
  {
   "cell_type": "code",
   "execution_count": 1,
   "metadata": {},
   "outputs": [
    {
     "ename": "NameError",
     "evalue": "name 'bw' is not defined",
     "output_type": "error",
     "traceback": [
      "\u001b[1;31m---------------------------------------------------------------------------\u001b[0m",
      "\u001b[1;31mNameError\u001b[0m                                 Traceback (most recent call last)",
      "\u001b[1;32m~\\AppData\\Local\\Temp/ipykernel_9640/1537476435.py\u001b[0m in \u001b[0;36m<module>\u001b[1;34m\u001b[0m\n\u001b[1;32m----> 1\u001b[1;33m \u001b[0mbdb\u001b[0m \u001b[1;33m=\u001b[0m \u001b[0mbw\u001b[0m\u001b[1;33m.\u001b[0m\u001b[0mDatabase\u001b[0m\u001b[1;33m(\u001b[0m\u001b[1;34m'IEA-PVPS-LCI-19'\u001b[0m\u001b[1;33m)\u001b[0m\u001b[1;33m\u001b[0m\u001b[1;33m\u001b[0m\u001b[0m\n\u001b[0m\u001b[0;32m      2\u001b[0m \u001b[0mbdb\u001b[0m\u001b[1;33m.\u001b[0m\u001b[0mderegister\u001b[0m\u001b[1;33m(\u001b[0m\u001b[1;33m)\u001b[0m\u001b[1;33m\u001b[0m\u001b[1;33m\u001b[0m\u001b[0m\n",
      "\u001b[1;31mNameError\u001b[0m: name 'bw' is not defined"
     ]
    }
   ],
   "source": [
    "bdb = bw.Database('IEA-PVPS-LCI-19')\n",
    "bdb.deregister()"
   ]
  },
  {
   "cell_type": "code",
   "execution_count": 2,
   "metadata": {},
   "outputs": [
    {
     "ename": "NameError",
     "evalue": "name 'bw' is not defined",
     "output_type": "error",
     "traceback": [
      "\u001b[1;31m---------------------------------------------------------------------------\u001b[0m",
      "\u001b[1;31mNameError\u001b[0m                                 Traceback (most recent call last)",
      "\u001b[1;32m~\\AppData\\Local\\Temp/ipykernel_9640/2823218532.py\u001b[0m in \u001b[0;36m<module>\u001b[1;34m\u001b[0m\n\u001b[1;32m----> 1\u001b[1;33m \u001b[0mbdb\u001b[0m \u001b[1;33m=\u001b[0m \u001b[0mbw\u001b[0m\u001b[1;33m.\u001b[0m\u001b[0mDatabase\u001b[0m\u001b[1;33m(\u001b[0m\u001b[1;34m'IEA-PVPS-ThinfilmPV'\u001b[0m\u001b[1;33m)\u001b[0m\u001b[1;33m\u001b[0m\u001b[1;33m\u001b[0m\u001b[0m\n\u001b[0m\u001b[0;32m      2\u001b[0m \u001b[0mbdb\u001b[0m\u001b[1;33m.\u001b[0m\u001b[0mderegister\u001b[0m\u001b[1;33m(\u001b[0m\u001b[1;33m)\u001b[0m\u001b[1;33m\u001b[0m\u001b[1;33m\u001b[0m\u001b[0m\n",
      "\u001b[1;31mNameError\u001b[0m: name 'bw' is not defined"
     ]
    }
   ],
   "source": [
    "bdb = bw.Database('IEA-PVPS-ThinfilmPV')\n",
    "bdb.deregister()"
   ]
  },
  {
   "cell_type": "markdown",
   "metadata": {},
   "source": [
    "# Définition des impacts"
   ]
  },
  {
   "cell_type": "code",
   "execution_count": null,
   "metadata": {},
   "outputs": [],
   "source": [
    "ILCDM=bw2io.ExcelLCIAImporter(r'C:\\Users\\DELL\\学术\\ILCD MD.xlsx',name=('ILCD 2.0 2018 midpoint', 'resources', 'minerals and metals'),unit='kg Sb-Eq',description='ILCD 2018 midpoint',)\n",
    "ILCDM.extractor()\n",
    "\n",
    "ILCDM.apply_strategies()\n",
    "list(ILCDM.unlinked)\n",
    "ILCDM.write_methods()"
   ]
  },
  {
   "cell_type": "code",
   "execution_count": null,
   "metadata": {},
   "outputs": [],
   "source": [
    "ILCDM=bw2io.ExcelLCIAImporter(r'C:\\Users\\DELL\\学术\\ILCD EF\\importable\\CC_EF.xlsx',name=('ILCD 2.0 2018 midpoint', 'climate change', 'climate change total'),unit='kg CO2-Eq',description='ILCD 2018 midpoint')\n",
    "ILCDM.extractor()\n",
    "\n",
    "ILCDM.apply_strategies()\n",
    "list(ILCDM.unlinked)\n",
    "ILCDM.write_methods()"
   ]
  },
  {
   "cell_type": "code",
   "execution_count": null,
   "metadata": {},
   "outputs": [],
   "source": [
    "ILCDM=bw2io.ExcelLCIAImporter(r'C:\\Users\\DELL\\学术\\ILCD EF\\importable\\FTAP_EF.xlsx',name=('ILCD 2.0 2018 midpoint', 'ecosystem quality', 'freshwater and terrestrial acidification'),unit='mol H+-Eq',description='ILCD 2018 midpoint')\n",
    "ILCDM.extractor()\n",
    "\n",
    "ILCDM.apply_strategies()\n",
    "list(ILCDM.unlinked)\n",
    "ILCDM.write_methods()"
   ]
  },
  {
   "cell_type": "code",
   "execution_count": null,
   "metadata": {},
   "outputs": [],
   "source": [
    "ILCDM=bw2io.ExcelLCIAImporter(r'C:\\Users\\DELL\\学术\\ILCD EF\\importable\\carcinogenic_EF.xlsx',name=('ILCD 2.0 2018 midpoint', 'human health', 'carcinogenic effects'),unit='CTUh',description='ILCD 2018 midpoint')\n",
    "ILCDM.extractor()\n",
    "\n",
    "ILCDM.apply_strategies()\n",
    "list(ILCDM.unlinked)\n",
    "ILCDM.write_methods()"
   ]
  },
  {
   "cell_type": "code",
   "execution_count": null,
   "metadata": {},
   "outputs": [],
   "source": [
    "ILCDM=bw2io.ExcelLCIAImporter(r'C:\\Users\\DELL\\学术\\ILCD EF\\importable\\IRP_EF.xlsx',name=('ILCD 2.0 2018 midpoint', 'human health', 'ionising radiation'),unit='kg U235-Eq',description='ILCD 2018 midpoint')\n",
    "ILCDM.extractor()\n",
    "\n",
    "ILCDM.apply_strategies()\n",
    "list(ILCDM.unlinked)\n",
    "ILCDM.write_methods()"
   ]
  },
  {
   "cell_type": "code",
   "execution_count": null,
   "metadata": {},
   "outputs": [],
   "source": [
    "ILCDM=bw2io.ExcelLCIAImporter(r'C:\\Users\\DELL\\学术\\ILCD EF\\importable\\OLDP_EF.xlsx',name=('ILCD 2.0 2018 midpoint', 'human health', 'ozone layer depletion'),unit='kg CFC-11.',description='ILCD 2018 midpoint')\n",
    "ILCDM.extractor()\n",
    "\n",
    "ILCDM.apply_strategies()\n",
    "list(ILCDM.unlinked)\n",
    "ILCDM.write_methods()"
   ]
  },
  {
   "cell_type": "code",
   "execution_count": null,
   "metadata": {},
   "outputs": [],
   "source": [
    "ILCDM=bw2io.ExcelLCIAImporter(r'C:\\Users\\DELL\\学术\\ILCD EF\\importable\\POCP_EF.xlsx',name=('ILCD 2.0 2018 midpoint', 'human health', 'photochemical ozone creation'),unit='kg NMVOC-',description='ILCD 2018 midpoint')\n",
    "ILCDM.extractor()\n",
    "\n",
    "ILCDM.apply_strategies()\n",
    "list(ILCDM.unlinked)\n",
    "ILCDM.write_methods()"
   ]
  },
  {
   "cell_type": "code",
   "execution_count": null,
   "metadata": {},
   "outputs": [],
   "source": [
    "ILCDM=bw2io.ExcelLCIAImporter(r'C:\\Users\\DELL\\学术\\ILCD EF\\importable\\respiratory_EF.xlsx',name=('ILCD 2.0 2018 midpoint', 'human health', 'respiratory effects, inorganics'),unit='disease i.',description='ILCD 2018 midpoint')\n",
    "ILCDM.extractor()\n",
    "\n",
    "ILCDM.apply_strategies()\n",
    "list(ILCDM.unlinked)\n",
    "ILCDM.write_methods()"
   ]
  },
  {
   "cell_type": "code",
   "execution_count": null,
   "metadata": {},
   "outputs": [],
   "source": [
    "ILCDM=bw2io.ExcelLCIAImporter(r'C:\\Users\\DELL\\学术\\ILCD EF\\importable\\fossils_EF.xlsx',name=('ILCD 2.0 2018 midpoint', 'resources', 'fossils'),unit='megajoule',description='ILCD 2018 midpoint')\n",
    "ILCDM.extractor()\n",
    "\n",
    "ILCDM.apply_strategies()\n",
    "list(ILCDM.unlinked)\n",
    "\n",
    "#ILCDM.write_methods()\n",
    "#ExcelLCIAImporter.\n",
    "ILCDM.write_methods(overwrite=True)"
   ]
  },
  {
   "cell_type": "code",
   "execution_count": null,
   "metadata": {},
   "outputs": [],
   "source": [
    "ILCDM=bw2io.ExcelLCIAImporter(r'C:\\Users\\DELL\\学术\\ILCD EF\\importable\\land_EF.xlsx',name=('ILCD 2.0 2018 midpoint', 'resources', 'land use'),unit='points',description='ILCD 2018 midpoint')\n",
    "ILCDM.extractor()\n",
    "\n",
    "ILCDM.apply_strategies()\n",
    "list(ILCDM.unlinked)\n",
    "ILCDM.write_methods(overwrite=True)"
   ]
  },
  {
   "cell_type": "code",
   "execution_count": null,
   "metadata": {},
   "outputs": [],
   "source": [
    "ILCDM=bw2io.ExcelLCIAImporter(r'C:\\Users\\DELL\\学术\\ILCD EF\\importable\\Water_EF.xlsx',name=('ILCD 2.0 2018 midpoint', 'resources', 'dissipated water'),unit='m3 water-',description='ILCD 2018 midpoint')\n",
    "ILCDM.extractor()\n",
    "\n",
    "ILCDM.apply_strategies()\n",
    "list(ILCDM.unlinked)\n",
    "\n",
    "#ILCDM.write_methods()\n",
    "#ExcelLCIAImporter.\n",
    "ILCDM.write_methods(overwrite=True)"
   ]
  },
  {
   "cell_type": "code",
   "execution_count": null,
   "metadata": {},
   "outputs": [],
   "source": [
    "# Préfixe commun\n",
    "ILCD = 'ILCD 2.0 2018 midpoint'\n",
    "\n",
    "# Les impacts sont des triplets d'identifiants de la base ecoinvent :\n",
    "CC = (ILCD, 'climate change', 'climate change total')\n",
    "FTAP = (ILCD, 'ecosystem quality', 'freshwater and terrestrial acidification')\n",
    "\n",
    "carcinogenic = (ILCD, 'human health', 'carcinogenic effects')\n",
    "IRP = (ILCD, 'human health', 'ionising radiation')\n",
    "\n",
    "OLDP = (ILCD, 'human health', 'ozone layer depletion')\n",
    "POCP = (ILCD, 'human health', 'photochemical ozone creation')\n",
    "respiratory = (ILCD, 'human health', 'respiratory effects, inorganics')\n",
    "fossils = (ILCD, 'resources', 'fossils')\n",
    "land = (ILCD, 'resources', 'land use')\n",
    "metal = (ILCD, 'resources', 'minerals and metals')\n",
    "Water = ('ILCD 2.0 2018 midpoint', 'resources', 'dissipated water')\n",
    "\n",
    "methods = [CC, FTAP, carcinogenic, IRP, OLDP, POCP, respiratory, fossils, land, metal, Water]\n",
    "# Affichage de la liste des impacts ainsi définie *\n",
    "methods"
   ]
  },
  {
   "cell_type": "markdown",
   "metadata": {},
   "source": [
    "# Comparsion between different PV panels in ecoinvent"
   ]
  },
  {
   "cell_type": "code",
   "execution_count": null,
   "metadata": {},
   "outputs": [],
   "source": [
    "eidb = bw.Database('ecoinvent 3.6')\n",
    "bio = bw.Database('biosphere3')"
   ]
  },
  {
   "cell_type": "code",
   "execution_count": null,
   "metadata": {},
   "outputs": [],
   "source": [
    "panneau1 = findTechAct('photovoltaic panel production, multi-Si wafer', 'RER')\n",
    "panneau2 = findTechAct('photovoltaic panel production, single-Si wafer', 'RER')\n",
    "panneau3 = findTechAct('photovoltaic panel production, ribbon-Si', 'RER')\n",
    "panneau4 = findTechAct('photovoltaic panel production, a-Si', 'RoW')\n",
    "panneau5 = findTechAct('photovoltaic panel production, CIS', 'DE')"
   ]
  },
  {
   "cell_type": "markdown",
   "metadata": {},
   "source": [
    "# Comparsion between different FR wind electricity in ecoinvent"
   ]
  },
  {
   "cell_type": "code",
   "execution_count": null,
   "metadata": {},
   "outputs": [],
   "source": [
    "w_carbon = findTechAct('spent activated carbon, granular, Recycled Content cut-off', 'GLO')"
   ]
  },
  {
   "cell_type": "code",
   "execution_count": null,
   "metadata": {},
   "outputs": [],
   "source": [
    "windelec1 = findTechAct('electricity production, wind, 1-3MW turbine, onshore', 'FR')\n",
    "windelec2 = findTechAct('electricity production, wind, <1MW turbine, onshore', 'FR')\n",
    "windelec3 = findTechAct('electricity production, wind, >3MW turbine, onshore', 'FR')"
   ]
  },
  {
   "cell_type": "markdown",
   "metadata": {},
   "source": [
    "# Comparsion between different concrete market in ecoinvent"
   ]
  },
  {
   "cell_type": "code",
   "execution_count": null,
   "metadata": {},
   "outputs": [],
   "source": [
    "#concrete_foundation = findTechAct('market for concrete, sole plate and foundation', 'CH')\n",
    "concrete_normal = findTechAct('market for concrete, normal', 'CH')\n",
    "concrete_medium = findTechAct('market for concrete, medium strength', 'RoW')\n",
    "concrete_40MPa = findTechAct('market for concrete, 40MPa', 'RoW')\n",
    "concrete_35MPa = findTechAct('market for concrete, 35MPa', 'RoW')\n",
    "concrete_20MPa = findTechAct('market for concrete, 20MPa', 'RoW')"
   ]
  },
  {
   "cell_type": "markdown",
   "metadata": {},
   "source": [
    "# lifecycle paramaters defination"
   ]
  },
  {
   "cell_type": "markdown",
   "metadata": {},
   "source": [
    "## Solar electricity mix in France"
   ]
  },
  {
   "cell_type": "markdown",
   "metadata": {},
   "source": [
    "### France’s PV panels market mix"
   ]
  },
  {
   "cell_type": "code",
   "execution_count": null,
   "metadata": {},
   "outputs": [],
   "source": [
    "# Poids d'un seul panneau\n",
    "Ratio_monoSi = newFloatParam(\n",
    "    \"Ratio_monoSi\", \n",
    "    distrib=DistributionType.TRIANGLE,\n",
    "    default=0.3304, min=0.301, max=0.49,\n",
    "    label_fr=\"Market share of monocrystalline silicon panels in France PV panels market\", \n",
    "    group=\"PV panel market\", \n",
    "    unit=\"Dimensionless\") "
   ]
  },
  {
   "cell_type": "code",
   "execution_count": null,
   "metadata": {},
   "outputs": [],
   "source": [
    "Ratio_thinfilm = newFloatParam(\n",
    "    \"Ratio_thinfilm\", \n",
    "    distrib=DistributionType.TRIANGLE,\n",
    "    default=0.0483, min=0.0483, max=0.1,\n",
    "    label_fr=\"Market share of thin film panels in France PV panels market\", \n",
    "    group=\"PV panel market\", \n",
    "    unit=\"Dimensionless\") \n"
   ]
  },
  {
   "cell_type": "code",
   "execution_count": null,
   "metadata": {},
   "outputs": [],
   "source": [
    "Ratio_multiSi = 1-Ratio_monoSi-Ratio_thinfilm"
   ]
  },
  {
   "cell_type": "code",
   "execution_count": null,
   "metadata": {},
   "outputs": [],
   "source": [
    "Ratio_CIGS_panel = newFloatParam(\n",
    "    \"Ratio_CIGS_panel\", \n",
    "    distrib=DistributionType.FIXED,\n",
    "    default=0.452339688041595,\n",
    "    label_fr=\"Market share of CIGS PV model in France thin film PV panels market\", \n",
    "    group=\"PV panel market\", \n",
    "    unit=\"Dimensionless\") \n"
   ]
  },
  {
   "cell_type": "code",
   "execution_count": null,
   "metadata": {},
   "outputs": [],
   "source": [
    "Ratio_CdTe_panel = newFloatParam(\n",
    "    \"Ratio_CdTe_panel\", \n",
    "    distrib=DistributionType.FIXED,\n",
    "    default=0.547660311958406,\n",
    "    label_fr=\"Market share of CdTe PV model in France thin film PV panels market\", \n",
    "    group=\"PV panel market\", \n",
    "    unit=\"Dimensionless\") \n"
   ]
  },
  {
   "cell_type": "markdown",
   "metadata": {},
   "source": [
    "### PV panel features"
   ]
  },
  {
   "cell_type": "code",
   "execution_count": null,
   "metadata": {},
   "outputs": [],
   "source": [
    "# Puissance crète d'un seul panneau \n",
    "P_peak = newFloatParam(\n",
    "    \"P_peak\", \n",
    "    distrib=DistributionType.TRIANGLE,\n",
    "    default=115.0558843, min=86.29191321, max=131.4924392,\n",
    "    label_fr=\"nominal maximum power of the PV panels per m2 under STC condiction\", \n",
    "    group=\"PV panel property\", \n",
    "    unit=\"Wp/m2\") "
   ]
  },
  {
   "cell_type": "code",
   "execution_count": null,
   "metadata": {},
   "outputs": [],
   "source": [
    "# Poids d'un seul panneau\n",
    "mass_monoSi_model = newFloatParam(\n",
    "    \"mass_monoSi_model\", \n",
    "    distrib=DistributionType.FIXED,\n",
    "    default=11*1.1927,\n",
    "    label_fr=\"mass of the monoSi PV panel assembly after framed per m2\", \n",
    "    group=\"PV panel property\", \n",
    "    unit=\"kg/m2\") \n",
    "#Ratio_monoSi, Ratio_thinfilm, Ratio_CIGS_panel, Ratio_CdTe_panel, P_peak, "
   ]
  },
  {
   "cell_type": "code",
   "execution_count": null,
   "metadata": {},
   "outputs": [],
   "source": [
    "# Poids d'un seul panneau\n",
    "mass_multiSi_model = newFloatParam(\n",
    "    \"mass_multiSi_model\", \n",
    "    distrib=DistributionType.FIXED,\n",
    "    default=11.1*1.192,\n",
    "    label_fr=\"mass of the multiSi panel assembly after framed per m2\", \n",
    "    group=\"PV panel property\", \n",
    "    unit=\"kg/m2\") \n"
   ]
  },
  {
   "cell_type": "code",
   "execution_count": null,
   "metadata": {},
   "outputs": [],
   "source": [
    "# Poids d'un seul panneau\n",
    "mass_CIGS_model = newFloatParam(\n",
    "    \"mass_CIGS_model\", \n",
    "    distrib=DistributionType.FIXED,\n",
    "    default=14.9*1.1479,\n",
    "    label_fr=\"mass of the CIGS panel assembly after framed per m2\", \n",
    "    group=\"PV panel property\", \n",
    "    unit=\"kg/m2\") \n"
   ]
  },
  {
   "cell_type": "code",
   "execution_count": null,
   "metadata": {},
   "outputs": [],
   "source": [
    "# Poids d'un seul panneau\n",
    "mass_CdTe_model = newFloatParam(\n",
    "    \"mass_CdTe_model\", \n",
    "    distrib=DistributionType.FIXED,\n",
    "    default=16.0*1.0203,\n",
    "    label_fr=\"mass of the CdTe panel assembly after framed per m2\", \n",
    "    group=\"PV panel property\", \n",
    "    unit=\"kg/m2\") \n"
   ]
  },
  {
   "cell_type": "markdown",
   "metadata": {},
   "source": [
    "### France’s solar irradiance and PV electricity generation"
   ]
  },
  {
   "cell_type": "code",
   "execution_count": null,
   "metadata": {},
   "outputs": [],
   "source": [
    "# Poids d'un seul panneau\n",
    "Irradiation = newFloatParam(\n",
    "    \"Irradiation\", \n",
    "    distrib=DistributionType.BETA,\n",
    "    default=1365427.47, std=2401025.42, a=1.7349385570023, b=6.82209511468792,\n",
    "    label_fr=\"Annual solar irradiance among the mainland of France\", \n",
    "    group=\"PV electricity production\", \n",
    "    unit=\"Wh/m2/yr\") "
   ]
  },
  {
   "cell_type": "code",
   "execution_count": null,
   "metadata": {},
   "outputs": [],
   "source": [
    "# Poids d'un seul panneau\n",
    "PR = newFloatParam(\n",
    "    \"performance_ratio\", \n",
    "    distrib=DistributionType.TRIANGLE,\n",
    "    default=0.8, min=0.5, max=0.9,\n",
    "    label_fr=\"performance ratio of the PV panels\", \n",
    "    group=\"PV electricity production\", \n",
    "    unit=\"Dimensionless\") \n"
   ]
  },
  {
   "cell_type": "code",
   "execution_count": null,
   "metadata": {},
   "outputs": [],
   "source": [
    "# Poids d'un seul panneau\n",
    "PVlife = newFloatParam(\n",
    "    \"PVlife\", \n",
    "    distrib=DistributionType.TRIANGLE,\n",
    "    default=30, min=20, max=40,\n",
    "    label_fr=\"lifetime of the PV panels\", \n",
    "    group=\"PV electricity production\", \n",
    "    unit=\"year\") \n"
   ]
  },
  {
   "cell_type": "code",
   "execution_count": null,
   "metadata": {},
   "outputs": [],
   "source": [
    "# Poids d'un seul panneau\n",
    "YLR = newFloatParam(\n",
    "    \"YLR\", \n",
    "    distrib=DistributionType.TRIANGLE,\n",
    "    default=0.007, min=0.005, max=0.009,\n",
    "    label_fr=\"yearly loss ratio of the PV panels\", \n",
    "    group=\"PV electricity production\", \n",
    "    unit=\"Dimensionless\") \n"
   ]
  },
  {
   "cell_type": "code",
   "execution_count": null,
   "metadata": {},
   "outputs": [],
   "source": [
    "# Poids d'un seul panneau\n",
    "Elec_MonoSi_ingot = newFloatParam(\n",
    "    \"Elec_MonoSi_ingot\", \n",
    "    distrib=DistributionType.TRIANGLE, # \n",
    "    default=32, min=10, max=150,\n",
    "    label_fr=\"Electricity consumption of Mono Si ingot production (Czochralski-process)\", \n",
    "    group=\"PV electricity production\", \n",
    "    unit=\"kWh/Kg Si ingot\") \n"
   ]
  },
  {
   "cell_type": "code",
   "execution_count": null,
   "metadata": {},
   "outputs": [],
   "source": [
    "# Poids d'un seul panneau\n",
    "Elec_MultiSi_ingot = newFloatParam(\n",
    "    \"Elec_MultiSi_ingot\", \n",
    "    distrib=DistributionType.TRIANGLE,\n",
    "    default=7, min=7, max=15,\n",
    "    label_fr=\"Electricity consumption of Multi Si ingot production (casted)\", \n",
    "    group=\"PV electricity production\", \n",
    "    unit=\"kWh/Kg Si ingot\") \n"
   ]
  },
  {
   "cell_type": "code",
   "execution_count": null,
   "metadata": {},
   "outputs": [],
   "source": [
    "# Poids d'un seul panneau\n",
    "GCR = newFloatParam(\n",
    "    \"GCR\", \n",
    "    distrib=DistributionType.TRIANGLE,\n",
    "    default=0.36, min=0.36, max=0.45,\n",
    "    label_fr=\"ground coverage ratio of the PV plant\", \n",
    "    group=\"PV electricity production\", \n",
    "    unit=\"Dimensionless\") \n"
   ]
  },
  {
   "cell_type": "code",
   "execution_count": null,
   "metadata": {},
   "outputs": [],
   "source": [
    "# Surface area for PV power plant \n",
    "surface_sol = newFloatParam(\n",
    "    \"surface_sol\", \n",
    "    distrib=DistributionType.FIXED,\n",
    "    default=100, \n",
    "    label_fr=\"Surface au sol pour l'installation des panneaux\", \n",
    "    group=\"PV electricity production\", \n",
    "    unit=\"m²\") "
   ]
  },
  {
   "cell_type": "code",
   "execution_count": null,
   "metadata": {},
   "outputs": [],
   "source": [
    "# ALR = average_efficiency_loss_ratio\n",
    "ALR = (200-YLR*(PVlife-1))/200"
   ]
  },
  {
   "cell_type": "code",
   "execution_count": null,
   "metadata": {},
   "outputs": [],
   "source": [
    "# surface_pv = the surface area of the PV panels in one specific PV plant\n",
    "surface_pv = surface_sol*GCR"
   ]
  },
  {
   "cell_type": "code",
   "execution_count": null,
   "metadata": {},
   "outputs": [],
   "source": [
    "# ELECpv = total amount of electricity generated during the whole lifecycle of the PV system, in KWh\n",
    "ELECpv = surface_pv*P_peak/1000*Irradiation/1000/1*PR*PVlife*ALR"
   ]
  },
  {
   "cell_type": "code",
   "execution_count": null,
   "metadata": {},
   "outputs": [],
   "source": [
    "ELECpv.subs([\n",
    "             (GCR,ParamDef.stat_value(GCR,mode=FixedParamMode.DEFAULT)),\n",
    "             (surface_sol,ParamDef.stat_value(surface_sol,mode=FixedParamMode.DEFAULT)),\n",
    "             (P_peak,ParamDef.stat_value(P_peak,mode=FixedParamMode.DEFAULT)),\n",
    "             (Irradiation,ParamDef.stat_value(Irradiation,mode=FixedParamMode.DEFAULT)),\n",
    "             (PR,ParamDef.stat_value(PR,mode=FixedParamMode.DEFAULT)),\n",
    "             (PVlife,ParamDef.stat_value(PVlife,mode=FixedParamMode.DEFAULT)),              \n",
    "             (YLR,ParamDef.stat_value(YLR,mode=FixedParamMode.DEFAULT)),\n",
    "             ])"
   ]
  },
  {
   "cell_type": "markdown",
   "metadata": {
    "heading_collapsed": true
   },
   "source": [
    "### Network connection unit & auxiliaries of solar power plant mix"
   ]
  },
  {
   "cell_type": "code",
   "execution_count": null,
   "metadata": {
    "hidden": true
   },
   "outputs": [],
   "source": [
    "PVInverter_life = newFloatParam(\n",
    "    \"PVInverter_life\", \n",
    "    distrib=DistributionType.TRIANGLE,\n",
    "    default=15, min=10, max=30,\n",
    "    label_fr=\"lifetime of inverter used in PV plant\", \n",
    "    group=\"Network connection unit & auxiliaries\", \n",
    "    unit=\"year\") \n"
   ]
  },
  {
   "cell_type": "code",
   "execution_count": null,
   "metadata": {
    "hidden": true
   },
   "outputs": [],
   "source": [
    "PVInverter_weight = newFloatParam(\n",
    "    \"PVInverter_weight\", \n",
    "    distrib=DistributionType.TRIANGLE,\n",
    "    default=2, min=1, max=4,\n",
    "    label_fr=\" Specific weight of inverter used in PV plant\", \n",
    "    group=\"Network connection unit & auxiliaries\", \n",
    "    unit=\"kg/KVA\") "
   ]
  },
  {
   "cell_type": "markdown",
   "metadata": {},
   "source": [
    "## Wind electricity mix in France"
   ]
  },
  {
   "cell_type": "markdown",
   "metadata": {
    "heading_collapsed": true
   },
   "source": [
    "### offshore and onshore wind electricity share"
   ]
  },
  {
   "cell_type": "code",
   "execution_count": null,
   "metadata": {
    "hidden": true
   },
   "outputs": [],
   "source": [
    "Elec_wind_total = newFloatParam(\n",
    "    \"Elec_wind_total\", \n",
    "    distrib=DistributionType.FIXED,\n",
    "    default=34.1,\n",
    "    label_fr=\"total wind electricity production in France 2019\", \n",
    "    group=\"wind electricity market\", \n",
    "    unit=\"Twh\") "
   ]
  },
  {
   "cell_type": "code",
   "execution_count": null,
   "metadata": {
    "hidden": true
   },
   "outputs": [],
   "source": [
    "Capacity_Offshore = newFloatParam(\n",
    "    \"Capacity_Offshore\", \n",
    "    distrib=DistributionType.TRIANGLE,\n",
    "    default=0.01, min=0.01, max=0.48,\n",
    "    label_fr=\"Installed capacity of the working offshore wind turbine in France 2019\", \n",
    "    group=\"wind electricity market\", \n",
    "    unit=\"GW\") "
   ]
  },
  {
   "cell_type": "code",
   "execution_count": null,
   "metadata": {
    "hidden": true
   },
   "outputs": [],
   "source": [
    "Cf_Offshore = newFloatParam(\n",
    "    \"Cf_Offshore\", \n",
    "    distrib=DistributionType.TRIANGLE,\n",
    "    default=0.38, min=0.33, max=0.55,\n",
    "    label_fr=\"Capacity factor of the working offshore wind turbine in France 2019\", \n",
    "    group=\"wind electricity market\", \n",
    "    unit=\"Dimensionless\") \n"
   ]
  },
  {
   "cell_type": "code",
   "execution_count": null,
   "metadata": {
    "hidden": true
   },
   "outputs": [],
   "source": [
    "Cf_Onshore = newFloatParam(\n",
    "    \"Cf_Onshore\", \n",
    "    distrib=DistributionType.NORMAL,\n",
    "    default=0.25, std=0.01,\n",
    "    label_fr=\"Capacity factor of the working onshore wind turbine in France 2019\", \n",
    "    group=\"wind electricity market\", \n",
    "    unit=\"Dimensionless\") \n"
   ]
  },
  {
   "cell_type": "code",
   "execution_count": null,
   "metadata": {
    "hidden": true
   },
   "outputs": [],
   "source": [
    "Turbine_life = newFloatParam(\n",
    "    \"Turbine_life\", \n",
    "    distrib=DistributionType.TRIANGLE,\n",
    "    default=20, min=15, max=25,\n",
    "    label_fr=\"Wind turbine life time\", \n",
    "    group=\"wind electricity market\", \n",
    "    unit=\"year\") "
   ]
  },
  {
   "cell_type": "code",
   "execution_count": null,
   "metadata": {
    "hidden": true
   },
   "outputs": [],
   "source": [
    "#Ratio_offshore = offshore wind electricity share in the total wind electricity production in France 2019\n",
    "Ratio_offshore =(Cf_Offshore*Capacity_Offshore*8760/1000)/Elec_wind_total"
   ]
  },
  {
   "cell_type": "code",
   "execution_count": null,
   "metadata": {
    "hidden": true,
    "scrolled": true
   },
   "outputs": [],
   "source": [
    "Ratio_offshore.subs([\n",
    "             (Cf_Offshore,ParamDef.stat_value(Cf_Offshore,mode=FixedParamMode.DEFAULT)),\n",
    "             (Capacity_Offshore,ParamDef.stat_value(Capacity_Offshore,mode=FixedParamMode.DEFAULT)),\n",
    "             (Elec_wind_total,ParamDef.stat_value(Elec_wind_total,mode=FixedParamMode.DEFAULT)),\n",
    "             ])"
   ]
  },
  {
   "cell_type": "code",
   "execution_count": null,
   "metadata": {
    "hidden": true
   },
   "outputs": [],
   "source": [
    "Ratio_onshore = 1-Ratio_offshore"
   ]
  },
  {
   "cell_type": "code",
   "execution_count": null,
   "metadata": {
    "hidden": true
   },
   "outputs": [],
   "source": [
    "Ratio_1MWturbine_onshore = newFloatParam(\n",
    "    \"Ratio_1MWturbine_onshore\", \n",
    "    distrib=DistributionType.LINEAR,\n",
    "    default=0.1127, min=0.06, max=0.1127,\n",
    "    label_fr=\"share of wind turbine assembly with capacity smaller than 1MW inside onshore wind turbine market in France\", \n",
    "    group=\"wind electricity market\", \n",
    "    unit=\"year\") "
   ]
  },
  {
   "cell_type": "code",
   "execution_count": null,
   "metadata": {
    "hidden": true
   },
   "outputs": [],
   "source": [
    "Ratio_3MWturbine_onshore = newFloatParam(\n",
    "    \"Ratio_3MWturbine_onshore\", \n",
    "    distrib=DistributionType.LINEAR,\n",
    "    default=0.065688073, min=0.004, max=0.065688073,\n",
    "    label_fr=\"share of wind turbine assembly with capacity bigger than 3MW inside onshore wind turbine market in France\", \n",
    "    group=\"wind electricity market\", \n",
    "    unit=\"year\") "
   ]
  },
  {
   "cell_type": "code",
   "execution_count": null,
   "metadata": {
    "hidden": true
   },
   "outputs": [],
   "source": [
    "Ratio_1_3MWturbine_onshore = 1-Ratio_3MWturbine_onshore-Ratio_1MWturbine_onshore"
   ]
  },
  {
   "cell_type": "markdown",
   "metadata": {
    "heading_collapsed": true
   },
   "source": [
    "### Network connection unit & auxiliaries of wind power plant mix"
   ]
  },
  {
   "cell_type": "code",
   "execution_count": null,
   "metadata": {
    "hidden": true
   },
   "outputs": [],
   "source": [
    "Wind_network_life = newFloatParam(\n",
    "    \"Wind_network_life\", \n",
    "    distrib=DistributionType.TRIANGLE,\n",
    "    default=20, min=15, max=25,\n",
    "    label_fr=\" Life of network connection unit & auxiliaries for wind plant\", \n",
    "    group=\"Network connection unit & auxiliaries\", \n",
    "    unit=\"year\") \n"
   ]
  },
  {
   "cell_type": "markdown",
   "metadata": {},
   "source": [
    "## Water electrolysis unit"
   ]
  },
  {
   "cell_type": "markdown",
   "metadata": {},
   "source": [
    "### efficiency and energy consumption "
   ]
  },
  {
   "cell_type": "code",
   "execution_count": null,
   "metadata": {},
   "outputs": [],
   "source": [
    "Effi_electrolysis = newFloatParam(\n",
    "    \"Effi_electrolysis\", \n",
    "    distrib=DistributionType.TRIANGLE,\n",
    "    default=0.6, min=0.5, max=0.7,\n",
    "    label_fr=\"Global efficiency for the electrolysis unit (both PEM and AWE unit)\", \n",
    "    group=\"Water electrolysis unit\", \n",
    "    unit=\"Dimensionless\") "
   ]
  },
  {
   "cell_type": "code",
   "execution_count": null,
   "metadata": {},
   "outputs": [],
   "source": [
    "Elec_H2_net = newFloatParam(\n",
    "    \"Elec_H2_net\", \n",
    "    distrib=DistributionType.FIXED,\n",
    "    default=55*0.6, \n",
    "    label_fr='the net electricity demand for water splitting in LHV KWh/ kg H2, with a 100% efficiency for all electrolyzer unit', \n",
    "    group=\"Water electrolysis unit\", # Groupe\n",
    "    unit=\"kWh/kg H2\") \n",
    "\n",
    "#rendement_electrolyseur = newFloatParam(\n",
    "#    \"rendement_electrolyseur\", \n",
    "#    distrib=DistributionType.FIXED,\n",
    "#    default=0.6, \n",
    "#    label_fr='rendement global de lelectrolyseur', # Label long 电解槽效率\n",
    "#    group=\"installation\", # Groupe\n",
    "#    unit=\"ratio\") "
   ]
  },
  {
   "cell_type": "code",
   "execution_count": null,
   "metadata": {},
   "outputs": [],
   "source": [
    "LHV_H2_KWh = newFloatParam(\n",
    "    \"LHV_H2_KWh\", \n",
    "    distrib=DistributionType.FIXED,\n",
    "    default=33.3,\n",
    "    label_fr=\"Low heating value per kg H2,KWh\", \n",
    "    group=\"Water electrolysis unit\", \n",
    "    unit=\"KWh/ kg H2\") "
   ]
  },
  {
   "cell_type": "code",
   "execution_count": null,
   "metadata": {},
   "outputs": [],
   "source": [
    "LHV_H2_MJ = newFloatParam(\n",
    "    \"LHV_H2_MJ\", \n",
    "    distrib=DistributionType.FIXED,\n",
    "    default=120,\n",
    "    label_fr=\"Low heating value per kg H2,MJ\", \n",
    "    group=\"Water electrolysis unit\", \n",
    "    unit=\"MJ/ kg H2\") "
   ]
  },
  {
   "cell_type": "markdown",
   "metadata": {},
   "source": [
    "### Alkaline electrolyzer"
   ]
  },
  {
   "cell_type": "markdown",
   "metadata": {
    "heading_collapsed": true
   },
   "source": [
    "#### Alkaline electrolyzer stack"
   ]
  },
  {
   "cell_type": "code",
   "execution_count": null,
   "metadata": {
    "hidden": true
   },
   "outputs": [],
   "source": [
    "AE_stack_life = newFloatParam(\n",
    "    \"AE_stack_life\", \n",
    "    distrib=DistributionType.TRIANGLE,\n",
    "    default=75000, min=60000, max=90000,\n",
    "    label_fr=\"Lifetime of AE stack\", \n",
    "    group=\"Water electrolysis unit\", \n",
    "    unit=\"hour\") "
   ]
  },
  {
   "cell_type": "markdown",
   "metadata": {},
   "source": [
    "### PEM electrolyzer"
   ]
  },
  {
   "cell_type": "code",
   "execution_count": null,
   "metadata": {},
   "outputs": [],
   "source": [
    "PEM_stack_life = newFloatParam(\n",
    "    \"PEM_stack_life\", \n",
    "    distrib=DistributionType.TRIANGLE,\n",
    "    default=50000, min=40000, max=60000,\n",
    "    label_fr=\"Lifetime of AE stack\", \n",
    "    group=\"Water electrolysis unit\", \n",
    "    unit=\"hour\") "
   ]
  },
  {
   "cell_type": "code",
   "execution_count": null,
   "metadata": {},
   "outputs": [],
   "source": [
    "BOP_life = newFloatParam(\n",
    "    \"BOP_life\", \n",
    "    distrib=DistributionType.TRIANGLE,\n",
    "    default=20, min=18, max=22,\n",
    "    label_fr=\"Lifetime of balance of plant (BOP) for both PEM and AE unit\", \n",
    "    group=\"Water electrolysis unit\", \n",
    "    unit=\"year\") "
   ]
  },
  {
   "cell_type": "markdown",
   "metadata": {},
   "source": [
    "## H2 compresseur"
   ]
  },
  {
   "cell_type": "code",
   "execution_count": null,
   "metadata": {},
   "outputs": [],
   "source": [
    "H2_unit = newFloatParam(\n",
    "    \"H2_unit\",\n",
    "    label_fr=\"total amount of H2 can be compressed during the entire lifespan of one compressor unit\",\n",
    "    distrib=DistributionType.TRIANGLE, \n",
    "    default=5906475.296, min=5020504.002,max=6792446.59,\n",
    "    group=\"H2_compressor\",\n",
    "    unit=\"kg/unit\",\n",
    ")"
   ]
  },
  {
   "cell_type": "code",
   "execution_count": null,
   "metadata": {},
   "outputs": [],
   "source": [
    "# Consommation electrique du compresseur pour 1kg d'H2 from 30 bar to 200 bar\n",
    "Elec_H2_compress = newFloatParam(\n",
    "    \"Elec_H2_compress\",\n",
    "    label_fr=\"Consommation electrique du compresseur pour 1kg d'H2 to 200bar\",\n",
    "    distrib=DistributionType.TRIANGLE, \n",
    "    default=3.91, min=2.7, max=3.91,\n",
    "    group=\"H2_compressor\",\n",
    "    unit=\"kWh/kg\",\n",
    ")"
   ]
  },
  {
   "cell_type": "markdown",
   "metadata": {},
   "source": [
    "## two stage transportation "
   ]
  },
  {
   "cell_type": "code",
   "execution_count": null,
   "metadata": {},
   "outputs": [],
   "source": [
    "# transportation distance through lorry\n",
    "d_lorry_pv_plant = newFloatParam(\n",
    "    \"d_lorry_pv_plant\",\n",
    "    distrib=DistributionType.TRIANGLE,\n",
    "    default=700, min=40 ,max=1400,\n",
    "    unit=\"km\",\n",
    "    group=\"transport\",\n",
    "    label_fr=\"Lorry transportation distance for companent in PV plant\")\n",
    "\n",
    "# transportation distance through train\n",
    "d_train_pv_plant = newFloatParam(\n",
    "    \"d_train_pv_plant\",\n",
    "    distrib=DistributionType.TRIANGLE,\n",
    "    default=300, min=0, max=600,\n",
    "    unit=\"km\",\n",
    "    group=\"transport\",\n",
    "    label_fr=\"Train transportation distance for companent in PV plant\")\n"
   ]
  },
  {
   "cell_type": "code",
   "execution_count": null,
   "metadata": {},
   "outputs": [],
   "source": [
    "# transportation distance through lorry\n",
    "d_lorry_wind_plant = newFloatParam(\n",
    "    \"d_lorry_wind_plant\",\n",
    "    distrib=DistributionType.TRIANGLE,\n",
    "    default=700, min=40 ,max=1400,\n",
    "    unit=\"km\",\n",
    "    group=\"transport\",\n",
    "    label_fr=\"Lorry transportation distance for companent in wind plant\")\n",
    "\n",
    "# transportation distance through train\n",
    "d_train_wind_plant = newFloatParam(\n",
    "    \"d_train_wind_plant\",\n",
    "    distrib=DistributionType.TRIANGLE,\n",
    "    default=300, min=0, max=600,\n",
    "    unit=\"km\",\n",
    "    group=\"transport\",\n",
    "    label_fr=\"Train transportation distance for companent in wind plant\")\n"
   ]
  },
  {
   "cell_type": "code",
   "execution_count": null,
   "metadata": {},
   "outputs": [],
   "source": [
    "# transportation distance through lorry\n",
    "d_lorry_stack = newFloatParam(\n",
    "    \"d_lorry_stack\",\n",
    "    distrib=DistributionType.TRIANGLE,\n",
    "    default=700, min=40 ,max=1400,\n",
    "    unit=\"km\",\n",
    "    group=\"transport\",\n",
    "    label_fr=\"Lorry transportation distance for companent in electrolyzer stack(both AE and PEM)\")\n",
    "\n",
    "# transportation distance through train\n",
    "d_train_stack = newFloatParam(\n",
    "    \"d_train_stack\",\n",
    "    distrib=DistributionType.TRIANGLE,\n",
    "    default=300, min=0, max=600,\n",
    "    unit=\"km\",\n",
    "    group=\"transport\",\n",
    "    label_fr=\"Train transportation distance for companent in electrolyzer stack(both AE and PEM)\")\n"
   ]
  },
  {
   "cell_type": "code",
   "execution_count": null,
   "metadata": {},
   "outputs": [],
   "source": [
    "# transportation distance through lorry\n",
    "d_lorry_BOP = newFloatParam(\n",
    "    \"d_lorry_BOP\",\n",
    "    distrib=DistributionType.TRIANGLE,\n",
    "    default=700, min=40 ,max=1400,\n",
    "    unit=\"km\",\n",
    "    group=\"transport\",\n",
    "    label_fr=\"Lorry transportation distance for companent in electrolyzer BOP (both AE and PEM)\")\n",
    "\n",
    "# transportation distance through train\n",
    "d_train_BOP = newFloatParam(\n",
    "    \"d_train_BOP\",\n",
    "    distrib=DistributionType.TRIANGLE,\n",
    "    default=300, min=0, max=600,\n",
    "    unit=\"km\",\n",
    "    group=\"transport\",\n",
    "    label_fr=\"Train transportation distance for companent in electrolyzer BOP (both AE and PEM)\")\n"
   ]
  },
  {
   "cell_type": "code",
   "execution_count": null,
   "metadata": {},
   "outputs": [],
   "source": [
    "Transport_ocean_wind= newFloatParam(\n",
    "    \"Transport_ocean_wind\",\n",
    "    distrib=DistributionType.TRIANGLE,\n",
    "    default=10, min=0, max=100,\n",
    "    unit=\"km\",\n",
    "    group=\"transport\",\n",
    "    label_fr=\"Distance for transport by train\")\n"
   ]
  },
  {
   "cell_type": "markdown",
   "metadata": {},
   "source": [
    "## Résumé des paramètres"
   ]
  },
  {
   "cell_type": "code",
   "execution_count": null,
   "metadata": {
    "scrolled": false
   },
   "outputs": [],
   "source": [
    "# Affichage compact de la liste des paramètres définis\n",
    "list_parameters()"
   ]
  },
  {
   "cell_type": "markdown",
   "metadata": {},
   "source": [
    "# system size and H2 production for each pathway"
   ]
  },
  {
   "cell_type": "code",
   "execution_count": null,
   "metadata": {},
   "outputs": [],
   "source": [
    "# FU: 1 MJ H2 produced and compressed to 200 bars"
   ]
  },
  {
   "cell_type": "code",
   "execution_count": null,
   "metadata": {},
   "outputs": [],
   "source": [
    "#Compressor_unit_FU= electricity needed for H2 compression per FU in solar-to-H2 pathway per FU, in year\n",
    "Compressor_energy_FU = Elec_H2_compress/LHV_H2_MJ"
   ]
  },
  {
   "cell_type": "code",
   "execution_count": null,
   "metadata": {},
   "outputs": [],
   "source": [
    "#water_FU= Deionized water needed in all the pathway per FU\n",
    "water_FU = 1/LHV_H2_MJ*9"
   ]
  },
  {
   "cell_type": "markdown",
   "metadata": {},
   "source": [
    "### solar-to-H2 pathway"
   ]
  },
  {
   "cell_type": "code",
   "execution_count": null,
   "metadata": {},
   "outputs": [],
   "source": [
    "# H2_yield_kg = total H2 yield in PV plower lifespan, kg\n",
    "H2_yield_kg_solar = ELECpv/(Elec_H2_net/Effi_electrolysis+Elec_H2_compress)\n",
    "\n",
    "# H2_yield_MJ = total H2 yield in PV plower lifespan, MJ (LHV H2=33.3 Kwh/kg = 120MJ/kg)\n",
    "H2_yield_MJ_solar = H2_yield_kg_solar*LHV_H2_MJ\n",
    "\n",
    "# H2_yield_KWh = total H2 yield in PV plower lifespan, KWh\n",
    "H2_yield_KWh_solar = H2_yield_kg_solar*LHV_H2_KWh"
   ]
  },
  {
   "cell_type": "code",
   "execution_count": null,
   "metadata": {},
   "outputs": [],
   "source": [
    "#area_PVmodel = the land area needed for only the PV panels per FU, in unit of m2 per FU \n",
    "Area_PVmodel = 100*GCR/H2_yield_MJ_solar"
   ]
  },
  {
   "cell_type": "code",
   "execution_count": null,
   "metadata": {},
   "outputs": [],
   "source": [
    "#power_PVmodel = power of the PV panels needed in solar-to-H2 pathway per FU, KW\n",
    "Power_PVmodel = Area_PVmodel * P_peak/1000"
   ]
  },
  {
   "cell_type": "code",
   "execution_count": null,
   "metadata": {},
   "outputs": [],
   "source": [
    "#capacity_electrolyzer = power capacity of the the PEM or AWE unit per FU\n",
    "Capacity_electrolyzer_solar = (Elec_H2_net/Effi_electrolysis)/((Elec_H2_net/Effi_electrolysis)+Elec_H2_compress)*Power_PVmodel"
   ]
  },
  {
   "cell_type": "code",
   "execution_count": null,
   "metadata": {},
   "outputs": [],
   "source": [
    "#capacity_H2compressor = power capacity of the the H2 compressor needed in solar-to-H2 pathway per FU\n",
    "Capacity_H2compressor_solar = Elec_H2_compress/((Elec_H2_net/Effi_electrolysis)+Elec_H2_compress)*Power_PVmodel"
   ]
  },
  {
   "cell_type": "code",
   "execution_count": null,
   "metadata": {},
   "outputs": [],
   "source": [
    "#working_h_compressor = annual working hour of the H2 compressor in solar-to-H2 pathway per FU\n",
    "Working_h_compressor_solar = ELECpv/PVlife*(Elec_H2_compress/(Elec_H2_net/Effi_electrolysis+Elec_H2_compress))/Capacity_H2compressor_solar"
   ]
  },
  {
   "cell_type": "code",
   "execution_count": null,
   "metadata": {},
   "outputs": [],
   "source": [
    "#compressor_life = life time of one H2 compressor unit in solar-to-H2 pathway, in year\n",
    "Compressor_life_solar = H2_unit/(H2_yield_kg_solar/PVlife)"
   ]
  },
  {
   "cell_type": "code",
   "execution_count": null,
   "metadata": {},
   "outputs": [],
   "source": [
    "#Compressor_unit_FU= unit of H2 compressor need in solar-to-H2 pathway per FU, in year\n",
    "Compressor_unit_FU_solar = (1* PVlife/Compressor_life_solar/H2_yield_MJ_solar)\n",
    "Compressor_unit_FU_solar.subs([\n",
    "             (LHV_H2_MJ,ParamDef.stat_value(LHV_H2_MJ,mode=FixedParamMode.DEFAULT)),\n",
    "             (H2_unit,ParamDef.stat_value(H2_unit,mode=FixedParamMode.DEFAULT)),\n",
    "             (GCR,ParamDef.stat_value(GCR,mode=FixedParamMode.DEFAULT)),\n",
    "             (surface_sol,ParamDef.stat_value(surface_sol,mode=FixedParamMode.DEFAULT)),\n",
    "             (P_peak,ParamDef.stat_value(P_peak,mode=FixedParamMode.DEFAULT)),\n",
    "             (Irradiation,ParamDef.stat_value(Irradiation,mode=FixedParamMode.DEFAULT)),\n",
    "             (PR,ParamDef.stat_value(PR,mode=FixedParamMode.DEFAULT)),\n",
    "             (PVlife,ParamDef.stat_value(PVlife,mode=FixedParamMode.DEFAULT)),              \n",
    "             (YLR,ParamDef.stat_value(YLR,mode=FixedParamMode.DEFAULT)),\n",
    "             (Effi_electrolysis,ParamDef.stat_value(Effi_electrolysis,mode=FixedParamMode.DEFAULT)),\n",
    "             (Elec_H2_compress,ParamDef.stat_value(Effi_electrolysis,mode=FixedParamMode.DEFAULT)),\n",
    "             (PEM_stack_life,ParamDef.stat_value(PEM_stack_life,mode=FixedParamMode.DEFAULT)),\n",
    "            (Elec_H2_net,ParamDef.stat_value(Elec_H2_net,mode=FixedParamMode.DEFAULT))\n",
    "             ])"
   ]
  },
  {
   "cell_type": "code",
   "execution_count": null,
   "metadata": {},
   "outputs": [],
   "source": [
    "# capacity_PVinverter = capacities of the PV inverters needed in solar-to-H2 pathway per FU\n",
    "Capacity_PVinverter = Capacity_electrolyzer_solar + Capacity_H2compressor_solar"
   ]
  },
  {
   "cell_type": "code",
   "execution_count": null,
   "metadata": {},
   "outputs": [],
   "source": [
    "Area_PVmodel_total = 100*GCR\n",
    "Power_PVmodel_total = Area_PVmodel_total * P_peak/1000\n",
    "Capacity_electrolyzer_solar_total = (Elec_H2_net/Effi_electrolysis)/((Elec_H2_net/Effi_electrolysis)+Elec_H2_compress)*Power_PVmodel_total\n",
    "\n",
    "#PEMstack_life_year_solar = life time of PEM stack in year in solar-to-H2 pathway. \n",
    "PEMstack_life_year_solar = PEM_stack_life/(ELECpv/PVlife*((Elec_H2_net/Effi_electrolysis)/(Elec_H2_net/Effi_electrolysis+Elec_H2_compress))/Capacity_electrolyzer_solar_total)\n",
    "PEMstack_life_year_solar.subs([\n",
    "             (GCR,ParamDef.stat_value(GCR,mode=FixedParamMode.DEFAULT)),\n",
    "             (surface_sol,ParamDef.stat_value(surface_sol,mode=FixedParamMode.DEFAULT)),\n",
    "             (P_peak,ParamDef.stat_value(P_peak,mode=FixedParamMode.DEFAULT)),\n",
    "             (Irradiation,ParamDef.stat_value(Irradiation,mode=FixedParamMode.DEFAULT)),\n",
    "             (PR,ParamDef.stat_value(PR,mode=FixedParamMode.DEFAULT)),\n",
    "             (PVlife,ParamDef.stat_value(PVlife,mode=FixedParamMode.DEFAULT)),              \n",
    "             (YLR,ParamDef.stat_value(YLR,mode=FixedParamMode.DEFAULT)),\n",
    "             (Effi_electrolysis,ParamDef.stat_value(Effi_electrolysis,mode=FixedParamMode.DEFAULT)),\n",
    "             (Elec_H2_compress,ParamDef.stat_value(Effi_electrolysis,mode=FixedParamMode.DEFAULT)),\n",
    "             (PEM_stack_life,ParamDef.stat_value(PEM_stack_life,mode=FixedParamMode.DEFAULT)),\n",
    "            (Elec_H2_net,ParamDef.stat_value(Elec_H2_net,mode=FixedParamMode.DEFAULT))\n",
    "             ])"
   ]
  },
  {
   "cell_type": "code",
   "execution_count": null,
   "metadata": {},
   "outputs": [],
   "source": [
    "#AEstack_life_year_solar = life time of AE stack in year in solar-to-H2 pathway. \n",
    "AEstack_life_year_solar = AE_stack_life/(ELECpv/PVlife*((Elec_H2_net/Effi_electrolysis)/(Elec_H2_net/Effi_electrolysis+Elec_H2_compress))/Capacity_electrolyzer_solar_total)\n",
    "AEstack_life_year_solar.subs([\n",
    "             (AE_stack_life,ParamDef.stat_value(AE_stack_life,mode=FixedParamMode.DEFAULT)),\n",
    "             (GCR,ParamDef.stat_value(GCR,mode=FixedParamMode.DEFAULT)),\n",
    "             (surface_sol,ParamDef.stat_value(surface_sol,mode=FixedParamMode.DEFAULT)),\n",
    "             (P_peak,ParamDef.stat_value(P_peak,mode=FixedParamMode.DEFAULT)),\n",
    "             (Irradiation,ParamDef.stat_value(Irradiation,mode=FixedParamMode.DEFAULT)),\n",
    "             (PR,ParamDef.stat_value(PR,mode=FixedParamMode.DEFAULT)),\n",
    "             (PVlife,ParamDef.stat_value(PVlife,mode=FixedParamMode.DEFAULT)),              \n",
    "             (YLR,ParamDef.stat_value(YLR,mode=FixedParamMode.DEFAULT)),\n",
    "             (Effi_electrolysis,ParamDef.stat_value(Effi_electrolysis,mode=FixedParamMode.DEFAULT)),\n",
    "             (Elec_H2_compress,ParamDef.stat_value(Effi_electrolysis,mode=FixedParamMode.DEFAULT)),\n",
    "             (PEM_stack_life,ParamDef.stat_value(PEM_stack_life,mode=FixedParamMode.DEFAULT)),\n",
    "            (Elec_H2_net,ParamDef.stat_value(Elec_H2_net,mode=FixedParamMode.DEFAULT))\n",
    "             ])"
   ]
  },
  {
   "cell_type": "markdown",
   "metadata": {},
   "source": [
    "### wind-to-H2 pathway"
   ]
  },
  {
   "cell_type": "code",
   "execution_count": null,
   "metadata": {},
   "outputs": [],
   "source": [
    "#elec_offshore_unit: electricity generation (KWh) of 1 unit offshore wind farm during entire lifetime, LCI normalized to 2MW tubine assembly\n",
    "Elec_offshore_unit = Cf_Offshore*2*1000*8760*Turbine_life\n",
    "Elec_offshore_unit.subs([\n",
    "             (Cf_Offshore,ParamDef.stat_value(Cf_Offshore,mode=FixedParamMode.DEFAULT)),\n",
    "             (Turbine_life,ParamDef.stat_value(Turbine_life,mode=FixedParamMode.DEFAULT)),\n",
    "             \n",
    "             ])"
   ]
  },
  {
   "cell_type": "code",
   "execution_count": null,
   "metadata": {
    "scrolled": true
   },
   "outputs": [],
   "source": [
    "#Elec_onshore_1MW_unit: \n",
    "#electricity generation (KWh) of 1 unit onshore wind farm with turbine assembly smaller than 1MW during entire lifetime, LCI normalized to 800KW assembly\n",
    "Elec_onshore_1MW_unit = Cf_Onshore*800*8760*Turbine_life\n",
    "Elec_onshore_1MW_unit.subs([\n",
    "             (Cf_Onshore,ParamDef.stat_value(Cf_Onshore,mode=FixedParamMode.DEFAULT)),\n",
    "             (Turbine_life,ParamDef.stat_value(Turbine_life,mode=FixedParamMode.DEFAULT)),\n",
    "             \n",
    "             ])"
   ]
  },
  {
   "cell_type": "code",
   "execution_count": null,
   "metadata": {},
   "outputs": [],
   "source": [
    "#Elec_onshore_1_3MW_unit: electricity generation (KWh) of 1 unit onshore wind farm with turbine assembly with 1-3MW during entire lifetime, LCI normalized to 2MW assembly\n",
    "Elec_onshore_1_3MW_unit = Cf_Onshore*2*1000*8760*Turbine_life\n",
    "Elec_onshore_1_3MW_unit.subs([\n",
    "             (Cf_Onshore,ParamDef.stat_value(Cf_Onshore,mode=FixedParamMode.DEFAULT)),\n",
    "             (Turbine_life,ParamDef.stat_value(Turbine_life,mode=FixedParamMode.DEFAULT)),\n",
    "             \n",
    "             ])"
   ]
  },
  {
   "cell_type": "code",
   "execution_count": null,
   "metadata": {},
   "outputs": [],
   "source": [
    "#elec_offshore_unit: electricity generation (KWh) of 1 unit onshore wind farm with turbine assembly bigger than 3MW during entire lifetime, LCI normalized to 4.5MW assembly\n",
    "Elec_onshore_3MW_unit = Cf_Onshore*4.5*1000*8760*Turbine_life\n",
    "Elec_onshore_3MW_unit.subs([\n",
    "             (Cf_Onshore,ParamDef.stat_value(Cf_Onshore,mode=FixedParamMode.DEFAULT)),\n",
    "             (Turbine_life,ParamDef.stat_value(Turbine_life,mode=FixedParamMode.DEFAULT)),\n",
    "             \n",
    "             ])"
   ]
  },
  {
   "cell_type": "code",
   "execution_count": null,
   "metadata": {},
   "outputs": [],
   "source": [
    "#elec_offshore_unit: electricity generation (KWh) of 1 unit onshore wind farm mix during entire lifetime\n",
    "Elec_wind_mix_unit = Ratio_offshore*Elec_offshore_unit + Ratio_onshore*(Ratio_1MWturbine_onshore*Elec_onshore_1MW_unit+\n",
    "                                    Ratio_1_3MWturbine_onshore*Elec_onshore_1_3MW_unit+\n",
    "                                    Ratio_3MWturbine_onshore*Elec_onshore_3MW_unit)\n",
    "Elec_wind_mix_unit.subs([\n",
    "             (Capacity_Offshore,ParamDef.stat_value(Capacity_Offshore,mode=FixedParamMode.DEFAULT)),\n",
    "             (Cf_Offshore,ParamDef.stat_value(Cf_Offshore,mode=FixedParamMode.DEFAULT)),\n",
    "             (Cf_Onshore,ParamDef.stat_value(Cf_Onshore,mode=FixedParamMode.DEFAULT)),\n",
    "             (Turbine_life,ParamDef.stat_value(Turbine_life,mode=FixedParamMode.DEFAULT)),\n",
    "             (Ratio_3MWturbine_onshore,ParamDef.stat_value(Ratio_3MWturbine_onshore,mode=FixedParamMode.DEFAULT)),\n",
    "             (Ratio_1MWturbine_onshore,ParamDef.stat_value(Ratio_1MWturbine_onshore,mode=FixedParamMode.DEFAULT)),\n",
    "             (Elec_wind_total,ParamDef.stat_value(Elec_wind_total,mode=FixedParamMode.DEFAULT)),\n",
    "             ])"
   ]
  },
  {
   "cell_type": "code",
   "execution_count": null,
   "metadata": {},
   "outputs": [],
   "source": [
    "# H2_yield_kg_wind = total H2 yield in oen unit of wind power plant mix during the lifespan, kg\n",
    "H2_yield_kg_wind = Elec_wind_mix_unit/(Elec_H2_net/Effi_electrolysis+Elec_H2_compress)\n",
    "\n",
    "# H2_yield_MJ_wind = total H2 yield in oen unit of wind power plant mix during the lifespan, MJ (LHV H2=33.3 Kwh/kg = 120MJ/kg)\n",
    "H2_yield_MJ_wind = H2_yield_kg_wind*LHV_H2_MJ\n",
    "\n",
    "# H2_yield_KWh_wind = total H2 yield in oen unit of wind power plant mix during the lifespan, KWh\n",
    "H2_yield_KWh_wind = H2_yield_kg_wind*LHV_H2_KWh"
   ]
  },
  {
   "cell_type": "code",
   "execution_count": null,
   "metadata": {},
   "outputs": [],
   "source": [
    "#capacity_electrolyzer_wind = power capacity of the the PEM or AWE unit per FU\n",
    "Capacity_electrolyzer_wind = (Elec_H2_net/Effi_electrolysis)/((Elec_H2_net/Effi_electrolysis)+Elec_H2_compress)*Elec_wind_mix_unit/Turbine_life/(Cf_Onshore*8760)/H2_yield_MJ_wind"
   ]
  },
  {
   "cell_type": "code",
   "execution_count": null,
   "metadata": {},
   "outputs": [],
   "source": [
    "#capacity_H2compressor_wind = power capacity of the the H2 compressor needed in wind-to-H2 pathway per FU\n",
    "Capacity_H2compressor_wind = Elec_H2_compress/((Elec_H2_net/Effi_electrolysis)+Elec_H2_compress)*Elec_wind_mix_unit/Turbine_life/(Cf_Onshore*8760)/H2_yield_MJ_wind"
   ]
  },
  {
   "cell_type": "code",
   "execution_count": null,
   "metadata": {},
   "outputs": [],
   "source": [
    "#working_h_compressor_wind = annual working hour of the H2 compressor in wind-to-H2 pathway per FU\n",
    "Working_h_compressor_wind = H2_yield_KWh_wind/Turbine_life/Capacity_H2compressor_wind"
   ]
  },
  {
   "cell_type": "code",
   "execution_count": null,
   "metadata": {},
   "outputs": [],
   "source": [
    "#compressor_life_wind = life time of one H2 compressor unit in wind-to-H2 pathway, in year\n",
    "Compressor_life_wind = H2_unit/(H2_yield_kg_wind/Turbine_life)"
   ]
  },
  {
   "cell_type": "code",
   "execution_count": null,
   "metadata": {},
   "outputs": [],
   "source": [
    "#Compressor_unit_FU_wind = unit of H2 compressor need in wind-to-H2 pathway per FU, in year\n",
    "Compressor_unit_FU_wind = (1* Turbine_life/Compressor_life_wind/H2_yield_MJ_wind)\n",
    "\n",
    "Compressor_unit_FU_wind.subs([\n",
    "             (LHV_H2_MJ,ParamDef.stat_value(LHV_H2_MJ,mode=FixedParamMode.DEFAULT)),\n",
    "             (H2_unit,ParamDef.stat_value(H2_unit,mode=FixedParamMode.DEFAULT)),\n",
    "             (Effi_electrolysis,ParamDef.stat_value(Effi_electrolysis,mode=FixedParamMode.DEFAULT)),\n",
    "             (Capacity_Offshore,ParamDef.stat_value(Capacity_Offshore,mode=FixedParamMode.DEFAULT)),\n",
    "             (Cf_Offshore,ParamDef.stat_value(Cf_Offshore,mode=FixedParamMode.DEFAULT)),\n",
    "             (Cf_Onshore,ParamDef.stat_value(Cf_Onshore,mode=FixedParamMode.DEFAULT)),\n",
    "             (Turbine_life,ParamDef.stat_value(Turbine_life,mode=FixedParamMode.DEFAULT)),\n",
    "             (Ratio_3MWturbine_onshore,ParamDef.stat_value(Ratio_3MWturbine_onshore,mode=FixedParamMode.DEFAULT)),\n",
    "             (Ratio_1MWturbine_onshore,ParamDef.stat_value(Ratio_1MWturbine_onshore,mode=FixedParamMode.DEFAULT)),\n",
    "             (Elec_wind_total,ParamDef.stat_value(Elec_wind_total,mode=FixedParamMode.DEFAULT)),\n",
    "             (Elec_H2_net,ParamDef.stat_value(Elec_H2_net,mode=FixedParamMode.DEFAULT)),\n",
    "             (Elec_H2_compress,ParamDef.stat_value(Effi_electrolysis,mode=FixedParamMode.DEFAULT)),\n",
    "             ])"
   ]
  },
  {
   "cell_type": "code",
   "execution_count": null,
   "metadata": {},
   "outputs": [],
   "source": [
    "Capacity_electrolyzer_wind_total = (Elec_H2_net/Effi_electrolysis)/((Elec_H2_net/Effi_electrolysis)+Elec_H2_compress)*Elec_wind_mix_unit/Turbine_life/(Cf_Onshore*8760)\n",
    "\n",
    "Capacity_electrolyzer_wind_total.subs([\n",
    "             (Effi_electrolysis,ParamDef.stat_value(Effi_electrolysis,mode=FixedParamMode.DEFAULT)),\n",
    "             (Capacity_Offshore,ParamDef.stat_value(Capacity_Offshore,mode=FixedParamMode.DEFAULT)),\n",
    "             (Cf_Offshore,ParamDef.stat_value(Cf_Offshore,mode=FixedParamMode.DEFAULT)),\n",
    "             (Cf_Onshore,ParamDef.stat_value(Cf_Onshore,mode=FixedParamMode.DEFAULT)),\n",
    "             (Turbine_life,ParamDef.stat_value(Turbine_life,mode=FixedParamMode.DEFAULT)),\n",
    "             (Ratio_3MWturbine_onshore,ParamDef.stat_value(Ratio_3MWturbine_onshore,mode=FixedParamMode.DEFAULT)),\n",
    "             (Ratio_1MWturbine_onshore,ParamDef.stat_value(Ratio_1MWturbine_onshore,mode=FixedParamMode.DEFAULT)),\n",
    "             (Elec_wind_total,ParamDef.stat_value(Elec_wind_total,mode=FixedParamMode.DEFAULT)),\n",
    "             (Elec_H2_net,ParamDef.stat_value(Elec_H2_net,mode=FixedParamMode.DEFAULT)),\n",
    "             (Elec_H2_compress,ParamDef.stat_value(Effi_electrolysis,mode=FixedParamMode.DEFAULT)),\n",
    "             ])"
   ]
  },
  {
   "cell_type": "code",
   "execution_count": null,
   "metadata": {},
   "outputs": [],
   "source": [
    "#PEMstack_life_year_solar = life time of PEM stack in year in solar-to-H2 pathway. \n",
    "PEMstack_life_year_wind = PEM_stack_life/(Elec_wind_mix_unit/Turbine_life*((Elec_H2_net/Effi_electrolysis)/(Elec_H2_net/Effi_electrolysis+Elec_H2_compress))/Capacity_electrolyzer_wind_total)\n",
    "PEMstack_life_year_wind.subs([\n",
    "             (GCR,ParamDef.stat_value(GCR,mode=FixedParamMode.DEFAULT)),\n",
    "             (surface_sol,ParamDef.stat_value(surface_sol,mode=FixedParamMode.DEFAULT)),\n",
    "             (P_peak,ParamDef.stat_value(P_peak,mode=FixedParamMode.DEFAULT)),\n",
    "             (Irradiation,ParamDef.stat_value(Irradiation,mode=FixedParamMode.DEFAULT)),\n",
    "             (PR,ParamDef.stat_value(PR,mode=FixedParamMode.DEFAULT)),\n",
    "             (PVlife,ParamDef.stat_value(PVlife,mode=FixedParamMode.DEFAULT)),              \n",
    "             (YLR,ParamDef.stat_value(YLR,mode=FixedParamMode.DEFAULT)),\n",
    "             (Effi_electrolysis,ParamDef.stat_value(Effi_electrolysis,mode=FixedParamMode.DEFAULT)),\n",
    "             (Elec_H2_compress,ParamDef.stat_value(Effi_electrolysis,mode=FixedParamMode.DEFAULT)),\n",
    "             (PEM_stack_life,ParamDef.stat_value(PEM_stack_life,mode=FixedParamMode.DEFAULT)),\n",
    "             (Elec_H2_net,ParamDef.stat_value(Elec_H2_net,mode=FixedParamMode.DEFAULT)),\n",
    "             (Capacity_Offshore,ParamDef.stat_value(Capacity_Offshore,mode=FixedParamMode.DEFAULT)),\n",
    "             (Cf_Offshore,ParamDef.stat_value(Cf_Offshore,mode=FixedParamMode.DEFAULT)),\n",
    "             (Cf_Onshore,ParamDef.stat_value(Cf_Onshore,mode=FixedParamMode.DEFAULT)),\n",
    "             (Turbine_life,ParamDef.stat_value(Turbine_life,mode=FixedParamMode.DEFAULT)),\n",
    "             (Ratio_3MWturbine_onshore,ParamDef.stat_value(Ratio_3MWturbine_onshore,mode=FixedParamMode.DEFAULT)),\n",
    "             (Ratio_1MWturbine_onshore,ParamDef.stat_value(Ratio_1MWturbine_onshore,mode=FixedParamMode.DEFAULT)),\n",
    "             (Elec_wind_total,ParamDef.stat_value(Elec_wind_total,mode=FixedParamMode.DEFAULT)),\n",
    "             (Elec_H2_net,ParamDef.stat_value(Elec_H2_net,mode=FixedParamMode.DEFAULT)),\n",
    "             (Elec_H2_compress,ParamDef.stat_value(Effi_electrolysis,mode=FixedParamMode.DEFAULT)),\n",
    "             ])"
   ]
  },
  {
   "cell_type": "code",
   "execution_count": null,
   "metadata": {},
   "outputs": [],
   "source": [
    "#AEstack_life_year_wind = life time of PEM stack in year in wind-to-H2 pathway. \n",
    "AEstack_life_year_wind = AE_stack_life/(Elec_wind_mix_unit/Turbine_life*((Elec_H2_net/Effi_electrolysis)/(Elec_H2_net/Effi_electrolysis+Elec_H2_compress))/Capacity_electrolyzer_wind_total)\n",
    "\n",
    "AEstack_life_year_wind.subs([\n",
    "             \n",
    "             (P_peak,ParamDef.stat_value(P_peak,mode=FixedParamMode.DEFAULT)),\n",
    "             (Effi_electrolysis,ParamDef.stat_value(Effi_electrolysis,mode=FixedParamMode.DEFAULT)),\n",
    "             (Elec_H2_compress,ParamDef.stat_value(Effi_electrolysis,mode=FixedParamMode.DEFAULT)),\n",
    "             (AE_stack_life,ParamDef.stat_value(AE_stack_life,mode=FixedParamMode.DEFAULT)),\n",
    "             (Elec_H2_net,ParamDef.stat_value(Elec_H2_net,mode=FixedParamMode.DEFAULT)),\n",
    "             (Capacity_Offshore,ParamDef.stat_value(Capacity_Offshore,mode=FixedParamMode.DEFAULT)),\n",
    "             (Cf_Offshore,ParamDef.stat_value(Cf_Offshore,mode=FixedParamMode.DEFAULT)),\n",
    "             (Cf_Onshore,ParamDef.stat_value(Cf_Onshore,mode=FixedParamMode.DEFAULT)),\n",
    "             (Turbine_life,ParamDef.stat_value(Turbine_life,mode=FixedParamMode.DEFAULT)),\n",
    "             (Ratio_3MWturbine_onshore,ParamDef.stat_value(Ratio_3MWturbine_onshore,mode=FixedParamMode.DEFAULT)),\n",
    "             (Ratio_1MWturbine_onshore,ParamDef.stat_value(Ratio_1MWturbine_onshore,mode=FixedParamMode.DEFAULT)),\n",
    "             (Elec_wind_total,ParamDef.stat_value(Elec_wind_total,mode=FixedParamMode.DEFAULT)),\n",
    "             (Elec_H2_net,ParamDef.stat_value(Elec_H2_net,mode=FixedParamMode.DEFAULT)),\n",
    "             (Elec_H2_compress,ParamDef.stat_value(Effi_electrolysis,mode=FixedParamMode.DEFAULT)),\n",
    "             ])"
   ]
  },
  {
   "cell_type": "markdown",
   "metadata": {},
   "source": [
    "# Life cycle inventory definition"
   ]
  },
  {
   "cell_type": "markdown",
   "metadata": {},
   "source": [
    "## French PV elecrcicty generation mix 2019"
   ]
  },
  {
   "cell_type": "markdown",
   "metadata": {},
   "source": [
    "### France’s PV panels market mix"
   ]
  },
  {
   "cell_type": "code",
   "execution_count": null,
   "metadata": {
    "scrolled": true
   },
   "outputs": [],
   "source": [
    "# The import only need once\n",
    "# The import may take a long time.\n",
    "#TODO: Please adapt path to point to the correct excel workbook and sheet. If you don't copy the sheet into an own \n",
    "#workbook, please make sure that all other sheets in the workbook are skipped.\n",
    "#the corresponding can be directly find from the reference cited in the manuscript, e.g., \n",
    "#the Life Cycle Inventories and Life Cycle Assessments of Photovoltaic Systems; International Energy Agency (IEA) PVPS Task 12: 2020.\n",
    "elegancy_fg = bw2io.importers.excel.ExcelImporter(r\"F:\\学也无止境\\intership\\OIE internship\\Internship on LCA of hydrogen production\\d0se00222d1\\REP-to-H2\\IEA_test.xlsx\")\n",
    "elegancy_fg.apply_strategies()\n",
    "elegancy_fg.match_database(\"ecoinvent 3.6\", fields=('name','unit','location','reference product'))\n",
    "elegancy_fg.statistics()\n",
    "elegancy_fg.write_excel(only_unlinked=True)\n",
    "list(elegancy_fg.unlinked)"
   ]
  },
  {
   "cell_type": "code",
   "execution_count": null,
   "metadata": {
    "scrolled": false
   },
   "outputs": [],
   "source": [
    "elegancy_fg.match_database(fields=('name','unit','location'))"
   ]
  },
  {
   "cell_type": "code",
   "execution_count": null,
   "metadata": {
    "scrolled": true
   },
   "outputs": [],
   "source": [
    "elegancy_fg.statistics()"
   ]
  },
  {
   "cell_type": "code",
   "execution_count": null,
   "metadata": {
    "scrolled": false
   },
   "outputs": [],
   "source": [
    "elegancy_fg.write_database()\n",
    "database = Database(\"IEA-PVPS-LCI-19\")"
   ]
  },
  {
   "cell_type": "code",
   "execution_count": null,
   "metadata": {
    "scrolled": false
   },
   "outputs": [],
   "source": [
    "# The import only need once\n",
    "# The import may take a long time.\n",
    "#TODO: Please adapt path to point to the correct excel workbook and sheet. If you don't copy the sheet into an own \n",
    "#workbook, please make sure that all other sheets in the workbook are skipped. \n",
    "#the corresponding can be directly find from the reference cited in the manuscript, e.g., \n",
    "#the Life Cycle Inventories and Life Cycle Assessments of Photovoltaic Systems; International Energy Agency (IEA) PVPS Task 12: 2020.\n",
    "elegancy_fg = bw2io.importers.excel.ExcelImporter(r\"F:\\学也无止境\\intership\\OIE internship\\Internship on LCA of hydrogen production\\d0se00222d1\\REP-to-H2\\IEA_test_thin.xlsx\")\n",
    "elegancy_fg.apply_strategies()\n",
    "elegancy_fg.match_database(\"ecoinvent 3.6\", fields=('name','unit','location','reference product'))\n",
    "elegancy_fg.statistics()\n",
    "elegancy_fg.write_excel(only_unlinked=True)\n",
    "list(elegancy_fg.unlinked)"
   ]
  },
  {
   "cell_type": "code",
   "execution_count": null,
   "metadata": {},
   "outputs": [],
   "source": [
    "elegancy_fg.match_database(fields=('name','unit','location'))"
   ]
  },
  {
   "cell_type": "code",
   "execution_count": null,
   "metadata": {},
   "outputs": [],
   "source": [
    "elegancy_fg.statistics()"
   ]
  },
  {
   "cell_type": "code",
   "execution_count": null,
   "metadata": {
    "scrolled": true
   },
   "outputs": [],
   "source": [
    "elegancy_fg.write_database()\n",
    "database = Database(\"IEA-PVPS-ThinfilmPV\")"
   ]
  },
  {
   "cell_type": "code",
   "execution_count": null,
   "metadata": {},
   "outputs": [],
   "source": [
    "SIPV_IEA2020 = bw.Database('IEA-PVPS-LCI-19')\n",
    "thinflimPV_IEA2020 = bw.Database('IEA-PVPS-ThinfilmPV')"
   ]
  },
  {
   "cell_type": "code",
   "execution_count": null,
   "metadata": {},
   "outputs": [],
   "source": [
    "MonoSi_ingot_init_CN = [act for act in SIPV_IEA2020 if 'CZ single crystalline silicon, photovoltaics, at plant' in act['name'] \n",
    "                                and 'CN' in act['location']\n",
    "                                \n",
    "           ][0]\n",
    "MonoSi_ingot_init_US = [act for act in SIPV_IEA2020 if 'CZ single crystalline silicon, photovoltaics, at plant' in act['name'] \n",
    "                                and 'US' in act['location']\n",
    "                                \n",
    "           ][0]\n",
    "MonoSi_ingot_init_APAC = [act for act in SIPV_IEA2020 if 'CZ single crystalline silicon, photovoltaics, at plant' in act['name'] \n",
    "                                and 'APAC' in act['location']\n",
    "                                \n",
    "           ][0]\n",
    "MonoSi_ingot_init_RER = [act for act in SIPV_IEA2020 if 'CZ single crystalline silicon, photovoltaics, at plant' in act['name'] \n",
    "                                and 'RER' in act['location']\n",
    "                                \n",
    "           ][0]\n"
   ]
  },
  {
   "cell_type": "code",
   "execution_count": null,
   "metadata": {
    "scrolled": false
   },
   "outputs": [],
   "source": [
    "MonoSi_ingot_CN = copyActivity(\n",
    "    USER_DB, # base utilisateur\n",
    "    MonoSi_ingot_init_CN, # activité initiale \n",
    "    'CZ single crystalline silicon, photovoltaics, CN, at plant-adjusted') # Nouveau nom\n",
    "\n",
    "\n",
    "MonoSi_ingot_CN.updateExchanges({\n",
    "   'market group for electricity, medium voltage' : Elec_MonoSi_ingot})\n"
   ]
  },
  {
   "cell_type": "code",
   "execution_count": null,
   "metadata": {},
   "outputs": [],
   "source": [
    "MonoSi_ingot_US = copyActivity(\n",
    "    USER_DB, # base utilisateur\n",
    "    MonoSi_ingot_init_US, # activité initiale \n",
    "    'CZ single crystalline silicon, photovoltaics, US, at plant-adjusted') # Nouveau nom\n",
    "\n",
    "\n",
    "MonoSi_ingot_US.updateExchanges({\n",
    "   'market for electricity, medium voltage' : Elec_MonoSi_ingot})\n"
   ]
  },
  {
   "cell_type": "code",
   "execution_count": null,
   "metadata": {},
   "outputs": [],
   "source": [
    "MonoSi_ingot_APAC = copyActivity(\n",
    "    USER_DB, # base utilisateur\n",
    "    MonoSi_ingot_init_APAC, # activité initiale \n",
    "    'CZ single crystalline silicon, photovoltaics, APAC, at plant-adjusted') # Nouveau nom\n",
    "\n",
    "MonoSi_ingot_APAC.updateExchanges({\n",
    "   'market for electricity, medium voltage' : Elec_MonoSi_ingot})\n"
   ]
  },
  {
   "cell_type": "code",
   "execution_count": null,
   "metadata": {},
   "outputs": [],
   "source": [
    "MonoSi_ingot_RER = copyActivity(\n",
    "    USER_DB, # base utilisateur\n",
    "    MonoSi_ingot_init_RER, # activité initiale \n",
    "    'CZ single crystalline silicon, photovoltaics, RER, at plant-adjusted') # Nouveau nom\n",
    "\n",
    "MonoSi_ingot_RER.updateExchanges({\n",
    "   'market group for electricity, medium voltage' : Elec_MonoSi_ingot})\n"
   ]
  },
  {
   "cell_type": "code",
   "execution_count": null,
   "metadata": {},
   "outputs": [],
   "source": [
    "MultiSi_ingot_init_CN = [act for act in SIPV_IEA2020 if 'silicon, multi-Si, casted, at plant' in act['name'] \n",
    "                                and 'CN' in act['location']\n",
    "                                \n",
    "           ][0]\n",
    "MultiSi_ingot_init_US = [act for act in SIPV_IEA2020 if 'silicon, multi-Si, casted, at plant' in act['name'] \n",
    "                                and 'US' in act['location']\n",
    "                                \n",
    "           ][0]\n",
    "MultiSi_ingot_init_APAC = [act for act in SIPV_IEA2020 if 'silicon, multi-Si, casted, at plant' in act['name'] \n",
    "                                and 'APAC' in act['location']\n",
    "                                \n",
    "           ][0]\n",
    "MultiSi_ingot_init_RER = [act for act in SIPV_IEA2020 if 'silicon, multi-Si, casted, at plant' in act['name'] \n",
    "                                and 'RER' in act['location']\n",
    "                                \n",
    "           ][0]"
   ]
  },
  {
   "cell_type": "code",
   "execution_count": null,
   "metadata": {
    "scrolled": false
   },
   "outputs": [],
   "source": [
    "MultiSi_ingot_CN = copyActivity(\n",
    "    USER_DB, # base utilisateur\n",
    "    MultiSi_ingot_init_CN, # activité initiale \n",
    "    'silicon, multi-Si, casted, CN, at plant-adjusted') # Nouveau nom\n",
    "\n",
    "MultiSi_ingot_CN.updateExchanges({\n",
    "   'market group for electricity, medium voltage' : Elec_MultiSi_ingot})\n"
   ]
  },
  {
   "cell_type": "code",
   "execution_count": null,
   "metadata": {},
   "outputs": [],
   "source": [
    "MultiSi_ingot_US = copyActivity(\n",
    "    USER_DB, # base utilisateur\n",
    "    MultiSi_ingot_init_US, # activité initiale \n",
    "    'silicon, multi-Si, casted, US, at plant-adjusted') # Nouveau nom\n",
    "\n",
    "MultiSi_ingot_US.updateExchanges({\n",
    "   'market for electricity, medium voltage' : Elec_MultiSi_ingot})\n"
   ]
  },
  {
   "cell_type": "code",
   "execution_count": null,
   "metadata": {},
   "outputs": [],
   "source": [
    "MultiSi_ingot_APAC = copyActivity(\n",
    "    USER_DB, # base utilisateur\n",
    "    MultiSi_ingot_init_APAC, # activité initiale \n",
    "    'silicon, multi-Si, casted, APAC, at plant-adjusted') # Nouveau nom\n",
    "\n",
    "MultiSi_ingot_APAC.updateExchanges({\n",
    "   'market for electricity, medium voltage' : Elec_MultiSi_ingot})\n"
   ]
  },
  {
   "cell_type": "code",
   "execution_count": null,
   "metadata": {},
   "outputs": [],
   "source": [
    "MultiSi_ingot_RER = copyActivity(\n",
    "    USER_DB, # base utilisateur\n",
    "    MultiSi_ingot_init_RER, # activité initiale \n",
    "    'silicon, multi-Si, casted, RER, at plant-adjusted') # Nouveau nom\n",
    "\n",
    "MultiSi_ingot_RER.updateExchanges({\n",
    "   'market group for electricity, medium voltage' : Elec_MultiSi_ingot})\n"
   ]
  },
  {
   "cell_type": "code",
   "execution_count": null,
   "metadata": {},
   "outputs": [],
   "source": [
    "MonoSi_wafer_init_CN = [act for act in SIPV_IEA2020 if 'single-Si wafer, photovoltaics, at plant' in act['name'] \n",
    "                                and 'CN' in act['location']\n",
    "                                \n",
    "           ][0]\n",
    "MonoSi_wafer_init_US = [act for act in SIPV_IEA2020 if 'single-Si wafer, photovoltaics, at plant' in act['name'] \n",
    "                                and 'US' in act['location']\n",
    "                                \n",
    "           ][0]\n",
    "MonoSi_wafer_init_APAC = [act for act in SIPV_IEA2020 if 'single-Si wafer, photovoltaics, at plant' in act['name'] \n",
    "                                and 'APAC' in act['location']\n",
    "                                \n",
    "           ][0]\n",
    "MonoSi_wafer_init_RER = [act for act in SIPV_IEA2020 if 'single-Si wafer, photovoltaics, at plant' in act['name'] \n",
    "                                and 'RER' in act['location']\n",
    "                                \n",
    "           ][0]\n"
   ]
  },
  {
   "cell_type": "code",
   "execution_count": null,
   "metadata": {
    "scrolled": false
   },
   "outputs": [],
   "source": [
    "MonoSi_wafer_CN = copyActivity(\n",
    "    USER_DB, # base utilisateur\n",
    "    MonoSi_wafer_init_CN, # activité initiale \n",
    "    'single-Si wafer, photovoltaics, CN, at plant-adjusted') # Nouveau nom\n",
    "\n",
    "MonoSi_wafer_CN.updateExchanges({\n",
    "   'CZ single crystalline silicon, photovoltaics, at plant' : MonoSi_ingot_CN})\n"
   ]
  },
  {
   "cell_type": "code",
   "execution_count": null,
   "metadata": {},
   "outputs": [],
   "source": [
    "MonoSi_wafer_US = copyActivity(\n",
    "    USER_DB, # base utilisateur\n",
    "    MonoSi_wafer_init_US, # activité initiale \n",
    "    'single-Si wafer, photovoltaics, US, at plant-adjusted') # Nouveau nom\n",
    "\n",
    "MonoSi_wafer_US.updateExchanges({\n",
    "   'CZ single crystalline silicon, photovoltaics, at plant' : MonoSi_ingot_US})\n"
   ]
  },
  {
   "cell_type": "code",
   "execution_count": null,
   "metadata": {},
   "outputs": [],
   "source": [
    "MonoSi_wafer_APAC = copyActivity(\n",
    "    USER_DB, # base utilisateur\n",
    "    MonoSi_wafer_init_APAC, # activité initiale \n",
    "    'single-Si wafer, photovoltaics, APAC, at plant-adjusted') # Nouveau nom\n",
    "\n",
    "MonoSi_wafer_APAC.updateExchanges({\n",
    "   'CZ single crystalline silicon, photovoltaics, at plant' : MonoSi_ingot_APAC})\n"
   ]
  },
  {
   "cell_type": "code",
   "execution_count": null,
   "metadata": {},
   "outputs": [],
   "source": [
    "MonoSi_wafer_RER = copyActivity(\n",
    "    USER_DB, # base utilisateur\n",
    "    MonoSi_wafer_init_RER, # activité initiale \n",
    "    'single-Si wafer, photovoltaics, RER, at plant-adjusted') # Nouveau nom\n",
    "\n",
    "MonoSi_wafer_RER.updateExchanges({\n",
    "   'CZ single crystalline silicon, photovoltaics, at plant' : MonoSi_ingot_RER})\n"
   ]
  },
  {
   "cell_type": "code",
   "execution_count": null,
   "metadata": {},
   "outputs": [],
   "source": [
    "MultiSi_wafer_init_CN = [act for act in SIPV_IEA2020 if 'multi-Si wafer, at plant' in act['name'] \n",
    "                                and 'CN' in act['location']\n",
    "                                \n",
    "           ][0]\n",
    "MultiSi_wafer_init_US = [act for act in SIPV_IEA2020 if 'multi-Si wafer, at plant' in act['name'] \n",
    "                                and 'US' in act['location']\n",
    "                                \n",
    "           ][0]\n",
    "MultiSi_wafer_init_APAC = [act for act in SIPV_IEA2020 if 'multi-Si wafer, at plant' in act['name'] \n",
    "                                and 'APAC' in act['location']\n",
    "                                \n",
    "           ][0]\n",
    "MultiSi_wafer_init_RER = [act for act in SIPV_IEA2020 if 'multi-Si wafer, at plant' in act['name'] \n",
    "                                and 'RER' in act['location']\n",
    "                                \n",
    "           ][0]\n"
   ]
  },
  {
   "cell_type": "code",
   "execution_count": null,
   "metadata": {
    "scrolled": false
   },
   "outputs": [],
   "source": [
    "MultiSi_wafer_CN = copyActivity(\n",
    "    USER_DB, # base utilisateur\n",
    "    MultiSi_wafer_init_CN, # activité initiale \n",
    "    'multi-Si wafer, at plant, CN-adjusted') # Nouveau nom\n",
    "\n",
    "MultiSi_wafer_CN.updateExchanges({\n",
    "   'silicon, multi-Si, casted, at plant' : MultiSi_ingot_CN})\n"
   ]
  },
  {
   "cell_type": "code",
   "execution_count": null,
   "metadata": {},
   "outputs": [],
   "source": [
    "MultiSi_wafer_US = copyActivity(\n",
    "    USER_DB, # base utilisateur\n",
    "    MultiSi_wafer_init_US, # activité initiale \n",
    "    'multi-Si wafer, at plant, US-adjusted') # Nouveau nom\n",
    "#printAct(MonoSi_ingot_US)\n",
    "MultiSi_wafer_US.updateExchanges({\n",
    "   'silicon, multi-Si, casted, at plant' : MultiSi_ingot_US})\n",
    "#printAct(MultiSi_wafer_CN, MultiSi_wafer_init_CN)"
   ]
  },
  {
   "cell_type": "code",
   "execution_count": null,
   "metadata": {},
   "outputs": [],
   "source": [
    "MultiSi_wafer_APAC = copyActivity(\n",
    "    USER_DB, # base utilisateur\n",
    "    MultiSi_wafer_init_APAC, # activité initiale \n",
    "    'multi-Si wafer, at plant, APAC-adjusted') # Nouveau nom\n",
    "#printAct(MultiSi_wafer_APAC)\n",
    "MultiSi_wafer_APAC.updateExchanges({\n",
    "   'silicon, multi-Si, casted, at plant' : MultiSi_ingot_APAC})\n",
    "#printAct(MultiSi_wafer_APAC, MultiSi_wafer_init_APAC)"
   ]
  },
  {
   "cell_type": "code",
   "execution_count": null,
   "metadata": {
    "scrolled": false
   },
   "outputs": [],
   "source": [
    "MultiSi_wafer_RER = copyActivity(\n",
    "    USER_DB, # base utilisateur\n",
    "    MultiSi_wafer_init_RER, # activité initiale \n",
    "    'multi-Si wafer, at plant, RERadjusted') # Nouveau nom\n",
    "#printAct(MultiSi_wafer_RER)\n",
    "MultiSi_wafer_RER.updateExchanges({\n",
    "   'silicon, multi-Si, casted, at plant' : MultiSi_ingot_RER})\n",
    "#printAct(MultiSi_wafer_RER, MultiSi_wafer_init_RER)"
   ]
  },
  {
   "cell_type": "code",
   "execution_count": null,
   "metadata": {},
   "outputs": [],
   "source": [
    "Mono_wafer_storage_init_US = [act for act in SIPV_IEA2020 if 'single-Si wafer, photovoltaics, at regional storage' in act['name'] \n",
    "                                and 'US' in act['location']\n",
    "                                \n",
    "           ][0]\n",
    "Mono_wafer_storage_init_APAC = [act for act in SIPV_IEA2020 if 'single-Si wafer, photovoltaics, at regional storage' in act['name'] \n",
    "                                and 'APAC' in act['location']\n",
    "                                \n",
    "           ][0]\n",
    "Mono_wafer_storage_init_RER = [act for act in SIPV_IEA2020 if 'single-Si wafer, photovoltaics, at regional storage' in act['name'] \n",
    "                                and 'RER' in act['location']\n",
    "                                \n",
    "           ][0]\n",
    "#Mono_wafer_storage_init_US\n",
    "#Mono_wafer_storage_init_APAC\n",
    "#Mono_wafer_storage_init_RER"
   ]
  },
  {
   "cell_type": "code",
   "execution_count": null,
   "metadata": {},
   "outputs": [],
   "source": [
    "Mono_wafer_storage_US = copyActivity(\n",
    "    USER_DB, # base utilisateur\n",
    "    Mono_wafer_storage_init_US, # activité initiale \n",
    "    'single-Si wafer, photovoltaics, US, at regional storage-adjusted') # Nouveau nom\n",
    "#printAct(Mono_wafer_storage_US)\n",
    "Mono_wafer_storage_US.updateExchanges({\n",
    "   'single-Si wafer, photovoltaics, at plant CN' : MonoSi_wafer_CN})\n",
    "#printAct(Mono_wafer_storage_US, Mono_wafer_storage_init_US)"
   ]
  },
  {
   "cell_type": "code",
   "execution_count": null,
   "metadata": {},
   "outputs": [],
   "source": [
    "Mono_wafer_storage_APAC = copyActivity(\n",
    "    USER_DB, # base utilisateur\n",
    "    Mono_wafer_storage_init_APAC, # activité initiale \n",
    "    'single-Si wafer, photovoltaics, APAC, at regional storage-adjusted') # Nouveau nom\n",
    "#printAct(Mono_wafer_storage_APAC)\n",
    "Mono_wafer_storage_APAC.updateExchanges({\n",
    "    'single-Si wafer, photovoltaics, at plant CN' : MonoSi_wafer_CN,\n",
    "    'single-Si wafer, photovoltaics, at plant APAC' : MonoSi_wafer_APAC})\n",
    "#printAct(Mono_wafer_storage_APAC, Mono_wafer_storage_init_APAC)"
   ]
  },
  {
   "cell_type": "code",
   "execution_count": null,
   "metadata": {},
   "outputs": [],
   "source": [
    "Mono_wafer_storage_RER = copyActivity(\n",
    "    USER_DB, # base utilisateur\n",
    "    Mono_wafer_storage_init_RER, # activité initiale \n",
    "    'single-Si wafer, photovoltaics, RER, at regional storage-adjusted') # Nouveau nom\n",
    "#printAct(Mono_wafer_storage_RER)\n",
    "Mono_wafer_storage_RER.updateExchanges({\n",
    "    'single-Si wafer, photovoltaics, at plant CN' : MonoSi_wafer_CN,\n",
    "    'single-Si wafer, photovoltaics, at plant RER' : MonoSi_wafer_RER})\n",
    "#printAct(Mono_wafer_storage_RER, Mono_wafer_storage_init_RER)"
   ]
  },
  {
   "cell_type": "code",
   "execution_count": null,
   "metadata": {},
   "outputs": [],
   "source": [
    "Multi_wafer_storage_init_US = [act for act in SIPV_IEA2020 if 'multi-Si wafer, at regional storage' in act['name'] \n",
    "                                and 'US' in act['location']\n",
    "                                \n",
    "           ][0]\n",
    "Multi_wafer_storage_init_APAC = [act for act in SIPV_IEA2020 if 'multi-Si wafer, at regional storage' in act['name'] \n",
    "                                and 'APAC' in act['location']\n",
    "                                \n",
    "           ][0]\n",
    "Multi_wafer_storage_init_RER = [act for act in SIPV_IEA2020 if 'multi-Si wafer, at regional storage' in act['name'] \n",
    "                                and 'RER' in act['location']\n",
    "                                \n",
    "           ][0]\n",
    "#Multi_wafer_storage_init_US\n",
    "#Multi_wafer_storage_init_APAC\n",
    "#Multi_wafer_storage_init_RER"
   ]
  },
  {
   "cell_type": "code",
   "execution_count": null,
   "metadata": {},
   "outputs": [],
   "source": [
    "Multi_wafer_storage_US = copyActivity(\n",
    "    USER_DB, # base utilisateur\n",
    "    Multi_wafer_storage_init_US, # activité initiale \n",
    "    'multi-Si wafer, at regional storage, US-adjusted') # Nouveau nom\n",
    "#printAct(Multi_wafer_storage_US)\n",
    "Multi_wafer_storage_US.updateExchanges({\n",
    "    'multi-Si wafer, at plant CN' : MultiSi_wafer_CN,\n",
    "      })\n",
    "#printAct(Multi_wafer_storage_US, Multi_wafer_storage_init_US)"
   ]
  },
  {
   "cell_type": "code",
   "execution_count": null,
   "metadata": {},
   "outputs": [],
   "source": [
    "Multi_wafer_storage_APAC = copyActivity(\n",
    "    USER_DB, # base utilisateur\n",
    "    Multi_wafer_storage_init_APAC, # activité initiale \n",
    "    'multi-Si wafer, at regional storage, APAC-adjusted') # Nouveau nom\n",
    "#printAct(Multi_wafer_storage_APAC)\n",
    "Multi_wafer_storage_APAC.updateExchanges({\n",
    "    'multi-Si wafer, at plant CN' : MultiSi_wafer_CN,\n",
    "    'multi-Si wafer, at plant APAC' : MonoSi_wafer_APAC})\n",
    "#printAct(Multi_wafer_storage_APAC, Multi_wafer_storage_init_APAC)"
   ]
  },
  {
   "cell_type": "code",
   "execution_count": null,
   "metadata": {},
   "outputs": [],
   "source": [
    "Multi_wafer_storage_RER = copyActivity(\n",
    "    USER_DB, # base utilisateur\n",
    "    Multi_wafer_storage_init_RER, # activité initiale \n",
    "    'multi-Si wafer, at regional storage, RERadjusted') # Nouveau nom\n",
    "#printAct(Multi_wafer_storage_RER)\n",
    "Multi_wafer_storage_RER.updateExchanges({\n",
    "    'multi-Si wafer, at plant CN' : MultiSi_wafer_CN,\n",
    "    'multi-Si wafer, at plant RER' : MonoSi_wafer_RER})\n",
    "#printAct(Multi_wafer_storage_RER, Multi_wafer_storage_init_RER)"
   ]
  },
  {
   "cell_type": "code",
   "execution_count": null,
   "metadata": {},
   "outputs": [],
   "source": [
    "MonoSi_PVcell_init_CN = [act for act in SIPV_IEA2020 if 'photovoltaic cell, single-Si, at plant' in act['name'] \n",
    "                                and 'CN' in act['location']\n",
    "                                \n",
    "           ][0]\n",
    "MonoSi_PVcell_init_US = [act for act in SIPV_IEA2020 if 'photovoltaic cell, single-Si, at plant' in act['name'] \n",
    "                                and 'US' in act['location']\n",
    "                                \n",
    "           ][0]\n",
    "MonoSi_PVcell_init_APAC = [act for act in SIPV_IEA2020 if 'photovoltaic cell, single-Si, at plant' in act['name'] \n",
    "                                and 'APAC' in act['location']\n",
    "                                \n",
    "           ][0]\n",
    "MonoSi_PVcell_init_RER = [act for act in SIPV_IEA2020 if 'photovoltaic cell, single-Si, at plant' in act['name'] \n",
    "                                and 'RER' in act['location']\n",
    "                                \n",
    "           ][0]\n",
    "#MonoSi_PVcell_init_CN\n",
    "#MonoSi_PVcell_init_US\n",
    "#MonoSi_PVcell_init_APAC\n",
    "#MonoSi_PVcell_init_RER"
   ]
  },
  {
   "cell_type": "code",
   "execution_count": null,
   "metadata": {
    "scrolled": false
   },
   "outputs": [],
   "source": [
    "MonoSi_PVcell_CN = copyActivity(\n",
    "    USER_DB, # base utilisateur\n",
    "    MonoSi_PVcell_init_CN, # activité initiale \n",
    "    'photovoltaic cell, single-Si, CN, at plant-adjusted') # Nouveau nom\n",
    "#printAct(MonoSi_PVcell_CN)\n",
    "MonoSi_PVcell_CN.updateExchanges({\n",
    "    'single-Si wafer, photovoltaics, at plant CN' : MonoSi_wafer_CN,\n",
    "   })\n",
    "#printAct(MonoSi_PVcell_CN, MonoSi_PVcell_init_CN)"
   ]
  },
  {
   "cell_type": "code",
   "execution_count": null,
   "metadata": {
    "scrolled": false
   },
   "outputs": [],
   "source": [
    "MonoSi_PVcell_US = copyActivity(\n",
    "    USER_DB, # base utilisateur\n",
    "    MonoSi_PVcell_init_US, # activité initiale \n",
    "    'photovoltaic cell, single-Si, US, at plant-adjusted') # Nouveau nom\n",
    "#printAct(MonoSi_PVcell_US)\n",
    "MonoSi_PVcell_US.updateExchanges({\n",
    "    'single-Si wafer, photovoltaics, at regional storage' : Mono_wafer_storage_US,\n",
    "   })\n",
    "#printAct(MonoSi_PVcell_US, MonoSi_PVcell_init_US)"
   ]
  },
  {
   "cell_type": "code",
   "execution_count": null,
   "metadata": {
    "scrolled": false
   },
   "outputs": [],
   "source": [
    "MonoSi_PVcell_APAC = copyActivity(\n",
    "    USER_DB, # base utilisateur\n",
    "    MonoSi_PVcell_init_APAC, # activité initiale \n",
    "    'photovoltaic cell, single-Si, APAC, at plant-adjusted') # Nouveau nom\n",
    "#printAct(MonoSi_PVcell_APAC)\n",
    "MonoSi_PVcell_APAC.updateExchanges({\n",
    "    'single-Si wafer, photovoltaics, at regional storage' : Mono_wafer_storage_APAC,\n",
    "   })\n",
    "#printAct(MonoSi_PVcell_APAC, MonoSi_PVcell_init_APAC)"
   ]
  },
  {
   "cell_type": "code",
   "execution_count": null,
   "metadata": {
    "scrolled": false
   },
   "outputs": [],
   "source": [
    "MonoSi_PVcell_RER = copyActivity(\n",
    "    USER_DB, # base utilisateur\n",
    "    MonoSi_PVcell_init_RER, # activité initiale \n",
    "    'photovoltaic cell, single-Si, RER, at plant-adjusted') # Nouveau nom\n",
    "#printAct(MonoSi_PVcell_RER)\n",
    "MonoSi_PVcell_RER.updateExchanges({\n",
    "    'single-Si wafer, photovoltaics, at regional storage' : Mono_wafer_storage_RER,\n",
    "   })\n",
    "#printAct(MonoSi_PVcell_RER, MonoSi_PVcell_init_RER)"
   ]
  },
  {
   "cell_type": "code",
   "execution_count": null,
   "metadata": {},
   "outputs": [],
   "source": [
    "MultiSi_PVcell_init_CN = [act for act in SIPV_IEA2020 if 'photovoltaic cell, multi-Si, at plant' in act['name'] \n",
    "                                and 'CN' in act['location']\n",
    "                                \n",
    "           ][0]\n",
    "MultiSi_PVcell_init_US = [act for act in SIPV_IEA2020 if 'photovoltaic cell, multi-Si, at plant' in act['name'] \n",
    "                                and 'US' in act['location']\n",
    "                                \n",
    "           ][0]\n",
    "MultiSi_PVcell_init_APAC = [act for act in SIPV_IEA2020 if 'photovoltaic cell, multi-Si, at plant' in act['name'] \n",
    "                                and 'APAC' in act['location']\n",
    "                                \n",
    "           ][0]\n",
    "MultiSi_PVcell_init_RER = [act for act in SIPV_IEA2020 if 'photovoltaic cell, multi-Si, at plant' in act['name'] \n",
    "                                and 'RER' in act['location']\n",
    "                                \n",
    "           ][0]"
   ]
  },
  {
   "cell_type": "code",
   "execution_count": null,
   "metadata": {
    "scrolled": false
   },
   "outputs": [],
   "source": [
    "MultiSi_PVcell_CN = copyActivity(\n",
    "    USER_DB, # base utilisateur\n",
    "    MultiSi_PVcell_init_CN, # activité initiale \n",
    "    'photovoltaic cell, multi-Si, at plant, CN-adjusted') # Nouveau nom\n",
    "#printAct(MultiSi_PVcell_CN)\n",
    "MultiSi_PVcell_CN.updateExchanges({\n",
    "    'multi-Si wafer, at plant CN' : MultiSi_wafer_CN,\n",
    "   })\n",
    "#printAct(MultiSi_PVcell_CN, MultiSi_PVcell_init_CN)"
   ]
  },
  {
   "cell_type": "code",
   "execution_count": null,
   "metadata": {
    "scrolled": false
   },
   "outputs": [],
   "source": [
    "MultiSi_PVcell_US = copyActivity(\n",
    "    USER_DB, # base utilisateur\n",
    "    MultiSi_PVcell_init_US, # activité initiale \n",
    "    'photovoltaic cell, multi-Si, at plant, US-adjusted') # Nouveau nom\n",
    "#printAct(MultiSi_PVcell_US)\n",
    "MultiSi_PVcell_US.updateExchanges({\n",
    "    'multi-Si wafer, at regional storage' : Multi_wafer_storage_US,\n",
    "   })\n",
    "#printAct(MultiSi_PVcell_US, MultiSi_PVcell_init_US)"
   ]
  },
  {
   "cell_type": "code",
   "execution_count": null,
   "metadata": {
    "scrolled": false
   },
   "outputs": [],
   "source": [
    "MultiSi_PVcell_APAC = copyActivity(\n",
    "    USER_DB, # base utilisateur\n",
    "    MultiSi_PVcell_init_APAC, # activité initiale \n",
    "    'photovoltaic cell, multi-Si, at plant, APAC-adjusted') # Nouveau nom\n",
    "#printAct(MultiSi_PVcell_APAC)\n",
    "MultiSi_PVcell_APAC.updateExchanges({\n",
    "    'multi-Si wafer, at regional storage' : Multi_wafer_storage_APAC,\n",
    "   })\n",
    "#printAct(MultiSi_PVcell_APAC, MultiSi_PVcell_init_APAC)"
   ]
  },
  {
   "cell_type": "code",
   "execution_count": null,
   "metadata": {
    "scrolled": false
   },
   "outputs": [],
   "source": [
    "MultiSi_PVcell_RER = copyActivity(\n",
    "    USER_DB, # base utilisateur\n",
    "    MultiSi_PVcell_init_RER, # activité initiale \n",
    "    'photovoltaic cell, multi-Si, at plant, RER-adjusted') # Nouveau nom\n",
    "#printAct(MultiSi_PVcell_RER)\n",
    "MultiSi_PVcell_RER.updateExchanges({\n",
    "    'multi-Si wafer, at regional storage' : Multi_wafer_storage_RER,\n",
    "   })\n",
    "#printAct(MultiSi_PVcell_RER, MultiSi_PVcell_init_RER)"
   ]
  },
  {
   "cell_type": "code",
   "execution_count": null,
   "metadata": {},
   "outputs": [],
   "source": [
    "MonoSi_PVcell_storage_init_US = [act for act in SIPV_IEA2020 if 'photovoltaic cell, single-Si, at regional storage' in act['name'] \n",
    "                                and 'US' in act['location']\n",
    "                                \n",
    "           ][0]\n",
    "\n",
    "MonoSi_PVcell_storage_init_RER = [act for act in SIPV_IEA2020 if 'photovoltaic cell, single-Si, at regional storage' in act['name'] \n",
    "                                and 'RER' in act['location']\n",
    "                                \n",
    "           ][0]\n",
    "#MonoSi_PVcell_init_CN\n",
    "#MonoSi_PVcell_init_US\n",
    "#MonoSi_PVcell_init_APAC\n",
    "#MonoSi_PVcell_init_RER"
   ]
  },
  {
   "cell_type": "code",
   "execution_count": null,
   "metadata": {},
   "outputs": [],
   "source": [
    "MonoSi_PVcell_storage_US = copyActivity(\n",
    "    USER_DB, # base utilisateur\n",
    "    MonoSi_PVcell_storage_init_US, # activité initiale \n",
    "    'photovoltaic cell, single-Si, US, at regional storage-adjusted') # Nouveau nom\n",
    "#printAct(MonoSi_PVcell_storage_US)\n",
    "MonoSi_PVcell_storage_US.updateExchanges({\n",
    "    'photovoltaic cell, single-Si, at plant APAC' : MonoSi_PVcell_APAC,\n",
    "    'photovoltaic cell, single-Si, at plant US' : MonoSi_PVcell_US\n",
    "   })\n",
    "#printAct(MonoSi_PVcell_storage_US, MonoSi_PVcell_storage_init_US)"
   ]
  },
  {
   "cell_type": "code",
   "execution_count": null,
   "metadata": {},
   "outputs": [],
   "source": [
    "MonoSi_PVcell_storage_RER = copyActivity(\n",
    "    USER_DB, # base utilisateur\n",
    "    MonoSi_PVcell_storage_init_RER, # activité initiale \n",
    "    'photovoltaic cell, single-Si, RER, at regional storage-adjusted') # Nouveau nom\n",
    "#printAct(MonoSi_PVcell_storage_RER)\n",
    "MonoSi_PVcell_storage_RER.updateExchanges({\n",
    "    'photovoltaic cell, single-Si, at plant APAC' : MonoSi_PVcell_APAC,\n",
    "    'photovoltaic cell, single-Si, at plant RER' : MonoSi_PVcell_RER\n",
    "   })\n",
    "#printAct(MonoSi_PVcell_storage_RER, MonoSi_PVcell_storage_init_RER)"
   ]
  },
  {
   "cell_type": "code",
   "execution_count": null,
   "metadata": {},
   "outputs": [],
   "source": [
    "MultiSi_PVcell_storage_init_US = [act for act in SIPV_IEA2020 if 'photovoltaic cell, multi-Si, at regional storage' in act['name'] \n",
    "                                and 'US' in act['location']\n",
    "                                \n",
    "           ][0]\n",
    "MultiSi_PVcell_storage_init_RER = [act for act in SIPV_IEA2020 if 'photovoltaic cell, multi-Si, at regional storage' in act['name'] \n",
    "                                and 'RER' in act['location']\n",
    "                                \n",
    "           ][0]\n",
    "#MultiSi_PVcell_storage_init_US\n",
    "#MultiSi_PVcell_storage_init_RER"
   ]
  },
  {
   "cell_type": "code",
   "execution_count": null,
   "metadata": {},
   "outputs": [],
   "source": [
    "MultiSi_PVcell_storage_US = copyActivity(\n",
    "    USER_DB, # base utilisateur\n",
    "    MultiSi_PVcell_storage_init_US, # activité initiale \n",
    "    'photovoltaic cell, multi-Si, at regional storage, US-adjusted') # Nouveau nom\n",
    "#printAct(MultiSi_PVcell_storage_US)\n",
    "MultiSi_PVcell_storage_US.updateExchanges({\n",
    "    'photovoltaic cell, multi-Si, at plant APAC' : MultiSi_PVcell_APAC,\n",
    "    'photovoltaic cell, multi-Si, at plant US' : MultiSi_PVcell_US\n",
    "   })\n",
    "#printAct(MultiSi_PVcell_storage_US, MultiSi_PVcell_storage_init_US)"
   ]
  },
  {
   "cell_type": "code",
   "execution_count": null,
   "metadata": {},
   "outputs": [],
   "source": [
    "MultiSi_PVcell_storage_RER = copyActivity(\n",
    "    USER_DB, # base utilisateur\n",
    "    MultiSi_PVcell_storage_init_RER, # activité initiale \n",
    "    'photovoltaic cell, multi-Si, at regional storage, RER-adjusted') # Nouveau nom\n",
    "#printAct(MultiSi_PVcell_storage_RER)\n",
    "MultiSi_PVcell_storage_RER.updateExchanges({\n",
    "    'photovoltaic cell, multi-Si, at plant APAC' : MultiSi_PVcell_APAC,\n",
    "    'photovoltaic cell, multi-Si, at plant RER' : MultiSi_PVcell_RER\n",
    "   })\n",
    "#printAct(MultiSi_PVcell_storage_RER, MultiSi_PVcell_storage_init_RER)"
   ]
  },
  {
   "cell_type": "code",
   "execution_count": null,
   "metadata": {},
   "outputs": [],
   "source": [
    "MonoSi_panel_init_CN = [act for act in SIPV_IEA2020 if 'photovoltaic panel, single-Si, at plant' in act['name'] \n",
    "                                and 'CN' in act['location']\n",
    "                                \n",
    "           ][0]\n",
    "\n",
    "MonoSi_panel_init_RER = [act for act in SIPV_IEA2020 if 'photovoltaic panel, single-Si, at plant' in act['name'] \n",
    "                                and 'RER' in act['location']\n",
    "                                \n",
    "           ][0]\n",
    "MonoSi_panel_init_CN\n",
    "#MonoSi_PVcell_init_US\n",
    "#MonoSi_PVcell_init_APAC\n",
    "#MonoSi_PVcell_init_RER"
   ]
  },
  {
   "cell_type": "code",
   "execution_count": null,
   "metadata": {
    "scrolled": true
   },
   "outputs": [],
   "source": [
    "MonoSi_panel_CN = copyActivity(\n",
    "    USER_DB, # base utilisateur\n",
    "    MonoSi_panel_init_CN, # activité initiale \n",
    "    'photovoltaic panel, single-Si, at plant, CN-adjusted') # Nouveau nom\n",
    "#printAct(MonoSi_panel_CN)\n",
    "MonoSi_panel_CN.updateExchanges({\n",
    "    'photovoltaic cell, single-Si, at plant' : MonoSi_PVcell_CN,\n",
    "    \n",
    "   })\n",
    "#printAct(MonoSi_panel_CN, MonoSi_panel_init_CN)"
   ]
  },
  {
   "cell_type": "code",
   "execution_count": null,
   "metadata": {
    "scrolled": false
   },
   "outputs": [],
   "source": [
    "MonoSi_panel_RER = copyActivity(\n",
    "    USER_DB, # base utilisateur\n",
    "    MonoSi_panel_init_RER, # activité initiale \n",
    "    'photovoltaic panel, single-Si, at plant, RER-adjusted') # Nouveau nom\n",
    "#printAct(MonoSi_panel_RER)\n",
    "MonoSi_panel_RER.updateExchanges({\n",
    "    'photovoltaic cell, single-Si, at regional storage' : MultiSi_PVcell_storage_RER,\n",
    "    \n",
    "   })\n",
    "#printAct(MonoSi_panel_RER, MonoSi_panel_init_RER)"
   ]
  },
  {
   "cell_type": "code",
   "execution_count": null,
   "metadata": {},
   "outputs": [],
   "source": [
    "MultiSi_panel_init_CN = [act for act in SIPV_IEA2020 if 'photovoltaic panel, multi-Si, at plant' in act['name'] \n",
    "                                and 'CN' in act['location']\n",
    "                                \n",
    "           ][0]\n",
    "MultiSi_panel_init_RER = [act for act in SIPV_IEA2020 if 'photovoltaic panel, multi-Si, at plant' in act['name'] \n",
    "                                and 'RER' in act['location']\n",
    "                                \n",
    "           ][0]\n",
    "#MultiSi_panel_init_CN\n",
    "#MultiSi_panel_init_RER"
   ]
  },
  {
   "cell_type": "code",
   "execution_count": null,
   "metadata": {
    "scrolled": false
   },
   "outputs": [],
   "source": [
    "MultiSi_panel_CN = copyActivity(\n",
    "    USER_DB, # base utilisateur\n",
    "    MultiSi_panel_init_CN, # activité initiale \n",
    "    'photovoltaic panel, multi-Si, at plant, CN-adjusted') # Nouveau nom\n",
    "#printAct(MonoSi_ingot_US)\n",
    "MultiSi_panel_CN.updateExchanges({\n",
    "    'photovoltaic cell, multi-Si, at plant' : MultiSi_PVcell_CN,\n",
    "    \n",
    "   })\n",
    "#printAct(MultiSi_panel_CN, MultiSi_panel_init_CN)"
   ]
  },
  {
   "cell_type": "code",
   "execution_count": null,
   "metadata": {
    "scrolled": false
   },
   "outputs": [],
   "source": [
    "MultiSi_panel_RER = copyActivity(\n",
    "    USER_DB, # base utilisateur\n",
    "    MultiSi_panel_init_RER, # activité initiale \n",
    "    'photovoltaic panel, multi-Si, at plant, RER-adjusted') # Nouveau nom\n",
    "#printAct(MultiSi_panel_RER)\n",
    "MultiSi_panel_RER.updateExchanges({\n",
    "    'photovoltaic cell, multi-Si, at regional storage' : MultiSi_PVcell_storage_RER,\n",
    "    \n",
    "  })\n",
    "#printAct(MultiSi_panel_RER, MultiSi_panel_init_RER)"
   ]
  },
  {
   "cell_type": "code",
   "execution_count": null,
   "metadata": {
    "scrolled": false
   },
   "outputs": [],
   "source": [
    "MultiSi_panel_storage_init = [act for act in SIPV_IEA2020 if 'photovoltaic panel, multi-Si, at regional storage' in act['name'] \n",
    "\n",
    "                                and 'RER' in act['location']\n",
    "           ][0]\n",
    "MultiSi_panel_storage = copyActivity(USER_DB, MultiSi_panel_storage_init, 'photovoltaic panel, multi-Si, at regional storage-adjusted')\n",
    "#printAct(MultiSi_panel_storage)\n",
    "MultiSi_panel_storage.updateExchanges({\n",
    "    'photovoltaic panel, multi-Si, at plant CN' : MultiSi_panel_CN,\n",
    "    'photovoltaic panel, multi-Si, at plant RER' : MultiSi_panel_RER,\n",
    "  })\n",
    "#printAct(MultiSi_panel_storage, MultiSi_panel_storage_init)\n",
    "#test.as_dict()\n",
    "#MultiSi_panel\n",
    "#printAct(MultiSi_panel_storage)"
   ]
  },
  {
   "cell_type": "code",
   "execution_count": null,
   "metadata": {},
   "outputs": [],
   "source": [
    "MonoSi_panel_storage_init = [act for act in SIPV_IEA2020 if 'photovoltaic panel, single-Si, at regional storage' in act['name'] \n",
    "\n",
    "                                and 'RER' in act['location']\n",
    "           ][0]\n",
    "MonoSi_panel_storage = copyActivity(USER_DB, MonoSi_panel_storage_init, 'photovoltaic panel, single-Si, at regional storage-adjusted')\n",
    "#printAct(MonoSi_panel_storage)\n",
    "MonoSi_panel_storage.updateExchanges({\n",
    "    'photovoltaic panel, single-Si, at plant CN' : MonoSi_panel_CN,\n",
    "    'photovoltaic panel, single-Si, at plant RER' : MonoSi_panel_RER,\n",
    "  })\n",
    "#printAct(MultiSi_panel_storage, MultiSi_panel_init)\n",
    "#test.as_dict()\n",
    "#MonoSi_panel\n",
    "#printAct(MultiSi_panel)"
   ]
  },
  {
   "cell_type": "code",
   "execution_count": null,
   "metadata": {},
   "outputs": [],
   "source": [
    "CdTepanel_storage_init = [act for act in thinflimPV_IEA2020 if 'photovoltaic panel, CdTe,  mix, at regional storage' in act['name'] \n",
    "\n",
    "                                and 'RER' in act['location']\n",
    "           ][0]\n",
    "CdTepanel_storage = copyActivity(USER_DB, CdTepanel_storage_init, 'photovoltaic panel, CdTe,  mix, at regional storage-adjusted')\n",
    "CdTepanel_storage"
   ]
  },
  {
   "cell_type": "code",
   "execution_count": null,
   "metadata": {},
   "outputs": [],
   "source": [
    "CIGSpanel_storage_init = [act for act in thinflimPV_IEA2020 if 'photovoltaic panel, CIS, at plant' in act['name'] \n",
    "\n",
    "                                and 'DE' in act['location']\n",
    "           ][0]\n",
    "CIGSpanel_storage = copyActivity(USER_DB, CIGSpanel_storage_init, 'photovoltaic panel, CIS, at plant-adjusted')\n",
    "CIGSpanel_storage"
   ]
  },
  {
   "cell_type": "code",
   "execution_count": null,
   "metadata": {},
   "outputs": [],
   "source": [
    "EoL_Si_panel_init = [act for act in SIPV_IEA2020 if 'end of life treatment, c-Si PV module' in act['name'] \n",
    "\n",
    "                                and 'RER' in act['location']\n",
    "           ][0]\n",
    "#EoL_Si_panel_init\n",
    "EoL_Si_panel = copyActivity(USER_DB, EoL_Si_panel_init, 'end of life treatment, c-Si PV module-adjusted')\n",
    "EoL_Si_panel"
   ]
  },
  {
   "cell_type": "code",
   "execution_count": null,
   "metadata": {},
   "outputs": [],
   "source": [
    "EoL_CdTe_panel_init = [act for act in SIPV_IEA2020 if 'end of treatment, CdTe PV module' in act['name'] \n",
    "\n",
    "                                and 'FR' in act['location']\n",
    "           ][0]\n",
    "EoL_CdTe_panel_init\n",
    "EoL_CdTe_panel = copyActivity(USER_DB, EoL_CdTe_panel_init, 'end of life treatment, CdTe PV module-adjusted')\n",
    "EoL_CdTe_panel"
   ]
  },
  {
   "cell_type": "code",
   "execution_count": null,
   "metadata": {},
   "outputs": [],
   "source": [
    "EoL_CIGS_panel_init = [act for act in SIPV_IEA2020 if 'end of life treatment, CIGS PV module' in act['name'] \n",
    "\n",
    "                                and 'FR' in act['location']\n",
    "           ][0]\n",
    "EoL_CIGS_panel_init\n",
    "EoL_CIGS_panel = copyActivity(USER_DB, EoL_CIGS_panel_init, 'end of life treatment, CIGS PV module-adjusted')\n",
    "EoL_CIGS_panel"
   ]
  },
  {
   "cell_type": "markdown",
   "metadata": {},
   "source": [
    "###  PV plant Network connection unit & auxiliaries"
   ]
  },
  {
   "cell_type": "code",
   "execution_count": null,
   "metadata": {},
   "outputs": [],
   "source": [
    "bdb = bw.Database('IEA-PVPS-LCI-19')\n",
    "bdb.deregister()"
   ]
  },
  {
   "cell_type": "code",
   "execution_count": null,
   "metadata": {},
   "outputs": [],
   "source": [
    "bdb = bw.Database('IEA-PVPS-ThinfilmPV')\n",
    "bdb.deregister()"
   ]
  },
  {
   "cell_type": "code",
   "execution_count": null,
   "metadata": {},
   "outputs": [],
   "source": [
    "diesel = findTechAct('market for diesel, burned in building machine', 'GLO')\n",
    "diesel"
   ]
  },
  {
   "cell_type": "code",
   "execution_count": null,
   "metadata": {},
   "outputs": [],
   "source": [
    "low_elec = findTechAct('market for electricity, low voltage', 'FR')\n",
    "low_elec"
   ]
  },
  {
   "cell_type": "code",
   "execution_count": null,
   "metadata": {},
   "outputs": [],
   "source": [
    "inverter = findTechAct('market for inverter, 500kW', 'GLO')\n",
    "inverter"
   ]
  },
  {
   "cell_type": "code",
   "execution_count": null,
   "metadata": {},
   "outputs": [],
   "source": [
    "mounting_system = findTechAct('photovoltaic mounting system production, for 570kWp open ground module', 'GLO')\n",
    "mounting_system"
   ]
  },
  {
   "cell_type": "code",
   "execution_count": null,
   "metadata": {
    "scrolled": false
   },
   "outputs": [],
   "source": [
    "weight_PVmounting_system_m2_kg = 10.37 "
   ]
  },
  {
   "cell_type": "code",
   "execution_count": null,
   "metadata": {},
   "outputs": [],
   "source": [
    "PV_electric_installation = findTechAct('photovoltaics, electric installation for 570kWp module, open ground', 'GLO')\n",
    "#printAct(PV_electric_installation)\n",
    "PV_electric_installation"
   ]
  },
  {
   "cell_type": "code",
   "execution_count": null,
   "metadata": {
    "scrolled": false
   },
   "outputs": [],
   "source": [
    "weight_PVelectric_installation_unit_kg = 0\n",
    "for exc in PV_electric_installation.exchanges():\n",
    "    if exc['unit'] == \"kilogram\":\n",
    "        if 'waste' not in exc['name']:\n",
    "            if 'scrap' not in exc['name']:\n",
    "                if exc['type']=='technosphere':\n",
    "                    if 'wire drawing, copper' not in exc['name']:\n",
    "                        print(exc['name'])\n",
    "                        print(exc['amount'])\n",
    "                    weight_PVelectric_installation_unit_kg = weight_PVelectric_installation_unit_kg+exc['amount']\n",
    "weight_PVelectric_installation_unit_kg"
   ]
  },
  {
   "cell_type": "code",
   "execution_count": null,
   "metadata": {},
   "outputs": [],
   "source": [
    "tap_water = findTechAct('market for tap water', 'Europe without Switzerland')\n",
    "tap_water"
   ]
  },
  {
   "cell_type": "code",
   "execution_count": null,
   "metadata": {},
   "outputs": [],
   "source": [
    "tap_water_waste = findTechAct('market for wastewater, from residence', 'CH')\n",
    "tap_water_waste"
   ]
  },
  {
   "cell_type": "code",
   "execution_count": null,
   "metadata": {},
   "outputs": [],
   "source": [
    "Water_loss = [act for act in bio if 'Water' in act['name'] \n",
    "                                            and 'salt' not in act['name'] \n",
    "                                            and 'water' in str(act['categories'])\n",
    "                                            and 'natural resource' not in str(act['categories'])\n",
    "                                            and 'ground' not in str(act['categories'])\n",
    "                                            and 'surface' not in str(act['categories'])\n",
    "                                            and 'ocean' not in str(act['categories'])\n",
    "                                            and 'well' not in str(act['categories'])\n",
    "              \n",
    "         ][0]\n",
    "Water_loss"
   ]
  },
  {
   "cell_type": "markdown",
   "metadata": {},
   "source": [
    "### transportation needed(Supplementary to achieve consistent)"
   ]
  },
  {
   "cell_type": "code",
   "execution_count": null,
   "metadata": {},
   "outputs": [],
   "source": [
    "#transportation needed(Supplementary to achieve consistent)\n",
    "Transport_lorry = findTechAct('transport, freight, lorry, all sizes, EURO6 to generic market for transport, freight, lorry, unspecified', 'RER')\n",
    "Transport_lorry"
   ]
  },
  {
   "cell_type": "code",
   "execution_count": null,
   "metadata": {
    "scrolled": true
   },
   "outputs": [],
   "source": [
    "Transport_train = findTechAct('market group for transport, freight train', 'RER')\n",
    "Transport_train"
   ]
  },
  {
   "cell_type": "code",
   "execution_count": null,
   "metadata": {},
   "outputs": [],
   "source": [
    "Transport_ocean = findTechAct('market for transport, freight, sea, bulk carrier for dry goods', 'GLO')\n",
    "Transport_ocean"
   ]
  },
  {
   "cell_type": "code",
   "execution_count": null,
   "metadata": {
    "scrolled": true
   },
   "outputs": [],
   "source": [
    "# Transport pv panels (1 m2 PV panel mix)\n",
    "transport_monoSipanel_lorry = mass_monoSi_model*d_lorry_pv_plant/1000\n",
    "transport_multiSipanel_lorry = mass_multiSi_model*d_lorry_pv_plant/1000\n",
    "transport_CIGSpanel_lorry = mass_CIGS_model*d_lorry_pv_plant/1000\n",
    "transport_CdTepanel_lorry = mass_CdTe_model*d_lorry_pv_plant/1000\n",
    "\n",
    "transport_monoSipanel_train = mass_monoSi_model*d_train_pv_plant/1000\n",
    "transport_multiSipanel_train = mass_multiSi_model*d_train_pv_plant/1000\n",
    "transport_CIGSpanel_train = mass_CIGS_model*d_train_pv_plant/1000\n",
    "transport_CdTepanel_train = mass_CdTe_model*d_train_pv_plant/1000\n",
    "\n",
    "transport_PVpanelmix_lorry = transport_monoSipanel_lorry * Ratio_monoSi\n",
    "                             + transport_multiSipanel_lorry*Ratio_multiSi\n",
    "                             +Ratio_thinfilm*(Ratio_CIGS_panel*transport_CIGSpanel_lorry\n",
    "                             +Ratio_CdTe_panel*transport_CdTepanel_lorry)\n",
    "transport_PVpanelmix_train = transport_monoSipanel_train*Ratio_monoSi\n",
    "                             +transport_multiSipanel_train*Ratio_multiSi\n",
    "                             +Ratio_thinfilm*(Ratio_CIGS_panel*transport_CIGSpanel_train+Ratio_CdTe_panel*transport_CdTepanel_train)\n",
    "\n",
    "# Transport inverter (1 unit of inverter, 500KW)\n",
    "transport_PVInverter_lorry= PVInverter_weight*500*d_lorry_pv_plant*PVlife/PVInverter_life/1000\n",
    "transport_PVInverter_train= PVInverter_weight*500*d_train_pv_plant*PVlife/PVInverter_life/1000\n",
    "\n",
    "# Transport mounting system (1 m2)\n",
    "transport_mounting_system_lorry = weight_PVmounting_system_m2_kg*d_lorry_pv_plant/1000\n",
    "transport_mounting_system_train = weight_PVmounting_system_m2_kg*d_train_pv_plant/1000\n",
    "\n",
    "# Transport PVelectric_installation (1 unit)\n",
    "transport_installation_system_lorry = weight_PVelectric_installation_unit_kg*d_lorry_pv_plant/1000\n",
    "transport_installation_system_train = weight_PVelectric_installation_unit_kg*d_train_pv_plant/1000\n",
    "\n",
    "transportation_pv_FU = newActivity(USER_DB, \"Supplementary transportation needed in French average solar electricity production mix, per MJ H2 produced\", \"ton kilometer\")\n",
    "# to reach consistenty LCA boundaires of French ground solar electricity generation mix\n",
    "# Les échanges sont définis comme un dictionnaire de \n",
    "# <activité> : <quantité>\n",
    "transportation_pv_FU.addExchanges({ \n",
    "    \n",
    "    # Transport pv panels\n",
    "Transport_lorry :  transport_PVpanelmix_lorry*Area_PVmodel\n",
    "                   +transport_PVInverter_lorry/500*Capacity_PVinverter\n",
    "                   +transport_mounting_system_lorry/570*Power_PVmodel*4.27e+03 \n",
    "                   +transport_installation_system_lorry/570*Power_PVmodel,\n",
    "Transport_train :  transport_PVpanelmix_train*Area_PVmodel\n",
    "                   +transport_PVInverter_train/500*Capacity_PVinverter\n",
    "                   +transport_mounting_system_train/570*Power_PVmodel*4.27e+03 \n",
    "                   +transport_installation_system_train/570*Power_PVmodel\n",
    "})"
   ]
  },
  {
   "cell_type": "code",
   "execution_count": null,
   "metadata": {
    "scrolled": true
   },
   "outputs": [],
   "source": [
    "pv_elecmix_FU = newActivity(USER_DB, \"Solar electricity generation mix for France 2019\", \"MJ H2 produced\")\n",
    "# under consistenty LCA boundaires consider average resource availability and technology market share in France 2019\n",
    "# Les échanges sont définis comme un dictionnaire de \n",
    "# <activité> : <quantité>\n",
    "pv_elecmix_FU.addExchanges({ \n",
    "    \n",
    "    \n",
    "    MonoSi_panel_storage : Area_PVmodel*Ratio_monoSi,\n",
    "    MultiSi_panel_storage :  Area_PVmodel*Ratio_multiSi,\n",
    "    CdTepanel_storage :  Area_PVmodel*Ratio_thinfilm*Ratio_CdTe_panel,\n",
    "    CIGSpanel_storage :  Area_PVmodel*Ratio_thinfilm*Ratio_CIGS_panel,\n",
    "    diesel : 7.67e+03/570*Power_PVmodel,\n",
    "    low_elec : 36/570*Power_PVmodel,\n",
    "    inverter : 1/500*Capacity_PVinverter*PVlife/PVInverter_life,\n",
    "    mounting_system : 4.27e+3/570*Power_PVmodel,\n",
    "    PV_electric_installation : 1/570*Power_PVmodel,\n",
    "    \n",
    "    tap_water : 20*Area_PVmodel, # 20 l/m2 PV panels, used for PV panels cleaning from ecoinvent.\n",
    "    tap_water_waste : -20*Area_PVmodel/1000,\n",
    "    Water_loss : 0.2*Area_PVmodel/1000, # 20% of the tap_water is vaporated into the air accroding to ecoinvent.\n",
    "    \n",
    "    EoL_Si_panel : Area_PVmodel*Ratio_monoSi*mass_monoSi_model + Area_PVmodel*Ratio_multiSi*mass_multiSi_model,\n",
    "    EoL_CdTe_panel : Area_PVmodel*Ratio_thinfilm*Ratio_CdTe_panel*mass_CdTe_model,\n",
    "    EoL_CIGS_panel : Area_PVmodel*Ratio_thinfilm*Ratio_CIGS_panel,\n",
    "    transportation_pv_FU : 1\n",
    "    \n",
    "})\n",
    "#printAct(pv_elecmix_FU)"
   ]
  },
  {
   "cell_type": "markdown",
   "metadata": {},
   "source": [
    "## French wind elecrcicty generation mix 2019"
   ]
  },
  {
   "cell_type": "markdown",
   "metadata": {},
   "source": [
    "### France's wind turbine assembly market mix 2019"
   ]
  },
  {
   "cell_type": "markdown",
   "metadata": {},
   "source": [
    "#### <1 MW windturbine assembly onshore"
   ]
  },
  {
   "cell_type": "code",
   "execution_count": null,
   "metadata": {},
   "outputs": [],
   "source": [
    "lubricate_oil = findTechAct('market for lubricating oil', 'RER')"
   ]
  },
  {
   "cell_type": "code",
   "execution_count": null,
   "metadata": {},
   "outputs": [],
   "source": [
    "waste_oil = findTechAct('market for waste mineral oil', 'Europe without Switzerland')"
   ]
  },
  {
   "cell_type": "code",
   "execution_count": null,
   "metadata": {},
   "outputs": [],
   "source": [
    "network_1MW_onshore = findTechAct('wind power plant construction, 800kW, fixed parts', 'GLO')"
   ]
  },
  {
   "cell_type": "code",
   "execution_count": null,
   "metadata": {},
   "outputs": [],
   "source": [
    "# mass of the network connection unit need to be transported to achieve consistent transportation boundaries of H2 production feedstock market.\n",
    "network_1MW_onshore_unit_kg = 0\n",
    "for exc in network_1MW_onshore.exchanges():\n",
    "    if exc['unit'] == \"kilogram\":\n",
    "        if 'waste' not in exc['name']:\n",
    "            if 'scrap' not in exc['name']:\n",
    "                if exc['type']=='technosphere':\n",
    "                    if 'reinforcing steel' not in exc['name']:\n",
    "                        if 'sheet rolling, steel' not in exc['name']:\n",
    "                            print(exc['name'])\n",
    "                            print(exc['amount'])\n",
    "                    network_1MW_onshore_unit_kg = network_1MW_onshore_unit_kg+exc['amount']\n",
    "network_1MW_onshore_unit_kg"
   ]
  },
  {
   "cell_type": "code",
   "execution_count": null,
   "metadata": {},
   "outputs": [],
   "source": [
    "turbine_1MW_onshore = findTechAct('wind power plant construction, 800kW, moving parts', 'GLO')\n",
    "#printAct(turbine_1MW_onshore)"
   ]
  },
  {
   "cell_type": "code",
   "execution_count": null,
   "metadata": {
    "scrolled": false
   },
   "outputs": [],
   "source": [
    "# mass of the turbine unit need to be transported to achieve consistent transportation boundaries of H2 production feedstock market.\n",
    "turbine_1MW_onshore_unit_kg = 0\n",
    "for exc in turbine_1MW_onshore.exchanges():\n",
    "    if exc['unit'] == \"kilogram\":\n",
    "        if 'waste' not in exc['name']:\n",
    "            if 'scrap' not in exc['name']:\n",
    "                if exc['type']=='technosphere':\n",
    "                    if 'sheet rolling, chromium steel' not in exc['name']:\n",
    "                        if 'sheet rolling, aluminium' not in exc['name']:\n",
    "                            if 'wire drawing, copper' not in exc['name']:\n",
    "                                if 'section bar rolling, steel' not in exc['name']:\n",
    "                                    print(exc['name'])\n",
    "                                    print(exc['amount'])\n",
    "                    turbine_1MW_onshore_unit_kg = turbine_1MW_onshore_unit_kg+exc['amount']\n",
    "turbine_1MW_onshore_unit_kg"
   ]
  },
  {
   "cell_type": "code",
   "execution_count": null,
   "metadata": {},
   "outputs": [],
   "source": [
    "# LCI of one onshore wind farm unit equiped with <1 MW turbine assembly\n",
    "\n",
    "onshore_windfarm_1MW = newActivity(USER_DB, \"one unit of onshore wind farm composed by wind turbine assembly with <1MW wind turbine\", \"unit\")\n",
    "# to reach consistenty LCA boundaires of French wind electricity generation mix\n",
    "# Les échanges sont définis comme un dictionnaire de \n",
    "# <activité> : <quantité>\n",
    "onshore_windfarm_1MW.addExchanges({ \n",
    "    \n",
    "    network_1MW_onshore :  1*Turbine_life/Wind_network_life,\n",
    "    turbine_1MW_onshore :  1,\n",
    "    lubricate_oil : 3.9863E-05/3.1637E-08/20*Turbine_life, # calculated base on the ecoinvent v3.6 'electricity production, wind, <1MW turbine, onshore - FR' Dataset Information (UPR)\n",
    "    waste_oil : -3.9863E-05/3.1637E-08/20*Turbine_life, # calculated base on the ecoinvent v3.6 'electricity production, wind, <1MW turbine, onshore - FR' Dataset Information (UPR)\n",
    "    Transport_lorry : 3.9863E-05/3.1637E-08*Turbine_life/1000*200*2 # calculated base on the ecoinvent v3.6 'electricity production, wind, <1MW turbine, onshore - FR' Dataset Information (UPR)\n",
    "    \n",
    "})"
   ]
  },
  {
   "cell_type": "markdown",
   "metadata": {},
   "source": [
    "#### 1-3 MW windturbine assembly onshore"
   ]
  },
  {
   "cell_type": "code",
   "execution_count": null,
   "metadata": {},
   "outputs": [],
   "source": [
    "network_1_3MW_onshore = findTechAct('market for network connection, turbine 2MW, onshore', 'GLO')"
   ]
  },
  {
   "cell_type": "code",
   "execution_count": null,
   "metadata": {
    "scrolled": true
   },
   "outputs": [],
   "source": [
    "# mass of the network connection unit need to be transported to achieve consistent transportation boundaries of H2 production feedstock market.\n",
    "network_weight_base = findTechAct('wind turbine network connection construction, 2MW, onshore', 'CA-QC')\n",
    "network_1_3MW_onshore_unit_kg = 0\n",
    "for exc in network_weight_base.exchanges():\n",
    "    if exc['unit'] == \"kilogram\":\n",
    "        if 'waste' not in exc['name']:\n",
    "            if 'scrap' not in exc['name']:\n",
    "                if exc['type']=='technosphere':\n",
    "                    if 'sheet rolling, aluminium' not in exc['name']:\n",
    "                        if 'wire drawing, copper' not in exc['name']:\n",
    "                            print(exc['name'])\n",
    "                            print(exc['amount'])\n",
    "                    network_1_3MW_onshore_unit_kg = network_1_3MW_onshore_unit_kg+exc['amount']\n",
    "network_1_3MW_onshore_unit_kg"
   ]
  },
  {
   "cell_type": "code",
   "execution_count": null,
   "metadata": {},
   "outputs": [],
   "source": [
    "turbine_1_3MW_onshore = findTechAct('wind turbine construction, 2MW, onshore', 'GLO')"
   ]
  },
  {
   "cell_type": "code",
   "execution_count": null,
   "metadata": {},
   "outputs": [],
   "source": [
    "# mass of the wind turbine unit need to be transported to achieve consistent transportation boundaries of H2 production feedstock market.\n",
    "turbine_1_3MW_onshore_unit_kg = 0\n",
    "for exc in turbine_1_3MW_onshore.exchanges():\n",
    "    if exc['unit'] == \"kilogram\":\n",
    "        if 'waste' not in exc['name']:\n",
    "            if 'scrap' not in exc['name']:\n",
    "                if exc['type']=='technosphere':\n",
    "                    if 'reinforcing steel' not in exc['name']:\n",
    "                        if 'wire drawing, copper' not in exc['name']:\n",
    "                            if 'sheet rolling, steel' not in exc['name']:\n",
    "                                if 'sheet rolling, aluminium' not in exc['name']:\n",
    "                                    if 'sheet rolling, chromium steel' not in exc['name']:\n",
    "                                        print(exc['name'])\n",
    "                                        print(exc['amount'])\n",
    "                    turbine_1_3MW_onshore_unit_kg = turbine_1_3MW_onshore_unit_kg+exc['amount']\n",
    "turbine_1_3MW_onshore_unit_kg"
   ]
  },
  {
   "cell_type": "code",
   "execution_count": null,
   "metadata": {},
   "outputs": [],
   "source": [
    "# LCI of one onshore wind farm unit equiped with 1-3 MW turbine assembly\n",
    "\n",
    "onshore_windfarm_1_3MW = newActivity(USER_DB, \"one unit of onshore wind farm composed by wind turbine assembly with 1-3MW wind turbine\", \"unit\")\n",
    "# to reach consistenty LCA boundaires of French wind electricity generation mix\n",
    "# Les échanges sont définis comme un dictionnaire de \n",
    "# <activité> : <quantité>\n",
    "onshore_windfarm_1_3MW.addExchanges({ \n",
    "    \n",
    "    network_1_3MW_onshore :  1*Turbine_life/Wind_network_life,\n",
    "    turbine_1_3MW_onshore :  1,\n",
    "    lubricate_oil : 3.9863E-05/1.2655E-08/20*Turbine_life, # calculated base on the ecoinvent v3.6 'electricity production, wind, <1MW turbine, onshore - FR' Dataset Information (UPR)\n",
    "    waste_oil : -3.9863E-05/1.2655E-08/20*Turbine_life, # calculated base on the ecoinvent v3.6 'electricity production, wind, <1MW turbine, onshore - FR' Dataset Information (UPR)\n",
    "    Transport_lorry : 3.9863E-05/1.2655E-08*Turbine_life/1000*200*2 # calculated base on the ecoinvent v3.6 'electricity production, wind, <1MW turbine, onshore - FR' Dataset Information (UPR)\n",
    "    \n",
    "})"
   ]
  },
  {
   "cell_type": "markdown",
   "metadata": {},
   "source": [
    "#### >3 MW windturbine assembly onshore"
   ]
  },
  {
   "cell_type": "code",
   "execution_count": null,
   "metadata": {},
   "outputs": [],
   "source": [
    "network_3MW_onshore = findTechAct('wind turbine network connection construction, 4.5MW, onshore', 'GLO')\n",
    "network_3MW_onshore"
   ]
  },
  {
   "cell_type": "code",
   "execution_count": null,
   "metadata": {
    "scrolled": true
   },
   "outputs": [],
   "source": [
    "# mass of the network connection unit need to be transported to achieve consistent transportation boundaries of H2 production feedstock market.\n",
    "network_3MW_onshore_unit_kg = 0\n",
    "for exc in network_3MW_onshore.exchanges():\n",
    "    if exc['unit'] == \"kilogram\":\n",
    "        if 'waste' not in exc['name']:\n",
    "            if 'scrap' not in exc['name']:\n",
    "                if exc['type']=='technosphere':\n",
    "                    if 'wire drawing, copper' not in exc['name']:\n",
    "                        if 'sheet rolling, chromium steel' not in exc['name']:\n",
    "                            if 'wire drawing, steel' not in exc['name']:\n",
    "                                if 'sheet rolling, steel' not in exc['name']:\n",
    "                                    print(exc['name'])\n",
    "                                    print(exc['amount'])\n",
    "                    network_3MW_onshore_unit_kg = network_3MW_onshore_unit_kg+exc['amount']\n",
    "network_3MW_onshore_unit_kg"
   ]
  },
  {
   "cell_type": "code",
   "execution_count": null,
   "metadata": {},
   "outputs": [],
   "source": [
    "turbine_3MW_onshore = findTechAct('wind turbine construction, 4.5MW, onshore', 'GLO')\n",
    "turbine_3MW_onshore"
   ]
  },
  {
   "cell_type": "code",
   "execution_count": null,
   "metadata": {
    "scrolled": true
   },
   "outputs": [],
   "source": [
    "# mass of the network connection unit need to be transported to achieve consistent transportation boundaries of H2 production feedstock market.\n",
    "turbine_3MW_onshore_unit_kg = 0\n",
    "for exc in turbine_3MW_onshore.exchanges():\n",
    "    if exc['unit'] == \"kilogram\":\n",
    "        if 'waste' not in exc['name']:\n",
    "            if 'scrap' not in exc['name']:\n",
    "                if exc['type']=='technosphere':\n",
    "                    if 'wire drawing, copper' not in exc['name']:\n",
    "                        if 'sheet rolling, chromium steel' not in exc['name']:\n",
    "                            if 'wire drawing, steel' not in exc['name']:\n",
    "                                if 'sheet rolling, steel' not in exc['name']:\n",
    "                                    if 'sheet rolling, aluminium' not in exc['name']:\n",
    "                                        if 'reinforcing steel' not in exc['name']:\n",
    "                                            print(exc['name'])\n",
    "                                            print(exc['amount'])\n",
    "                    turbine_3MW_onshore_unit_kg = turbine_3MW_onshore_unit_kg+exc['amount']\n",
    "turbine_3MW_onshore_unit_kg"
   ]
  },
  {
   "cell_type": "code",
   "execution_count": null,
   "metadata": {},
   "outputs": [],
   "source": [
    "# LCI of one onshore wind farm unit equiped with >3 MW turbine assembly\n",
    "\n",
    "onshore_windfarm_3MW = newActivity(USER_DB, \"one unit of onshore wind farm composed by wind turbine assembly with >3MW wind turbine\", \"unit\")\n",
    "# to reach consistenty LCA boundaires of French wind electricity generation mix\n",
    "\n",
    "onshore_windfarm_3MW.addExchanges({ \n",
    "    \n",
    "    network_3MW_onshore :  1*Turbine_life/Wind_network_life,\n",
    "    turbine_3MW_onshore :  1,\n",
    "    lubricate_oil : 3.9863E-05/5.6244E-09/20*Turbine_life, # calculated base on the ecoinvent v3.6 'electricity production, wind, <1MW turbine, onshore - FR' Dataset Information (UPR)\n",
    "    waste_oil : -3.9863E-05/5.6244E-09/20*Turbine_life, # calculated base on the ecoinvent v3.6 'electricity production, wind, <1MW turbine, onshore - FR' Dataset Information (UPR)\n",
    "    Transport_lorry : 3.9863E-05/5.6244E-09*Turbine_life/1000*200*2 # calculated base on the ecoinvent v3.6 'electricity production, wind, <1MW turbine, onshore - FR' Dataset Information (UPR)\n",
    "    \n",
    "})"
   ]
  },
  {
   "cell_type": "markdown",
   "metadata": {},
   "source": [
    "#### 1-3 MW windturbine assembly offshore"
   ]
  },
  {
   "cell_type": "code",
   "execution_count": null,
   "metadata": {},
   "outputs": [],
   "source": [
    "network_1_3MW_offshore = findTechAct('wind power plant construction, 2MW, offshore, fixed parts', 'GLO')"
   ]
  },
  {
   "cell_type": "code",
   "execution_count": null,
   "metadata": {},
   "outputs": [],
   "source": [
    "# mass of the wind network connection unit need to be transported to achieve consistent transportation boundaries of H2 production feedstock market.\n",
    "network_1_3MW_offshore_unit_kg = 0\n",
    "for exc in network_1_3MW_offshore.exchanges():\n",
    "    if exc['unit'] == \"kilogram\":\n",
    "        if 'waste' not in exc['name']:\n",
    "            if 'scrap' not in exc['name']:\n",
    "                if exc['type']=='technosphere':\n",
    "                    if 'reinforcing steel' not in exc['name']:\n",
    "                        if 'gravel' not in exc['name']:\n",
    "                            if 'sheet rolling, steel' not in exc['name']:\n",
    "                                if 'wire drawing, copper' not in exc['name']:\n",
    "                                    print(exc['name'])\n",
    "                                    print(exc['amount'])\n",
    "                    network_1_3MW_offshore_unit_kg = network_1_3MW_offshore_unit_kg+exc['amount']\n",
    "network_1_3MW_offshore_unit_kg"
   ]
  },
  {
   "cell_type": "code",
   "execution_count": null,
   "metadata": {},
   "outputs": [],
   "source": [
    "turbine_1_3MW_offshore = findTechAct('wind power plant construction, 2MW, offshore, moving parts', 'GLO')\n",
    "turbine_1_3MW_offshore"
   ]
  },
  {
   "cell_type": "code",
   "execution_count": null,
   "metadata": {
    "scrolled": false
   },
   "outputs": [],
   "source": [
    "# mass of the network connection unit need to be transported to achieve consistent transportation boundaries of H2 production feedstock market.\n",
    "turbine_1_3MW_offshore_unit_kg = 0\n",
    "for exc in turbine_1_3MW_offshore.exchanges():\n",
    "    if exc['unit'] == \"kilogram\":\n",
    "        if 'waste' not in exc['name']:\n",
    "            if 'scrap' not in exc['name']:\n",
    "                if exc['type']=='technosphere':\n",
    "                    if 'section bar rolling, steel' not in exc['name']:\n",
    "                        if 'sheet rolling, aluminium' not in exc['name']:\n",
    "                            if 'sheet rolling, chromium steel' not in exc['name']:\n",
    "                                if 'wire drawing, copper' not in exc['name']:\n",
    "                                    print(exc['name'])\n",
    "                                    print(exc['amount'])\n",
    "                    turbine_1_3MW_offshore_unit_kg = turbine_1_3MW_offshore_unit_kg+exc['amount']\n",
    "turbine_1_3MW_offshore_unit_kg"
   ]
  },
  {
   "cell_type": "code",
   "execution_count": null,
   "metadata": {},
   "outputs": [],
   "source": [
    "# LCI of one offshore wind farm unit equiped with 1-3 MW turbine assembly\n",
    "\n",
    "offshore_windfarm_1_3MW = newActivity(USER_DB, \"one unit of offshore wind farm composed by wind turbine assembly with 1-3MW wind turbine\", \"unit\")\n",
    "# to reach consistenty LCA boundaires of French wind electricity generation mix\n",
    "# Les échanges sont définis comme un dictionnaire de \n",
    "# <activité> : <quantité>\n",
    "offshore_windfarm_1_3MW.addExchanges({ \n",
    "    \n",
    "    network_1_3MW_offshore :  1*Turbine_life/Wind_network_life,\n",
    "    turbine_1_3MW_offshore :  1,\n",
    "    lubricate_oil : 5.75E-05/9.5E-09/20*Turbine_life, # calculated base on the ecoinvent v3.6 'electricity production, wind, <1MW turbine, onshore - FR' Dataset Information (UPR)\n",
    "    waste_oil : -5.75E-05/9.5E-09/20*Turbine_life, # calculated base on the ecoinvent v3.6 'electricity production, wind, <1MW turbine, onshore - FR' Dataset Information (UPR)\n",
    "    Transport_lorry : 5.75E-05/9.5E-09*Turbine_life/1000*200*2 # calculated base on the ecoinvent v3.6 'electricity production, wind, <1MW turbine, onshore - FR' Dataset Information (UPR)\n",
    "    \n",
    "})"
   ]
  },
  {
   "cell_type": "code",
   "execution_count": null,
   "metadata": {},
   "outputs": [],
   "source": [
    "# Transport of wind farm mix to achieve consistent LCA boundaries of H2 feedstock market\n",
    "transport_network_1MW_onshore_lorry = network_1MW_onshore_unit_kg*d_lorry_wind_plant/1000\n",
    "transport_turbine_1MW_onshore_lorry = turbine_1MW_onshore_unit_kg*d_lorry_wind_plant/1000\n",
    "transport_network_1_3MW_onshore_lorry = network_1_3MW_onshore_unit_kg*d_lorry_wind_plant/1000\n",
    "transport_turbine_1_3MW_onshore_lorry = turbine_1_3MW_onshore_unit_kg*d_lorry_wind_plant/1000\n",
    "transport_network_3MW_onshore_lorry = network_3MW_onshore_unit_kg*d_lorry_wind_plant/1000\n",
    "transport_turbine_3MW_onshore_lorry = turbine_3MW_onshore_unit_kg*d_lorry_wind_plant/1000\n",
    "transport_network_1_3MW_offshore_lorry = network_1_3MW_offshore_unit_kg*d_lorry_wind_plant/1000\n",
    "transport_turbine_1_3MW_offshore_lorry = turbine_1_3MW_offshore_unit_kg*d_lorry_wind_plant/1000\n",
    "\n",
    "\n",
    "transport_network_1MW_onshore_train = network_1MW_onshore_unit_kg*d_train_wind_plant/1000\n",
    "transport_turbine_1MW_onshore_train = turbine_1MW_onshore_unit_kg*d_train_wind_plant/1000\n",
    "transport_network_1_3MW_onshore_train = network_1_3MW_onshore_unit_kg*d_train_wind_plant/1000\n",
    "transport_turbine_1_3MW_onshore_train = turbine_1_3MW_onshore_unit_kg*d_train_wind_plant/1000\n",
    "transport_network_3MW_onshore_train = network_3MW_onshore_unit_kg*d_train_wind_plant/1000\n",
    "transport_turbine_3MW_onshore_train = turbine_3MW_onshore_unit_kg*d_train_wind_plant/1000\n",
    "transport_network_1_3MW_offshore_train = network_1_3MW_offshore_unit_kg*d_train_wind_plant/1000\n",
    "transport_turbine_1_3MW_offshore_train = turbine_1_3MW_offshore_unit_kg*d_train_wind_plant/1000\n",
    "\n",
    "transport_network_1_3MW_offshore_ocean = network_1_3MW_offshore_unit_kg*Transport_ocean_wind/1000\n",
    "transport_turbine_1_3MW_offshore_ocean = turbine_1_3MW_offshore_unit_kg*Transport_ocean_wind/1000\n",
    "\n",
    "transport_windfarmmix_lorry = (transport_network_1MW_onshore_lorry + transport_turbine_1MW_onshore_lorry)* Ratio_onshore * Ratio_1MWturbine_onshore \n",
    "                               + (transport_network_1_3MW_onshore_lorry + transport_turbine_1_3MW_onshore_lorry)* Ratio_onshore * Ratio_1_3MWturbine_onshore \n",
    "                               + (transport_network_3MW_onshore_lorry + transport_turbine_3MW_onshore_lorry) * Ratio_onshore * Ratio_3MWturbine_onshore\n",
    "                               + (transport_network_1_3MW_offshore_lorry + transport_turbine_1_3MW_offshore_lorry)* Ratio_offshore\n",
    "transport_windfarmmix_train = (transport_network_1MW_onshore_train + transport_turbine_1MW_onshore_train)* Ratio_onshore * Ratio_1MWturbine_onshore \n",
    "                               + (transport_network_1_3MW_onshore_train + transport_turbine_1_3MW_onshore_train)* Ratio_onshore * Ratio_1_3MWturbine_onshore \n",
    "                               + (transport_network_3MW_onshore_train + transport_turbine_3MW_onshore_train) * Ratio_onshore * Ratio_3MWturbine_onshore\n",
    "                               + (transport_network_1_3MW_offshore_train + transport_turbine_1_3MW_offshore_train)* Ratio_offshore\n",
    "            \n",
    "transport_windfarmmix_ocean = (transport_network_1_3MW_offshore_ocean + transport_turbine_1_3MW_offshore_ocean) * Ratio_offshore\n",
    "\n",
    "transportation_wind_FU = newActivity(USER_DB, \"Supplementary transportation needed in French average wind electricity production mix, per MJ H2 produced\", \"ton kilometer\")\n",
    "# to reach consistenty LCA boundaires of French wind electricity generation mix\n",
    "# Les échanges sont définis comme un dictionnaire de \n",
    "# <activité> : <quantité>\n",
    "transportation_wind_FU.addExchanges({ \n",
    "    \n",
    "    # Transport pv panels\n",
    "    Transport_lorry :  transport_windfarmmix_lorry/H2_yield_MJ_wind,\n",
    "    Transport_train :  transport_windfarmmix_train/H2_yield_MJ_wind,\n",
    "    Transport_ocean :  transport_windfarmmix_ocean/H2_yield_MJ_wind,\n",
    "})\n",
    "\n"
   ]
  },
  {
   "cell_type": "code",
   "execution_count": null,
   "metadata": {
    "scrolled": false
   },
   "outputs": [],
   "source": [
    "wind_elecmix_FU = newActivity(USER_DB, \"Wind electricity generation mix for France 2019\", \"MJ H2 produced\")\n",
    "# under consistenty LCA boundaires consider average resource availability and technology market share in France 2019\n",
    "# Les échanges sont définis comme un dictionnaire de \n",
    "# <activité> : <quantité>\n",
    "wind_elecmix_FU.addExchanges({ \n",
    "    \n",
    "    onshore_windfarm_1MW : Ratio_onshore * Ratio_1MWturbine_onshore / H2_yield_MJ_wind,\n",
    "    onshore_windfarm_1_3MW : Ratio_onshore * Ratio_1_3MWturbine_onshore / H2_yield_MJ_wind,\n",
    "    onshore_windfarm_3MW : Ratio_onshore * Ratio_3MWturbine_onshore / H2_yield_MJ_wind,\n",
    "    offshore_windfarm_1_3MW : Ratio_offshore / H2_yield_MJ_wind,\n",
    "    \n",
    "    transportation_wind_FU : 1\n",
    "           \n",
    "})\n",
    "printAct(wind_elecmix_FU)"
   ]
  },
  {
   "cell_type": "markdown",
   "metadata": {},
   "source": [
    "## water electrolysis unit"
   ]
  },
  {
   "cell_type": "markdown",
   "metadata": {},
   "source": [
    "### proton exchange membrane electrolyser "
   ]
  },
  {
   "cell_type": "code",
   "execution_count": null,
   "metadata": {},
   "outputs": [],
   "source": [
    "nafion_kg = [act for act in eidb if 'tetrafluoroethylene production' in act['name'] \n",
    "                               and 'RER' in act['location']\n",
    "                               and 'tetrafluoroethylene' in act['reference product']\n",
    "           ][0]\n",
    "\n",
    "#nafion_kg.as_dict()\n",
    "nafion_kg"
   ]
  },
  {
   "cell_type": "code",
   "execution_count": null,
   "metadata": {},
   "outputs": [],
   "source": [
    "#********************************Electrolyseur stack*****************************************************************\n",
    "titanium=findTechAct('market for titanium, primary', loc='GLO')\n",
    "aluminium=findTechAct('market for aluminium, primary, ingot', loc='IAI Area, EU27 & EFTA')#\n",
    "acier_inoxydable=findTechAct('market for steel, chromium steel 18/8, hot rolled', loc='GLO')\n",
    "cuivre=findTechAct('market for copper', loc='GLO')#\n",
    "nafion=nafion_kg           \n",
    "charbon_actif=findTechAct('market for activated carbon, granular' , loc='GLO') #\n",
    "iridium=findBioAct('Iridium, in ground',categories=('natural resource', 'in ground'))   \n",
    "platinium=findTechAct('market for platinum' , loc='GLO')\n",
    "deionised_water=findTechAct('water production, deionised', loc='Europe without Switzerland') \n",
    "\n",
    "#********************************Electrolyseur BOP*****************************************************************\n",
    "low_alloyed_steel=findTechAct('market for steel, low-alloyed', loc=\"GLO\")\n",
    "high_alloyed_steel=findTechAct('steel production, chromium steel 18/8, hot rolled', loc='RER')    \n",
    "plastic_PE=findTechAct('market for polyethylene, high density, granulate', loc='GLO')\n",
    "plastic_PPR=findTechAct('market for polypropylene, granulate', loc='GLO')\n",
    "electronic=findTechAct('electronics production, for control units', loc='RER')\n",
    "process_material=findTechAct('market for lubricating oil', loc='RER')\n",
    "\n",
    "concrete=findTechAct('market for concrete, 40MPa',loc='RoW')     "
   ]
  },
  {
   "cell_type": "code",
   "execution_count": null,
   "metadata": {},
   "outputs": [],
   "source": [
    "#***************************Données pour la PEMWE STACK************************************************************\n",
    "\n",
    "#Quantité de titanium utilisé pour la stack de 1MW 钛\n",
    "Q_titanium_stack = newFloatParam(\n",
    "    \"Q_titanium_stack\",\n",
    "    label_fr=\"Quantité de titanium utilisé pour la stack de 1MW\",\n",
    "    distrib=DistributionType.FIXED,\n",
    "    default=528,\n",
    "    unit=\"kg\",\n",
    "    group=\"production\",\n",
    "    description=\"Quantité de titanium utilisé pour la stack de 1MW\")\n",
    "\n",
    "#Quantité d'aluminium utilisé pour la stack de 1MW 铝\n",
    "Q_aluminium_stack = newFloatParam(\n",
    "    \"Q_aluminium_stack\",\n",
    "    label_fr=\"Quantité d'aluminium utilisé pour la stack de 1MW\",\n",
    "    distrib=DistributionType.FIXED,\n",
    "    default=27,\n",
    "    unit=\"kg\",\n",
    "    group=\"production\",\n",
    "    description=\"Quantité d'aluminium utilisé pour la stack de 1MW\")\n",
    "\n",
    "#Quantité d'acier utilisé pour la stack de 1MW 钢\n",
    "Q_acier_stack = newFloatParam(\n",
    "    \"Q_acier_stack\",\n",
    "    label_fr=\"Quantité d'acier utilisé pour la stack de 1MW\",\n",
    "    distrib=DistributionType.FIXED,\n",
    "    default=100,\n",
    "    unit=\"kg\",\n",
    "    group=\"production\",\n",
    "    description=\"Quantité d'acier utilisé pour la stack de 1MW\")\n",
    "\n",
    "#Quantité de cuivre utilisé pour la stack de 1MW\n",
    "Q_cuivre_stack = newFloatParam(\n",
    "    \"Q_cuivre_stack\",\n",
    "    label_fr=\"Quantité de cuivre utilisé pour la stack de 1MW\",\n",
    "    distrib=DistributionType.FIXED,\n",
    "    default=4.5,\n",
    "    unit=\"kg\",\n",
    "    group=\"production\",\n",
    "    description=\"Quantité de cuivre utilisé pour la stack de 1MW\")\n",
    "\n",
    "#Quantité de nafion utilisé dans la membrane dpour la stack de 1MW\n",
    "Q_nafion_stack = newFloatParam(\n",
    "    \"Q_nafion_stack\",\n",
    "    label_fr=\"Quantité de nafion utilisé dans la membrane pour la stack de 1MW\",\n",
    "    distrib=DistributionType.FIXED,\n",
    "    default=16,\n",
    "    unit=\"kg\",\n",
    "    group=\"production\",\n",
    "    description=\"Quantité de nafion utilisé dans la membrane pour la stack de 1MW\")\n",
    "\n",
    "#Quantité de charbon actif utilisé pour la stack de 1MW\n",
    "Q_charbon_stack = newFloatParam(\n",
    "    \"Q_charbon_stack\",\n",
    "    label_fr=\"Quantité de charbon actif utilisé pour la stack de 1MW\",\n",
    "    distrib=DistributionType.FIXED,\n",
    "    default=9,\n",
    "    unit=\"kg\",\n",
    "    group=\"production\",\n",
    "    description=\"Quantité de cuivre utilisé pour la stack de 1MW\")\n",
    "\n",
    "#Quantité d'iridium utilisé pour la stack de 1MW\n",
    "Q_iridium_stack = newFloatParam(\n",
    "    \"Q_iridium_stack\",\n",
    "    label_fr=\"Quantité d'iridium utilisé pour la stack de 1MW\",\n",
    "    distrib=DistributionType.FIXED,\n",
    "    default=0.75,\n",
    "    unit=\"kg\",\n",
    "    group=\"production\",\n",
    "    description=\"Quantité d'iridium utilisé pour la stack de 1MW\")\n",
    "\n",
    "#Quantité de platinium utilisé pour la stack de 1MW\n",
    "Q_platinium_stack = newFloatParam(\n",
    "    \"Q_platinium_stack\",\n",
    "    label_fr=\"Quantité de platinium utilisé pour la stack de 1MW\",\n",
    "    distrib=DistributionType.FIXED,\n",
    "    default=0.075,\n",
    "    unit=\"kg\",\n",
    "    group=\"production\",\n",
    "    description=\"Quantité de platinium utilisé pour la stack de 1MW\")"
   ]
  },
  {
   "cell_type": "code",
   "execution_count": null,
   "metadata": {},
   "outputs": [],
   "source": [
    "#********************************Données pour la PEMWE BOP**********************************************************\n",
    "\n",
    "Q_high_steel_BOP = newFloatParam(\n",
    "    \"Q_high_steel_BOP\",\n",
    "    label_fr=\"Quantité d'acier fortement allié utilisé pour le BOP de 1MW\",\n",
    "    distrib=DistributionType.FIXED,\n",
    "    default=1900,\n",
    "    unit=\"kg\",\n",
    "    group=\"production\")\n",
    "\n",
    "Q_low_steel_BOP = newFloatParam(\n",
    "    \"Q_low_steel_BOP\",\n",
    "    label_fr=\"Quantité d'acier faiblement allié utilisé pour le BOP de 1MW\",\n",
    "    distrib=DistributionType.FIXED,\n",
    "    default=4800,\n",
    "    unit=\"kg\",\n",
    "    group=\"production\")\n",
    "\n",
    "Q_aluminium_BOP = newFloatParam(\n",
    "    \"Q_aluminium_BOP\",\n",
    "    label_fr=\"Quantité d'aluminium utilisé pour le BOP de 1MW\",\n",
    "    distrib=DistributionType.FIXED,\n",
    "    default=100,\n",
    "    unit=\"kg\",\n",
    "    group=\"production\",\n",
    "    description=\"Quantité d'aluminium utilisé pour le BOP de 1MW\")\n",
    "    \n",
    "Q_cuivre_BOP = newFloatParam(\n",
    "    \"Q_cuivre_BOP\",\n",
    "    label_fr=\"Quantité de cuivre utilisé pour le BOP de 1MW\",\n",
    "    distrib=DistributionType.FIXED,\n",
    "    default=100,\n",
    "    unit=\"kg\",\n",
    "    group=\"production\")\n",
    "    \n",
    "Q_plastic_BOP = newFloatParam(\n",
    "    \"Q_plastic_BOP\",\n",
    "    label_fr=\"Quantité de plastic utilisé pour le BOP de 1MW\",\n",
    "    distrib=DistributionType.FIXED,\n",
    "    default=300,\n",
    "    unit=\"kg\",\n",
    "    group=\"production\")\n",
    "\n",
    "Q_electronic_BOP = newFloatParam(\n",
    "    \"Q_electronic_BOP\",\n",
    "    label_fr=\"Quantité de electronic material utilisé pour le BOP de 1MW\",\n",
    "    distrib=DistributionType.FIXED,\n",
    "    default=1100,\n",
    "    unit=\"kg\",\n",
    "    group=\"production\")\n",
    "    \n",
    "Q_process_BOP = newFloatParam(\n",
    "    \"Q_process_BOP\",\n",
    "    label_fr=\"Quantité de process material utilisé pour le BOP de 1MW\",\n",
    "    distrib=DistributionType.FIXED,\n",
    "    default=200,\n",
    "    unit=\"kg\",\n",
    "    group=\"production\")\n",
    "    \n",
    "Q_concrete_BOP = newFloatParam(\n",
    "    \"Q_concrete_BOP\",\n",
    "    label_fr=\"Quantité de concrete utilisé pour le BOP de 1MW\",\n",
    "    distrib=DistributionType.FIXED,\n",
    "    default=5600,\n",
    "    unit=\"kg\",\n",
    "    group=\"production\")"
   ]
  },
  {
   "cell_type": "code",
   "execution_count": null,
   "metadata": {},
   "outputs": [],
   "source": [
    "#Creation de l'electrolyseur\n",
    "PEM_stack = newActivity(USER_DB, \"Electrolyse de l'eau - PEM stack\", \"unit\")\n",
    "PEM_stack.addExchanges({ \n",
    "    \n",
    "    #Installation STACK\n",
    "    titanium:Q_titanium_stack,\n",
    "    aluminium:Q_aluminium_stack,\n",
    "    acier_inoxydable:Q_acier_stack,\n",
    "    cuivre:Q_cuivre_stack,\n",
    "    nafion:Q_nafion_stack,\n",
    "    charbon_actif:Q_charbon_stack,\n",
    "    iridium:Q_iridium_stack,\n",
    "    platinium:Q_platinium_stack,\n",
    "})\n",
    " \n",
    "PEM_BOP = newActivity(USER_DB, \"Electrolyse de l'eau - PEM BOP\", \"unit\")\n",
    "PEM_BOP.addExchanges({ \n",
    "    \n",
    "    #Installation BOP\n",
    "    aluminium:Q_aluminium_BOP,\n",
    "    cuivre:Q_cuivre_BOP,\n",
    "    low_alloyed_steel:Q_low_steel_BOP,\n",
    "    high_alloyed_steel:Q_high_steel_BOP,\n",
    "    plastic_PE:Q_plastic_BOP*0.71875, \n",
    "    plastic_PPR:Q_plastic_BOP*0.28125,\n",
    "    electronic:Q_electronic_BOP,\n",
    "    process_material:Q_process_BOP,\n",
    "    concrete:Q_concrete_BOP  \n",
    "})\n",
    "# share between PE and PPR is estimated from https://www.plasticseurope.org/application/files/9715/7129/9584/FINAL_web_version_Plastics_the_facts2019_14102019.pdf\n",
    "\n",
    "printAct(PEM_stack)\n",
    "printAct(PEM_BOP)"
   ]
  },
  {
   "cell_type": "code",
   "execution_count": null,
   "metadata": {},
   "outputs": [],
   "source": [
    "# end of life treatment of the PEM stack and BOP\n",
    "w_municipal = findTechAct('market for municipal solid waste',loc='FR')\n",
    "w_actcarbon_gen = findTechAct('market for spent activated carbon, granular')#\n",
    "w_actcarbon_treat = findTechAct('treatment of spent activated carbon, granular from hard coal, reactivation',loc='RER')#\n",
    "w_actcarbon_replace = findTechAct('activated carbon production, granular from hard coal', 'RER')\n",
    "\n",
    "w_aluminium = findTechAct('market for scrap aluminium',loc='Europe without Switzerland') #\n",
    "w_copper = findTechAct('market for scrap copper',loc='Europe without Switzerland')#\n",
    "w_chromium_steel = findTechAct('market for scrap steel',loc='Europe without Switzerland')#                   \n",
    "w_electronics = findTechAct('treatment of electronics scrap from control units',loc='RER')#\n",
    "w_plastic = findTechAct('market for waste plastic, mixture',loc='FR')#\n",
    "\n"
   ]
  },
  {
   "cell_type": "code",
   "execution_count": null,
   "metadata": {},
   "outputs": [],
   "source": [
    "# The end of life of the stack\n",
    "PEM_stack_EoL = newActivity(USER_DB,\n",
    "                                  \"PEM_stack_EoL\", \n",
    "                                  \"unit\",\n",
    "                                     exchanges={\n",
    "                                        w_municipal:-(Q_titanium_stack+\n",
    "                                         Q_iridium_stack+Q_platinium_stack+\n",
    "                                         Q_nafion_stack),\n",
    "                                        w_aluminium:-Q_aluminium_stack,\n",
    "                                        w_chromium_steel:-Q_acier_stack,\n",
    "                                        w_copper:-Q_cuivre_stack,\n",
    "                                        w_actcarbon_gen:Q_charbon_stack,\n",
    "                                        w_actcarbon_treat:Q_charbon_stack,\n",
    "                                        w_actcarbon_replace:-Q_charbon_stack\n",
    "                                     })\n",
    "# The end of life of BOP (concrete is considered to be reamined on site)\n",
    "PEM_BOP_EoL = newActivity(USER_DB,\n",
    "                                  \"PEM_BOP_EoL\", \n",
    "                                  \"unit\",\n",
    "                                     exchanges={\n",
    "                                        w_aluminium:-Q_aluminium_BOP,\n",
    "                                        w_chromium_steel:-(Q_low_steel_BOP+Q_high_steel_BOP),\n",
    "                                        w_copper:-Q_cuivre_BOP,\n",
    "                                        waste_oil: -Q_process_BOP,\n",
    "                                        w_electronics : -Q_electronic_BOP,\n",
    "                                        w_plastic : -Q_plastic_BOP\n",
    "                                     })"
   ]
  },
  {
   "cell_type": "code",
   "execution_count": null,
   "metadata": {},
   "outputs": [],
   "source": [
    "# transport of electrolyzer stack and BOP to H2 production site\n",
    "\n",
    "PEM_stack_lorry = d_lorry_stack*(Q_titanium_stack + Q_aluminium_stack + Q_acier_stack + Q_cuivre_stack + Q_nafion_stack + Q_charbon_stack+ Q_iridium_stack+ Q_platinium_stack) \n",
    "PEM_stack_train = d_train_stack*(Q_titanium_stack + Q_aluminium_stack + Q_acier_stack + Q_cuivre_stack + Q_nafion_stack + Q_charbon_stack+ Q_iridium_stack+ Q_platinium_stack) \n",
    "\n",
    "PEM_BOP_lorry = d_lorry_BOP*(Q_aluminium_BOP + Q_cuivre_BOP + Q_low_steel_BOP + Q_high_steel_BOP + Q_plastic_BOP + Q_electronic_BOP + Q_process_BOP)\n",
    "PEM_BOP_train = d_train_BOP*(Q_aluminium_BOP + Q_cuivre_BOP + Q_low_steel_BOP + Q_high_steel_BOP + Q_plastic_BOP + Q_electronic_BOP + Q_process_BOP)\n",
    "\n",
    "\n",
    "PEM_stack_transport = newActivity(USER_DB, \"PEM_stack_transport\", \"ton kilometer\")\n",
    "# Les échanges sont définis comme un dictionnaire de \n",
    "# <activité> : <quantité>\n",
    "PEM_stack_transport.addExchanges({ \n",
    "    \n",
    "    # Transport pv panels\n",
    "    Transport_lorry :  PEM_stack_lorry/1000,\n",
    "    Transport_train :  PEM_stack_train/1000\n",
    "})\n",
    "\n",
    "PEM_BOP_transport = newActivity(USER_DB, \"PEM_BOP_transport\", \"ton kilometer\")\n",
    "# Les échanges sont définis comme un dictionnaire de \n",
    "# <activité> : <quantité>\n",
    "PEM_BOP_transport.addExchanges({ \n",
    "    \n",
    "    # Transport pv panels\n",
    "    Transport_lorry :  PEM_BOP_lorry/1000,\n",
    "    Transport_train :  PEM_BOP_lorry/1000\n",
    "})"
   ]
  },
  {
   "cell_type": "code",
   "execution_count": null,
   "metadata": {},
   "outputs": [],
   "source": [
    "solar_PEM_stack_FU = newActivity(USER_DB, \"PEM stack needed in solar-to-H2 pathway per FU\", \"MJ H_2 produced\")\n",
    "# Les échanges sont définis comme un dictionnaire de \n",
    "# <activité> : <quantité>\n",
    "solar_PEM_stack_FU.addExchanges({ \n",
    "    \n",
    "    \n",
    "    PEM_stack : Capacity_electrolyzer_solar/(1000) * PVlife/PEMstack_life_year_solar,\n",
    "    \n",
    "    PEM_stack_EoL : Capacity_electrolyzer_solar/(1000) * PVlife/PEMstack_life_year_solar,\n",
    "    \n",
    "    PEM_stack_transport : Capacity_electrolyzer_solar/(1000) * PVlife/PEMstack_life_year_solar,\n",
    "    \n",
    "})"
   ]
  },
  {
   "cell_type": "code",
   "execution_count": null,
   "metadata": {},
   "outputs": [],
   "source": [
    "solar_PEM_BOP_FU = newActivity(USER_DB, \"PEM BOP needed in solar-to-H2 pathway per FU\", \"MJ H_2 produced\")\n",
    "# Les échanges sont définis comme un dictionnaire de \n",
    "# <activité> : <quantité>\n",
    "solar_PEM_BOP_FU.addExchanges({ \n",
    "    \n",
    "    # Transport pv panels\n",
    "    \n",
    "    PEM_BOP :  Capacity_electrolyzer_solar/(1000) * PVlife/BOP_life,\n",
    "    \n",
    "    PEM_BOP_EoL : Capacity_electrolyzer_solar/(1000) * PVlife/BOP_life,\n",
    "    \n",
    "    PEM_BOP_transport : Capacity_electrolyzer_solar/(1000) * PVlife/BOP_life\n",
    "})"
   ]
  },
  {
   "cell_type": "code",
   "execution_count": null,
   "metadata": {},
   "outputs": [],
   "source": [
    "wind_PEM_stack_FU = newActivity(USER_DB, \"PEM stack needed in wind-to-H2 pathway per FU\", \"MJ H_2 produced\")\n",
    "# Les échanges sont définis comme un dictionnaire de \n",
    "# <activité> : <quantité>\n",
    "wind_PEM_stack_FU.addExchanges({ \n",
    "    \n",
    "    # Transport pv panels\n",
    "    PEM_stack : Capacity_electrolyzer_wind/(1000) * Turbine_life/PEMstack_life_year_wind,\n",
    "    \n",
    "    PEM_stack_EoL : Capacity_electrolyzer_wind/(1000) * Turbine_life/PEMstack_life_year_wind,\n",
    "    \n",
    "    PEM_stack_transport : Capacity_electrolyzer_wind/(1000) * Turbine_life/PEMstack_life_year_wind,\n",
    "   \n",
    "})"
   ]
  },
  {
   "cell_type": "code",
   "execution_count": null,
   "metadata": {},
   "outputs": [],
   "source": [
    "wind_PEM_BOP_FU = newActivity(USER_DB, \"PEM BOP needed in wind-to-H2 pathway per FU\", \"MJ H_2 produced\")\n",
    "# Les échanges sont définis comme un dictionnaire de \n",
    "# <activité> : <quantité>\n",
    "wind_PEM_BOP_FU.addExchanges({ \n",
    "    \n",
    "    # Transport pv panels\n",
    "    \n",
    "    PEM_BOP :  Capacity_electrolyzer_wind/(1000) * Turbine_life/BOP_life,\n",
    "    \n",
    "    PEM_BOP_EoL : Capacity_electrolyzer_wind/(1000) * Turbine_life/BOP_life,\n",
    "    \n",
    "    PEM_BOP_transport : Capacity_electrolyzer_wind/(1000) * Turbine_life/BOP_life\n",
    "})"
   ]
  },
  {
   "cell_type": "markdown",
   "metadata": {},
   "source": [
    "### Alkaline membrane electrolyser "
   ]
  },
  {
   "cell_type": "code",
   "execution_count": null,
   "metadata": {},
   "outputs": [],
   "source": [
    "findTechAct('fuel cell production, stack solid oxide, 125kW electrical, future',single=False)"
   ]
  },
  {
   "cell_type": "code",
   "execution_count": null,
   "metadata": {
    "scrolled": true
   },
   "outputs": [],
   "source": [
    "AE_stack = copyActivity(USER_DB,\n",
    "                             findTechAct('fuel cell production, stack solid oxide, 125kW electrical, future',loc='CH'),\n",
    "                             'alkaline electrolyser stack adapted from SOFC fuel cell')\n",
    "\n",
    "nickel = findTechAct('market for nickel, 99.5%')\n",
    "KOH = findTechAct('market for electrolyte, KOH, LiOH additive')\n",
    "\n",
    "AE_stack.updateExchanges({\n",
    "    'lanthanum oxide':dict(name=\"market for nickel, 99.5%\",input=nickel),\n",
    "    'zirconium oxide':dict(name=\"KOH\",input=KOH)\n",
    "})\n",
    "\n",
    "printAct(AE_stack)"
   ]
  },
  {
   "cell_type": "code",
   "execution_count": null,
   "metadata": {
    "scrolled": false
   },
   "outputs": [],
   "source": [
    "weight_stack_alkaline_ecoinvent_kg = 0\n",
    "for exc in AE_stack.exchanges():\n",
    "    if exc['unit'] == \"kilogram\":\n",
    "        if 'waste' not in exc['name']:\n",
    "            if 'coke' not in exc['name']:\n",
    "                if exc['type']=='technosphere':\n",
    "                    if 'water' not in exc['name']:\n",
    "                        if 'urea' not in exc['name']: #urea is the \"fuel\" to power the SOFC\n",
    "                            print(exc['name'])\n",
    "                            print(exc['amount'])\n",
    "                            weight_stack_alkaline_ecoinvent_kg = weight_stack_alkaline_ecoinvent_kg+exc['amount']\n",
    "weight_stack_alkaline_ecoinvent_kg"
   ]
  },
  {
   "cell_type": "code",
   "execution_count": null,
   "metadata": {},
   "outputs": [],
   "source": [
    "# transport of electrolyzer stack to H2 production site\n",
    "AE_stack_lorry = d_lorry_stack* weight_stack_alkaline_ecoinvent_kg\n",
    "AE_stack_train = d_train_stack* weight_stack_alkaline_ecoinvent_kg\n",
    "\n",
    "AE_stack_transport = newActivity(USER_DB, \"AE_stack_transport\", \"ton kilometer\")\n",
    "# Les échanges sont définis comme un dictionnaire de \n",
    "# <activité> : <quantité>\n",
    "AE_stack_transport.addExchanges({ \n",
    "    \n",
    "    # Transport pv panels\n",
    "    Transport_lorry :  AE_stack_lorry/1000,\n",
    "    Transport_train :  AE_stack_train/1000\n",
    "    \n",
    "})"
   ]
  },
  {
   "cell_type": "code",
   "execution_count": null,
   "metadata": {},
   "outputs": [],
   "source": [
    "# The end of life treatment of the alkaline stack is already included in the ecoinvent database. "
   ]
  },
  {
   "cell_type": "code",
   "execution_count": null,
   "metadata": {},
   "outputs": [],
   "source": [
    "solar_AE_stack_FU = newActivity(USER_DB, \"AE stack needed in solar-to-H2 pathway per FU\", \"MJ H_2 produced\")\n",
    "# Les échanges sont définis comme un dictionnaire de \n",
    "# <activité> : <quantité>\n",
    "solar_AE_stack_FU.addExchanges({ \n",
    "    \n",
    "    # Transport pv panels\n",
    "    AE_stack : Capacity_electrolyzer_solar/(125) * PVlife/AEstack_life_year_solar,\n",
    "    \n",
    "    \n",
    "    \n",
    "    \n",
    "    AE_stack_transport : Capacity_electrolyzer_solar/(125) * PVlife/AEstack_life_year_solar,\n",
    "    \n",
    "})"
   ]
  },
  {
   "cell_type": "code",
   "execution_count": null,
   "metadata": {},
   "outputs": [],
   "source": [
    "solar_AE_BOP_FU = newActivity(USER_DB, \"AE BOP needed in solar-to-H2 pathway per FU\", \"MJ H_2 produced\")\n",
    "# Les échanges sont définis comme un dictionnaire de \n",
    "# <activité> : <quantité>\n",
    "solar_AE_BOP_FU.addExchanges({ \n",
    "    \n",
    "    # Transport pv panels\n",
    "    \n",
    "    PEM_BOP :  Capacity_electrolyzer_solar/(1000) * PVlife/BOP_life,\n",
    "    \n",
    "    PEM_BOP_EoL : Capacity_electrolyzer_solar/(1000) * PVlife/BOP_life,\n",
    "    \n",
    "    \n",
    "    PEM_BOP_transport : Capacity_electrolyzer_solar/(1000) * PVlife/BOP_life\n",
    "})"
   ]
  },
  {
   "cell_type": "code",
   "execution_count": null,
   "metadata": {},
   "outputs": [],
   "source": [
    "wind_AE_stack_FU = newActivity(USER_DB, \"AE stack needed in wind-to-H2 pathway per FU\", \"MJ H_2 produced\")\n",
    "# Les échanges sont définis comme un dictionnaire de \n",
    "# <activité> : <quantité>\n",
    "wind_AE_stack_FU.addExchanges({ \n",
    "    \n",
    "    # Transport pv panels\n",
    "    AE_stack : Capacity_electrolyzer_wind/(125) * Turbine_life/AEstack_life_year_wind,\n",
    "   \n",
    "    \n",
    "   \n",
    "    \n",
    "    AE_stack_transport : Capacity_electrolyzer_wind/(125) * Turbine_life/AEstack_life_year_wind,\n",
    "    \n",
    "})"
   ]
  },
  {
   "cell_type": "code",
   "execution_count": null,
   "metadata": {},
   "outputs": [],
   "source": [
    "wind_AE_BOP_FU = newActivity(USER_DB, \"AE BOP needed in wind-to-H2 pathway per FU\", \"MJ H_2 produced\")\n",
    "# Les échanges sont définis comme un dictionnaire de \n",
    "# <activité> : <quantité>\n",
    "wind_AE_BOP_FU.addExchanges({ \n",
    "    \n",
    "    # Transport pv panels\n",
    "    \n",
    "    PEM_BOP :  Capacity_electrolyzer_wind/(1000) * Turbine_life/BOP_life,\n",
    "    \n",
    "    PEM_BOP_EoL : Capacity_electrolyzer_wind/(1000) * Turbine_life/BOP_life,\n",
    "    \n",
    "    \n",
    "    PEM_BOP_transport : Capacity_electrolyzer_wind/(1000) * Turbine_life/BOP_life\n",
    "})"
   ]
  },
  {
   "cell_type": "markdown",
   "metadata": {},
   "source": [
    "### Diaphragm compressor unit"
   ]
  },
  {
   "cell_type": "code",
   "execution_count": null,
   "metadata": {},
   "outputs": [],
   "source": [
    "elegancy_fg = bw2io.importers.excel.ExcelImporter(r\"C:\\Users\\DELL\\学术\\IEA_test.xlsx\")\n",
    "elegancy_fg.apply_strategies()\n",
    "elegancy_fg.match_database(\"ecoinvent 3.6\", fields=('name','unit','location','reference product'))\n",
    "elegancy_fg.statistics()\n",
    "elegancy_fg.write_excel(only_unlinked=True)\n",
    "list(elegancy_fg.unlinked)"
   ]
  },
  {
   "cell_type": "code",
   "execution_count": null,
   "metadata": {},
   "outputs": [],
   "source": [
    "elegancy_fg.match_database(fields=('name','unit','location'))"
   ]
  },
  {
   "cell_type": "code",
   "execution_count": null,
   "metadata": {},
   "outputs": [],
   "source": [
    "elegancy_fg.statistics()"
   ]
  },
  {
   "cell_type": "code",
   "execution_count": null,
   "metadata": {},
   "outputs": [],
   "source": [
    "elegancy_fg.write_database()\n",
    "database = Database(\"IEA-PVPS-LCI-19\")"
   ]
  },
  {
   "cell_type": "code",
   "execution_count": null,
   "metadata": {},
   "outputs": [],
   "source": [
    "# The import only need once\n",
    "# The import may take a long time.\n",
    "#TODO: Please adapt path to point to the correct excel workbook and sheet. If you don't copy the sheet into an own \n",
    "#workbook, please make sure that all other sheets in the workbook are skipped. \n",
    "elegancy_fg = bw2io.importers.excel.ExcelImporter(r\"C:\\Users\\DELL\\学术\\IEA_test_thin.xlsx\")\n",
    "elegancy_fg.apply_strategies()\n",
    "elegancy_fg.match_database(\"ecoinvent 3.6\", fields=('name','unit','location','reference product'))\n",
    "elegancy_fg.statistics()\n",
    "elegancy_fg.write_excel(only_unlinked=True)\n",
    "list(elegancy_fg.unlinked)"
   ]
  },
  {
   "cell_type": "code",
   "execution_count": null,
   "metadata": {},
   "outputs": [],
   "source": [
    "elegancy_fg.match_database(fields=('name','unit','location'))"
   ]
  },
  {
   "cell_type": "code",
   "execution_count": null,
   "metadata": {},
   "outputs": [],
   "source": [
    "elegancy_fg.statistics()"
   ]
  },
  {
   "cell_type": "code",
   "execution_count": null,
   "metadata": {},
   "outputs": [],
   "source": [
    "elegancy_fg.write_database()\n",
    "database = Database(\"IEA-PVPS-ThinfilmPV\")"
   ]
  },
  {
   "cell_type": "code",
   "execution_count": null,
   "metadata": {},
   "outputs": [],
   "source": [
    "SIPV_IEA2020 = bw.Database('IEA-PVPS-LCI-19')\n",
    "thinflimPV_IEA2020 = bw.Database('IEA-PVPS-ThinfilmPV')"
   ]
  },
  {
   "cell_type": "code",
   "execution_count": null,
   "metadata": {},
   "outputs": [],
   "source": [
    "diaphragm_compressor_init = [act for act in SIPV_IEA2020 if 'diaphragm compressor module, high pressure' in act['name'] \n",
    "                                and 'GLO' in act['location']\n",
    "           ][0]\n",
    "\n",
    "diaphragm_compressor = copyActivity(\n",
    "    USER_DB, # base utilisateur\n",
    "    diaphragm_compressor_init, # activité initiale \n",
    "    'diaphragm compressor module, high pressure-adjusted') # Nouveau nom\n",
    "\n",
    "\n",
    "diaphragm_compressor"
   ]
  },
  {
   "cell_type": "code",
   "execution_count": null,
   "metadata": {},
   "outputs": [],
   "source": [
    "compressor_container = [act for act in SIPV_IEA2020 if 'container, with pipes and fittings, for diaphragm compressor' in act['name'] \n",
    "                                and 'RER' in act['location']\n",
    "           ][0]\n",
    "compressor_container"
   ]
  },
  {
   "cell_type": "code",
   "execution_count": null,
   "metadata": {},
   "outputs": [],
   "source": [
    "weight_compressor_container_kg = 0\n",
    "for exc in compressor_container.exchanges():\n",
    "    if exc['unit'] == \"kilogram\":\n",
    "        if 'sheet rolling' not in exc['name']:\n",
    "            if exc['type']=='technosphere':\n",
    "                if 'water' not in exc['name']:\n",
    "                    print(exc['name'])\n",
    "                    print(exc['amount'])\n",
    "                    weight_compressor_container_kg = weight_compressor_container_kg+exc['amount']\n",
    "weight_compressor_container_kg\n",
    "\n",
    "Q_reinforcing_steel_container = 1000\n",
    "Q_chromium_steel_container = 1500"
   ]
  },
  {
   "cell_type": "code",
   "execution_count": null,
   "metadata": {},
   "outputs": [],
   "source": [
    "compressor_diaphragms = [act for act in SIPV_IEA2020 if 'diaphragms, for diaphragm compressor' in act['name'] \n",
    "                                and 'RER' in act['location']\n",
    "           ][0]\n",
    "compressor_diaphragms"
   ]
  },
  {
   "cell_type": "code",
   "execution_count": null,
   "metadata": {},
   "outputs": [],
   "source": [
    "weight_compressor_diaphragms_kg = 0\n",
    "for exc in compressor_diaphragms.exchanges():\n",
    "    if exc['unit'] == \"kilogram\":\n",
    "        if 'sheet rolling' not in exc['name']:\n",
    "            if 'sheet rolling' not in exc['name']:\n",
    "                if exc['type']=='technosphere':\n",
    "                    if 'ethylene glycol' not in exc['name']:\n",
    "                        print(exc['name'])\n",
    "                        print(exc['amount'])\n",
    "                        weight_compressor_diaphragms_kg = weight_compressor_diaphragms_kg+exc['amount']\n",
    "weight_compressor_diaphragms_kg\n",
    "\n",
    "Q_reinforcing_steel_diaphragms = 1300\n",
    "Q_chromium_steel_diaphragms = 405\n",
    "Q_iron_diaphragms = 600"
   ]
  },
  {
   "cell_type": "code",
   "execution_count": null,
   "metadata": {},
   "outputs": [],
   "source": [
    "compressor_converter = [act for act in SIPV_IEA2020 if 'frequency converter, for diaphragm compressor' in act['name'] \n",
    "                                and 'RER' in act['location']\n",
    "           ][0]\n",
    "compressor_converter"
   ]
  },
  {
   "cell_type": "code",
   "execution_count": null,
   "metadata": {
    "scrolled": true
   },
   "outputs": [],
   "source": [
    "weight_compressor_converter_kg = 0\n",
    "for exc in compressor_converter.exchanges():\n",
    "    if exc['unit'] == \"kilogram\":\n",
    "        if 'sheet rolling' not in exc['name']:\n",
    "            if 'sheet rolling' not in exc['name']:\n",
    "                if exc['type']=='technosphere':\n",
    "                    if 'ethylene glycol' not in exc['name']:\n",
    "                        if 'wire drawing' not in exc['name']:\n",
    "                            print(exc['name'])\n",
    "                            print(exc['amount'])\n",
    "                            weight_compressor_converter_kg = weight_compressor_converter_kg+exc['amount']\n",
    "weight_compressor_converter_kg\n",
    "\n",
    "Q_reinforcing_steel_converter = 180\n",
    "Q_copper_converter = 45\n",
    "Q_aluminium_converter = 60\n",
    "Q_plastic_converter = 15"
   ]
  },
  {
   "cell_type": "code",
   "execution_count": null,
   "metadata": {},
   "outputs": [],
   "source": [
    "# The end of life treatment of diaphragm compressor container\n",
    "compressor_container_EoL = newActivity(USER_DB,\n",
    "                                  \"end of life treatment of diaphragm compressor container\", \n",
    "                                  \"unit\",\n",
    "                                     exchanges={\n",
    "                                         w_chromium_steel:-(Q_chromium_steel_container + Q_reinforcing_steel_container),\n",
    "                                         \n",
    "                                     })"
   ]
  },
  {
   "cell_type": "code",
   "execution_count": null,
   "metadata": {},
   "outputs": [],
   "source": [
    "# The end of life treatment of diaphragm in diaphragm compressor\n",
    "compressor_diaphragm_EoL = newActivity(USER_DB,\n",
    "                                  \"The end of life treatment of diaphragm in diaphragm compressor\", \n",
    "                                  \"unit\",\n",
    "                                     exchanges={\n",
    "                                         w_chromium_steel:-(Q_chromium_steel_diaphragms + Q_reinforcing_steel_diaphragms + Q_iron_diaphragms),\n",
    "                                          \n",
    "                                     })"
   ]
  },
  {
   "cell_type": "code",
   "execution_count": null,
   "metadata": {},
   "outputs": [],
   "source": [
    "# The end of life treatment of converter unit in diaphragm compressor\n",
    "compressor_converter_EoL = newActivity(USER_DB,\n",
    "                                  \"The end of life treatment of converter unit in diaphragm compressor\", \n",
    "                                  \"unit\",\n",
    "                                     exchanges={\n",
    "                                         w_chromium_steel: -Q_reinforcing_steel_converter,\n",
    "                                         w_copper: -Q_copper_converter,\n",
    "                                         w_aluminium : -Q_aluminium_converter,\n",
    "                                         w_plastic : -Q_plastic_converter\n",
    "                                     })"
   ]
  },
  {
   "cell_type": "code",
   "execution_count": null,
   "metadata": {},
   "outputs": [],
   "source": [
    "#transport of the diaphragm compressor unit to H2 production site\n",
    "\n",
    "compressor_lorry = d_lorry_BOP * (weight_compressor_container_kg + weight_compressor_diaphragms_kg + weight_compressor_converter_kg)\n",
    "compressor_train = d_train_BOP* (weight_compressor_container_kg + weight_compressor_diaphragms_kg + weight_compressor_converter_kg)\n",
    "\n",
    "compressor_transport = newActivity(USER_DB, \"compressor_transport\", \"ton kilometer\")\n",
    "# Les échanges sont définis comme un dictionnaire de \n",
    "# <activité> : <quantité>\n",
    "compressor_transport.addExchanges({ \n",
    "    \n",
    "    # Transport pv panels\n",
    "    Transport_lorry :  compressor_lorry/1000,\n",
    "    Transport_train :  compressor_train/1000\n",
    "    \n",
    "})"
   ]
  },
  {
   "cell_type": "code",
   "execution_count": null,
   "metadata": {},
   "outputs": [],
   "source": [
    "compressor_FU_solar = newActivity(USER_DB, \"compressor unit needed in solar-to-H2 pathway per FU\", \"MJ H_2 produced\")\n",
    "# Les échanges sont définis comme un dictionnaire de \n",
    "# <activité> : <quantité>\n",
    "compressor_FU_solar.addExchanges({ \n",
    "    \n",
    "    diaphragm_compressor : Compressor_unit_FU_solar,\n",
    "    \n",
    "    compressor_container_EoL : Compressor_unit_FU_solar,\n",
    "    compressor_diaphragm_EoL : Compressor_unit_FU_solar,\n",
    "    compressor_converter_EoL : Compressor_unit_FU_solar,\n",
    "    \n",
    "    compressor_transport : Compressor_unit_FU_solar,\n",
    "    \n",
    "    \n",
    "})"
   ]
  },
  {
   "cell_type": "code",
   "execution_count": null,
   "metadata": {},
   "outputs": [],
   "source": [
    "compressor_FU_wind = newActivity(USER_DB, \"compressor unit needed in wind-to-H2 pathway per FU\", \"MJ H_2 produced\")\n",
    "# Les échanges sont définis comme un dictionnaire de \n",
    "# <activité> : <quantité>\n",
    "compressor_FU_wind.addExchanges({ \n",
    "    \n",
    "    diaphragm_compressor : Compressor_unit_FU_wind,\n",
    "    \n",
    "    compressor_container_EoL : Compressor_unit_FU_wind,\n",
    "    compressor_diaphragm_EoL : Compressor_unit_FU_wind,\n",
    "    compressor_converter_EoL : Compressor_unit_FU_wind,\n",
    "    \n",
    "    compressor_transport : Compressor_unit_FU_wind,\n",
    "    \n",
    "    \n",
    "})"
   ]
  },
  {
   "cell_type": "markdown",
   "metadata": {},
   "source": [
    "# RE-to-H2 global lifecycle inventory "
   ]
  },
  {
   "cell_type": "code",
   "execution_count": null,
   "metadata": {},
   "outputs": [],
   "source": [
    "solar_PEM_FU = newActivity(USER_DB, \"Water electrolysis H2 production from French national solar electricity mix 2019(PEM electrolyzer)\", \"MJ H2 produced\")\n",
    "# Les échanges sont définis comme un dictionnaire de \n",
    "# <activité> : <quantité>\n",
    "solar_PEM_FU.addExchanges({ \n",
    "    \n",
    "    pv_elecmix_FU : 1,\n",
    "    \n",
    "    solar_PEM_stack_FU : 1,\n",
    "    \n",
    "    solar_PEM_BOP_FU : 1,\n",
    "    compressor_FU_solar : 1,\n",
    "    \n",
    "    deionised_water : water_FU\n",
    "    \n",
    "})"
   ]
  },
  {
   "cell_type": "code",
   "execution_count": null,
   "metadata": {},
   "outputs": [],
   "source": [
    "wind_PEM_FU = newActivity(USER_DB, \"Water electrolysis H2 production from French national wind electricity mix 2019(PEM electrolyzer)\", \"MJ H2 produced\")\n",
    "# Les échanges sont définis comme un dictionnaire de \n",
    "# <activité> : <quantité>\n",
    "wind_PEM_FU.addExchanges({ \n",
    "    \n",
    "    wind_elecmix_FU : 1,\n",
    "    \n",
    "    wind_PEM_stack_FU : 1,\n",
    " \n",
    "    wind_PEM_BOP_FU : 1,\n",
    "    compressor_FU_wind : 1,\n",
    "    \n",
    "    deionised_water : water_FU\n",
    "})"
   ]
  },
  {
   "cell_type": "code",
   "execution_count": null,
   "metadata": {},
   "outputs": [],
   "source": [
    "solar_AE_FU = newActivity(USER_DB, \"Water electrolysis H2 production from French national solar electricity mix 2019(AE electrolyzer)\", \"MJ H2 produced\")\n",
    "# Les échanges sont définis comme un dictionnaire de \n",
    "# <activité> : <quantité>\n",
    "solar_AE_FU.addExchanges({ \n",
    "    \n",
    "    pv_elecmix_FU : 1,\n",
    "    \n",
    "    solar_AE_stack_FU : 1,\n",
    "    \n",
    "    solar_AE_BOP_FU : 1,\n",
    "    compressor_FU_solar : 1,\n",
    "    \n",
    "    deionised_water : water_FU\n",
    "})"
   ]
  },
  {
   "cell_type": "code",
   "execution_count": null,
   "metadata": {},
   "outputs": [],
   "source": [
    "wind_AE_FU = newActivity(USER_DB, \"Water electrolysis H2 production from French national wind electricity mix 2019(AE electrolyzer)\", \"MJ H2 produced\")\n",
    "# Les échanges sont définis comme un dictionnaire de \n",
    "# <activité> : <quantité>\n",
    "wind_AE_FU.addExchanges({ \n",
    "    \n",
    "    wind_elecmix_FU : 1,\n",
    "    \n",
    "    wind_AE_stack_FU : 1,\n",
    " \n",
    "    wind_AE_BOP_FU : 1,\n",
    "    compressor_FU_wind : 1,\n",
    "    \n",
    "    deionised_water : water_FU\n",
    "})"
   ]
  },
  {
   "cell_type": "markdown",
   "metadata": {},
   "source": [
    "# squaring the Technosphere matrix "
   ]
  },
  {
   "cell_type": "code",
   "execution_count": null,
   "metadata": {
    "scrolled": true
   },
   "outputs": [],
   "source": [
    "for key in bw.databases :\n",
    "    db = bw.Database(key)\n",
    "    if key is \"biosphere3\" :\n",
    "        continue \n",
    "    for ds in db:\n",
    "        for prod_exc in ds.production():\n",
    "            if ((prod_exc['input'][1]) != ds['code']):\n",
    "                print(key, ds['name'],ds['code'],ds['location'],prod_exc['input'], prod_exc['name'])"
   ]
  },
  {
   "cell_type": "code",
   "execution_count": null,
   "metadata": {},
   "outputs": [],
   "source": [
    "db=bw.Database(\"FR_PV_H2_LCA\")\n",
    "ds=db.get(\"photovoltaic cell, single-Si, US, at regional storage-adjusted\")\n",
    "for prd in ds.production():\n",
    "    print(prd[\"input\"])\n",
    "    prd[\"input\"] = (\"FR_PV_H2_LCA\", \"photovoltaic cell, single-Si, US, at regional storage-adjusted\")\n",
    "    prd.save()"
   ]
  },
  {
   "cell_type": "code",
   "execution_count": null,
   "metadata": {},
   "outputs": [],
   "source": [
    "db=bw.Database(\"IEA-PVPS-LCI-19\")\n",
    "ds=db.get(\"db9d830c3abfa98e90269f9373f6ed58\")\n",
    "for prd in ds.production():\n",
    "    print(prd[\"input\"])\n",
    "    prd[\"input\"] = (\"IEA-PVPS-LCI-19\", \"db9d830c3abfa98e90269f9373f6ed58\")\n",
    "    prd.save()"
   ]
  },
  {
   "cell_type": "markdown",
   "metadata": {},
   "source": [
    "# Results calculation and interpretation"
   ]
  },
  {
   "cell_type": "markdown",
   "metadata": {},
   "source": [
    "## Uncertainty distribution and sobol indices"
   ]
  },
  {
   "cell_type": "code",
   "execution_count": null,
   "metadata": {
    "scrolled": false
   },
   "outputs": [],
   "source": [
    "para_solar_PEM_list=[Ratio_monoSi, Ratio_thinfilm,  \n",
    "           P_peak, Irradiation, PR, PVlife, \n",
    "           YLR, Elec_MonoSi_ingot, Elec_MultiSi_ingot, \n",
    "           GCR, PVInverter_life, \n",
    "           PVInverter_weight, Effi_electrolysis, PEM_stack_life, \n",
    "           BOP_life, H2_unit, Elec_H2_compress, \n",
    "           d_lorry_pv_plant, d_train_pv_plant,\n",
    "           d_lorry_stack, d_train_stack, d_lorry_BOP, d_train_BOP \n",
    "                     ]\n",
    "incer_stochastic_dashboard(solar_PEM_FU, methods, var_params=para_solar_PEM_list, figsize = (10, 15))"
   ]
  },
  {
   "cell_type": "code",
   "execution_count": null,
   "metadata": {
    "scrolled": true
   },
   "outputs": [],
   "source": [
    "para_solar_AE_list=[Ratio_monoSi, Ratio_thinfilm,  \n",
    "           P_peak, Irradiation, PR, PVlife, \n",
    "           YLR, Elec_MonoSi_ingot, Elec_MultiSi_ingot, \n",
    "           GCR, PVInverter_life, \n",
    "           PVInverter_weight, Effi_electrolysis, AE_stack_life,\n",
    "           BOP_life, H2_unit, Elec_H2_compress, \n",
    "           d_lorry_pv_plant, d_train_pv_plant,\n",
    "           d_lorry_stack, d_train_stack, d_lorry_BOP, d_train_BOP\n",
    "                     ]\n",
    "incer_stochastic_dashboard(solar_AE_FU, methods, var_params=para_solar_AE_list, figsize = (10, 15))"
   ]
  },
  {
   "cell_type": "code",
   "execution_count": null,
   "metadata": {
    "scrolled": true
   },
   "outputs": [],
   "source": [
    "para_wind_PEM_list=[Capacity_Offshore, Cf_Offshore, Cf_Onshore, \n",
    "                    Turbine_life, Ratio_1MWturbine_onshore, Ratio_3MWturbine_onshore, \n",
    "                    Wind_network_life, PEM_stack_life,\n",
    "                    Effi_electrolysis, BOP_life, H2_unit, Elec_H2_compress, \n",
    "                    Transport_ocean_wind,\n",
    "                    d_lorry_wind_plant, d_train_wind_plant,\n",
    "                    d_lorry_stack, d_train_stack, d_lorry_BOP, d_train_BOP\n",
    "                     ]\n",
    "incer_stochastic_dashboard(wind_PEM_FU, methods, var_params=para_wind_PEM_list, figsize = (10, 15))"
   ]
  },
  {
   "cell_type": "code",
   "execution_count": null,
   "metadata": {
    "scrolled": false
   },
   "outputs": [],
   "source": [
    "para_wind_AE_list=[Capacity_Offshore, Cf_Offshore, Cf_Onshore, \n",
    "                    Turbine_life, Ratio_1MWturbine_onshore, Ratio_3MWturbine_onshore, \n",
    "                    Wind_network_life, AE_stack_life,\n",
    "                    Effi_electrolysis, BOP_life, H2_unit, Elec_H2_compress, \n",
    "                    Transport_ocean_wind,\n",
    "                    d_lorry_wind_plant, d_train_wind_plant,\n",
    "                    d_lorry_stack, d_train_stack, d_lorry_BOP, d_train_BOP\n",
    "                     ]\n",
    "incer_stochastic_dashboard(wind_AE_FU, methods, var_params=para_wind_AE_list, figsize = (10, 15))"
   ]
  },
  {
   "cell_type": "markdown",
   "metadata": {},
   "source": [
    "## sceranio variation paramaters"
   ]
  },
  {
   "cell_type": "code",
   "execution_count": null,
   "metadata": {},
   "outputs": [],
   "source": [
    "elec_hydro = findTechAct('market for electricity, high voltage', 'NO')\n",
    "elec_hydro"
   ]
  },
  {
   "cell_type": "code",
   "execution_count": null,
   "metadata": {},
   "outputs": [],
   "source": [
    "elec_nuclear = findTechAct('market for electricity, high voltage', 'FR')\n",
    "elec_nuclear"
   ]
  },
  {
   "cell_type": "code",
   "execution_count": null,
   "metadata": {},
   "outputs": [],
   "source": [
    "elec_RER = findTechAct('market group for electricity, high voltage', 'RER')\n",
    "elec_RER"
   ]
  },
  {
   "cell_type": "code",
   "execution_count": null,
   "metadata": {},
   "outputs": [],
   "source": [
    "# hydro\n",
    "solar_PEM_FU = newActivity(USER_DB, \"Water electrolysis H2 production from French national solar electricity mix 2019(PEM electrolyzer)\", \"MJ H2 produced\")\n",
    "# Les échanges sont définis comme un dictionnaire de \n",
    "# <activité> : <quantité>\n",
    "solar_PEM_FU.addExchanges({ \n",
    "    \n",
    "    elec_hydro : Elec_H2_net/Effi_electrolysis/LHV_H2_MJ,\n",
    "    \n",
    "    solar_PEM_stack_FU : 1,\n",
    "    \n",
    "    solar_PEM_BOP_FU : 1,\n",
    "    compressor_FU_solar : 1,\n",
    "    \n",
    "    deionised_water : water_FU\n",
    "    \n",
    "})"
   ]
  },
  {
   "cell_type": "code",
   "execution_count": null,
   "metadata": {},
   "outputs": [],
   "source": [
    "# hydro\n",
    "solar_AE_FU = newActivity(USER_DB, \"Water electrolysis H2 production from French national solar electricity mix 2019(AE electrolyzer)\", \"MJ H2 produced\")\n",
    "# Les échanges sont définis comme un dictionnaire de \n",
    "# <activité> : <quantité>\n",
    "solar_AE_FU.addExchanges({ \n",
    "    \n",
    "    elec_hydro : Elec_H2_net/Effi_electrolysis/LHV_H2_MJ,\n",
    "    \n",
    "    solar_AE_stack_FU : 1,\n",
    "    \n",
    "    solar_AE_BOP_FU : 1,\n",
    "    compressor_FU_solar : 1,\n",
    "    \n",
    "    deionised_water : water_FU\n",
    "})"
   ]
  },
  {
   "cell_type": "code",
   "execution_count": null,
   "metadata": {},
   "outputs": [],
   "source": [
    "# nuclear\n",
    "solar_PEM_FU = newActivity(USER_DB, \"Water electrolysis H2 production from French national solar electricity mix 2019(PEM electrolyzer)\", \"MJ H2 produced\")\n",
    "# Les échanges sont définis comme un dictionnaire de \n",
    "# <activité> : <quantité>\n",
    "solar_PEM_FU.addExchanges({ \n",
    "    \n",
    "    elec_nuclear : Elec_H2_net/Effi_electrolysis/LHV_H2_MJ,\n",
    "    \n",
    "    solar_PEM_stack_FU : 1,\n",
    "    \n",
    "    solar_PEM_BOP_FU : 1,\n",
    "    compressor_FU_solar : 1,\n",
    "    \n",
    "    deionised_water : water_FU\n",
    "    \n",
    "})"
   ]
  },
  {
   "cell_type": "code",
   "execution_count": null,
   "metadata": {},
   "outputs": [],
   "source": [
    "# nuclear\n",
    "solar_AE_FU = newActivity(USER_DB, \"Water electrolysis H2 production from French national solar electricity mix 2019(AE electrolyzer)\", \"MJ H2 produced\")\n",
    "# Les échanges sont définis comme un dictionnaire de \n",
    "# <activité> : <quantité>\n",
    "solar_AE_FU.addExchanges({ \n",
    "    \n",
    "    elec_nuclear : Elec_H2_net/Effi_electrolysis/LHV_H2_MJ,\n",
    "    \n",
    "    solar_AE_stack_FU : 1,\n",
    "    \n",
    "    solar_AE_BOP_FU : 1,\n",
    "    compressor_FU_solar : 1,\n",
    "    \n",
    "    deionised_water : water_FU\n",
    "})"
   ]
  },
  {
   "cell_type": "code",
   "execution_count": null,
   "metadata": {},
   "outputs": [],
   "source": [
    "# RER\n",
    "solar_PEM_FU = newActivity(USER_DB, \"Water electrolysis H2 production from French national solar electricity mix 2019(PEM electrolyzer)\", \"MJ H2 produced\")\n",
    "# Les échanges sont définis comme un dictionnaire de \n",
    "# <activité> : <quantité>\n",
    "solar_PEM_FU.addExchanges({ \n",
    "    \n",
    "    elec_RER : Elec_H2_net/Effi_electrolysis/LHV_H2_MJ,\n",
    "    \n",
    "    solar_PEM_stack_FU : 1,\n",
    "    \n",
    "    solar_PEM_BOP_FU : 1,\n",
    "    compressor_FU_solar : 1,\n",
    "    \n",
    "    deionised_water : water_FU\n",
    "    \n",
    "})"
   ]
  },
  {
   "cell_type": "code",
   "execution_count": null,
   "metadata": {},
   "outputs": [],
   "source": [
    "# RER\n",
    "solar_AE_FU = newActivity(USER_DB, \"Water electrolysis H2 production from French national solar electricity mix 2019(AE electrolyzer)\", \"MJ H2 produced\")\n",
    "# Les échanges sont définis comme un dictionnaire de \n",
    "# <activité> : <quantité>\n",
    "solar_AE_FU.addExchanges({ \n",
    "    \n",
    "    elec_RER : Elec_H2_net/Effi_electrolysis/LHV_H2_MJ,\n",
    "    \n",
    "    solar_AE_stack_FU : 1,\n",
    "    \n",
    "    solar_AE_BOP_FU : 1,\n",
    "    compressor_FU_solar : 1,\n",
    "    \n",
    "    deionised_water : water_FU\n",
    "})"
   ]
  }
 ],
 "metadata": {
  "celltoolbar": "Format de la Cellule Texte Brut",
  "kernelspec": {
   "display_name": "Python 3 (ipykernel)",
   "language": "python",
   "name": "python3"
  },
  "language_info": {
   "codemirror_mode": {
    "name": "ipython",
    "version": 3
   },
   "file_extension": ".py",
   "mimetype": "text/x-python",
   "name": "python",
   "nbconvert_exporter": "python",
   "pygments_lexer": "ipython3",
   "version": "3.8.12"
  },
  "toc": {
   "base_numbering": 1,
   "nav_menu": {},
   "number_sections": true,
   "sideBar": true,
   "skip_h1_title": false,
   "title_cell": "Table of Contents",
   "title_sidebar": "Contents",
   "toc_cell": false,
   "toc_position": {
    "height": "calc(100% - 180px)",
    "left": "10px",
    "top": "150px",
    "width": "256.99px"
   },
   "toc_section_display": true,
   "toc_window_display": true
  },
  "varInspector": {
   "cols": {
    "lenName": 16,
    "lenType": 16,
    "lenVar": 40
   },
   "kernels_config": {
    "python": {
     "delete_cmd_postfix": "",
     "delete_cmd_prefix": "del ",
     "library": "var_list.py",
     "varRefreshCmd": "print(var_dic_list())"
    },
    "r": {
     "delete_cmd_postfix": ") ",
     "delete_cmd_prefix": "rm(",
     "library": "var_list.r",
     "varRefreshCmd": "cat(var_dic_list()) "
    }
   },
   "types_to_exclude": [
    "module",
    "function",
    "builtin_function_or_method",
    "instance",
    "_Feature"
   ],
   "window_display": false
  }
 },
 "nbformat": 4,
 "nbformat_minor": 4
}
